{
 "cells": [
  {
   "cell_type": "code",
   "execution_count": 1,
   "metadata": {
    "scrolled": true
   },
   "outputs": [
    {
     "data": {
      "text/html": [
       "<style>.container { width:100% !important; }</style>"
      ],
      "text/plain": [
       "<IPython.core.display.HTML object>"
      ]
     },
     "metadata": {},
     "output_type": "display_data"
    }
   ],
   "source": [
    "from IPython.core.display import display, HTML\n",
    "display(HTML(\"<style>.container { width:100% !important; }</style>\"))"
   ]
  },
  {
   "cell_type": "markdown",
   "metadata": {},
   "source": [
    "## Importing useful libraries"
   ]
  },
  {
   "cell_type": "code",
   "execution_count": 2,
   "metadata": {},
   "outputs": [],
   "source": [
    "import warnings\n",
    "warnings.filterwarnings('ignore')\n",
    "import sys\n",
    "import os\n",
    "import pandas as pd\n",
    "import numpy as np\n",
    "import joblib\n",
    "import multiprocessing as mp\n",
    "import json"
   ]
  },
  {
   "cell_type": "markdown",
   "metadata": {},
   "source": [
    "### Adding some paths to use from which we would be fetching useful modules like '/home/shared/utils' has db_utils module which is used to connect to the server without showing the credentials!!"
   ]
  },
  {
   "cell_type": "code",
   "execution_count": 24,
   "metadata": {},
   "outputs": [],
   "source": [
    "sys.path.insert(0, os.getcwd())\n",
    "sys.path.insert(0, '/home/shared/utils')\n",
    "sys.path.insert(0, '/home/vishal/refactoring_pipeline')"
   ]
  },
  {
   "cell_type": "markdown",
   "metadata": {},
   "source": [
    "### Helper function has fetch_checking_acct_txns which is used to check which account from all the available accounts of candidate is checking account. Similarly, EDA is used to get plots which are useful to analyse"
   ]
  },
  {
   "cell_type": "markdown",
   "metadata": {},
   "source": [
    "### Query function is now available where we dont even have to add credentials in the python dile to establish connection It uses a yaml config file to establish connection."
   ]
  },
  {
   "cell_type": "code",
   "execution_count": 38,
   "metadata": {},
   "outputs": [],
   "source": [
    "from db_utils import *\n",
    "from helper import fetch_checking_acct_txns\n",
    "import EDA as eda\n",
    "import query as q"
   ]
  },
  {
   "cell_type": "markdown",
   "metadata": {},
   "source": [
    "### NCPU is for multiprocessing. The function below takes all the CPU cores available in the system except 2 and if the system only has 2 cores, it uses only one of the cores to perform operations!!(FUn fact:The server which we are working on has 16 spu cores!!)"
   ]
  },
  {
   "cell_type": "code",
   "execution_count": 14,
   "metadata": {},
   "outputs": [],
   "source": [
    "NCPU = mp.cpu_count() - 2 if mp.cpu_count() > 2 else 1"
   ]
  },
  {
   "cell_type": "markdown",
   "metadata": {},
   "source": [
    "### Query to fetch required data from iloans!!"
   ]
  },
  {
   "cell_type": "code",
   "execution_count": 33,
   "metadata": {},
   "outputs": [],
   "source": [
    "def fetch_required_bank_reports(start, end):\n",
    "    query = f'''\n",
    "                SELECT\n",
    "                    LN.LoanId,\n",
    "                    GCD.TimeAdded,\n",
    "                    LN.OriginationDate,\n",
    "                    LN.FirstName,\n",
    "                    LN.LastName,\n",
    "                    LN.Campaign,\n",
    "                    LN.OriginalPrincipal,\n",
    "                    LN.ReUppedPrincipal,\n",
    "                    LN.DateOfBirth,\n",
    "                    LN.BankName,\n",
    "                    LN.MonthlyGrossIncome,\n",
    "                    LN.EmployerName,\n",
    "                    LN.IsFirstDefault,\n",
    "                    GCD.BankTransactionId,\n",
    "                    GCD.BankReportData\n",
    "                FROM view_FCL_Loan LN\n",
    "                LEFT JOIN view_FCL_GetCreditDataLoan GCDL on LN.LoanId = GCDL.LoanId\n",
    "                LEFT JOIN view_FCL_GetCreditData GCD on GCD.BankTransactionId = GCDL.BankTransactionId\n",
    "                WHERE LN.OriginationDate >= {start}\n",
    "                AND LN.OriginationDate <= {end}\n",
    "                AND LN.IsFirstDefault IS NOT NULL\n",
    "                AND LN.MerchantId IN (15, 18)\n",
    "                AND GCD.ReportStatus  = 'COMPLETE' \n",
    "            '''\n",
    "    df = q.iloans(query)\n",
    "    return df"
   ]
  },
  {
   "cell_type": "markdown",
   "metadata": {},
   "source": [
    "### Query to fetch the json data which has all the income related information from bankapp"
   ]
  },
  {
   "cell_type": "code",
   "execution_count": 40,
   "metadata": {},
   "outputs": [],
   "source": [
    "def fetch_required_bank_app(start, end):\n",
    "    query = f'''\n",
    "                SELECT\n",
    "                    loan_id as LoanId,\n",
    "                    json\n",
    "                FROM loan\n",
    "                WHERE campaign like '%Production%'\n",
    "                AND STR_TO_DATE(entered_date, '%m/%d/%Y') >= STR_TO_DATE({start}, '%Y-%m-%d')\n",
    "                AND STR_TO_DATE(entered_date, '%m/%d/%Y') <= STR_TO_DATE({end}, '%Y-%m-%d')\n",
    "             '''\n",
    "    df = q.bankapp(query)\n",
    "    return df"
   ]
  },
  {
   "cell_type": "markdown",
   "metadata": {},
   "source": [
    "### Fetching the primary checking account coz a candidate may have multiple checking accounts"
   ]
  },
  {
   "cell_type": "code",
   "execution_count": 17,
   "metadata": {},
   "outputs": [],
   "source": [
    "def get_primary_account(bankreport):\n",
    "    \"\"\"\n",
    "    Flag primary checking account (account having max transaction count)\n",
    "    \n",
    "    Args:\n",
    "    bankreport (json)\n",
    "    loanid (str)\n",
    "    \n",
    "    Returns:\n",
    "    account number (str) : account number of primary account\n",
    "    \"\"\"\n",
    "    df_txn = fetch_checking_acct_txns(bankreport)\n",
    "    if df_txn.empty is False:\n",
    "        df_txns_count = df_txn['account_number'].value_counts()\n",
    "        return df_txns_count.idxmax()"
   ]
  },
  {
   "cell_type": "markdown",
   "metadata": {},
   "source": [
    "### We would be working on only those applicants who have atleast 60 days of transactions, from the applied date"
   ]
  },
  {
   "cell_type": "code",
   "execution_count": 18,
   "metadata": {},
   "outputs": [],
   "source": [
    "def get_transaction_days_count(primary_account, bank_report):\n",
    "    \"\"\"Checks if number of transaction days >=60 given an account\n",
    "    \n",
    "    Args:\n",
    "    primary_account (str): Account number of primary account\n",
    "    bank_report (str): bank report string\n",
    "\n",
    "    Returns:\n",
    "    True or False (bool)\n",
    "    \"\"\" \n",
    "    df_checking_txns = fetch_checking_acct_txns(bank_report)\n",
    "    if df_checking_txns.empty is False:\n",
    "        df_primary_account_txns = df_checking_txns[df_checking_txns['account_number'] == primary_account]\n",
    "        df_primary_account_txns= df_primary_account_txns.sort_values(by = 'posted_date')\n",
    "        first_txn_date = df_primary_account_txns['posted_date'].iloc[0]\n",
    "        last_txn_date = df_primary_account_txns['posted_date'].iloc[-1]\n",
    "        txn_days_count = (last_txn_date - first_txn_date).days\n",
    "        return txn_days_count >= 60"
   ]
  },
  {
   "cell_type": "markdown",
   "metadata": {},
   "source": [
    "### The function below returns all the transactions for a candidate"
   ]
  },
  {
   "cell_type": "code",
   "execution_count": 19,
   "metadata": {},
   "outputs": [],
   "source": [
    "def get_transaction_time_series(primary_account, bank_report, loan_id):\n",
    "    \"\"\"Compute transactions of each day with the dates in timeseries format.\n",
    "\n",
    "    Args:\n",
    "    loan_id (float)\n",
    "    bank_report (str)\n",
    "    primary_acct (str)\n",
    "\n",
    "    Returns:\n",
    "    df_txns(pandas dataframe):\n",
    "    \"\"\"\n",
    "    df_checking_txns = fetch_checking_acct_txns(bank_report)\n",
    "    if df_checking_txns.empty is False:\n",
    "        df_txns = df_checking_txns.loc[df_checking_txns['account_number'] == primary_account, :]\n",
    "        df_txns['posted_date'] = pd.to_datetime(df_txns['posted_date'])\n",
    "        df_txns['LoanId'] = loan_id\n",
    "        return df_txns"
   ]
  },
  {
   "cell_type": "markdown",
   "metadata": {},
   "source": [
    "### This function returns the number of income sources and the income cycle of each income source separated by +. For ex, if income sources are 2, the income cycles would be like in_cycle1+in_cycle2, where in_cycle1 is the income cycle of the first income source and similarly the second part for the second income respectively"
   ]
  },
  {
   "cell_type": "code",
   "execution_count": 20,
   "metadata": {},
   "outputs": [],
   "source": [
    "def get_income_sources_and_cycle(json_string, loan_id):\n",
    "    try:\n",
    "        no_sources = json.loads(json_string)['incomeReview']['data']['incomeSources']\n",
    "        cycles = []\n",
    "        for income in range(int(no_sources)):\n",
    "            cycles.append(json.loads(json_string)['incomeReview']['data']['sources'][income]['incomeCycle'])\n",
    "        cycles = '+'.join(cycles)\n",
    "        return [loan_id, no_sources, cycles]\n",
    "    except:\n",
    "        return [0, 0, 0]"
   ]
  },
  {
   "cell_type": "markdown",
   "metadata": {},
   "source": [
    "### The below function checks that if payroll category is present in the candidates transaction, it would return all credit transactions that were not of income type. If we dont find any payroll type category, we would just check all the credit transactions"
   ]
  },
  {
   "cell_type": "code",
   "execution_count": 21,
   "metadata": {},
   "outputs": [],
   "source": [
    "def get_income(primary_acct, bank_report, loanid):\n",
    "    test_transact = get_transaction_time_series(primary_acct, bank_report, loanid).sort_values(by = 'posted_date').reset_index(drop = True)\n",
    "    test_transact['LoanId'] = loanid\n",
    "    if 'Payroll' in test_transact.category.unique():\n",
    "        test_inc = test_transact[(test_transact['amount'] > 0) & (test_transact['category'] != 'Income')][['posted_date', 'amount', 'category', 'type', 'memo']]\n",
    "    else:\n",
    "        test_inc = test_transact[(test_transact['amount'] > 0)][['posted_date', 'amount', 'category', 'type', 'memo']]\n",
    "    list_ = test_inc.to_dict('records')\n",
    "    return list_"
   ]
  },
  {
   "cell_type": "markdown",
   "metadata": {},
   "source": [
    "### The below function transforms the bank statement like the loan ids are of float type, it coverts it into str type and strips off the date part from timeadded feature"
   ]
  },
  {
   "cell_type": "code",
   "execution_count": 22,
   "metadata": {},
   "outputs": [],
   "source": [
    "def modify_statement(df):\n",
    "    \"\"\"Modifies extracted bank statement data\n",
    "    Args:\n",
    "        df (pandas df): Dataframe consisting all the required columns from predicon model database\n",
    "    Returns:\n",
    "        pandas df: Modified dataframe\n",
    "    \"\"\"\n",
    "    df['LoanId'] = df['LoanId'].astype(str).map(lambda x : x.split('.')[0])\n",
    "    df['TimeAdded'] = pd.to_datetime(df['TimeAdded'].map(lambda x : x.date()))\n",
    "    return df"
   ]
  },
  {
   "cell_type": "markdown",
   "metadata": {},
   "source": [
    "### The below function converts the transaction statement into 4 buckets based on category of the transactions viz. Payroll, Paycheck, Income or Rest"
   ]
  },
  {
   "cell_type": "code",
   "execution_count": 55,
   "metadata": {},
   "outputs": [],
   "source": [
    "def get_diff_inc_cat(k):\n",
    "    txn_proll = txn_pcheq = txn_inc = txn_rest = pd.DataFrame()\n",
    "    if 'Payroll' in pd.DataFrame(income_temp[k]).groupby('category', as_index = False)['posted_date'].count().nlargest(3, 'posted_date').category.values:\n",
    "        txn_proll = pd.DataFrame(income_temp[k])[pd.DataFrame(income_temp[k])['category'] == 'Payroll']\n",
    "    if 'Paycheck' in pd.DataFrame(income_temp[k]).groupby('category', as_index = False)['posted_date'].count().nlargest(3, 'posted_date').category.values:\n",
    "        txn_pcheq = pd.DataFrame(income_temp[k])[pd.DataFrame(income_temp[k])['category'] == 'Paycheck']\n",
    "    if 'Income' in pd.DataFrame(income_temp[k]).groupby('category', as_index = False)['posted_date'].count().nlargest(3, 'posted_date').category.values:\n",
    "        txn_inc = pd.DataFrame(income_temp[k])[pd.DataFrame(income_temp[k])['category'] == 'Income']\n",
    "    txn_rest = pd.DataFrame(income_temp[k])[(pd.DataFrame(income_temp[k])['category'] != 'Income') & (pd.DataFrame(income_temp[k])['category'] != 'Paycheck') & (pd.DataFrame(income_temp[k])['category'] != 'Payroll')]\n",
    "    return txn_proll, txn_pcheq, txn_inc, txn_rest"
   ]
  },
  {
   "cell_type": "markdown",
   "metadata": {},
   "source": [
    "### Fetching bankreports and modifying them, then fetching bankapp data"
   ]
  },
  {
   "cell_type": "code",
   "execution_count": 35,
   "metadata": {},
   "outputs": [],
   "source": [
    "df_bankreports = fetch_required_bank_reports(\"'2020-01-07'\", \"'2020-02-07'\")"
   ]
  },
  {
   "cell_type": "code",
   "execution_count": 41,
   "metadata": {},
   "outputs": [],
   "source": [
    "df_bankapp = fetch_required_bank_app(\"'2020-01-07'\", \"'2020-02-07'\")"
   ]
  },
  {
   "cell_type": "code",
   "execution_count": 42,
   "metadata": {},
   "outputs": [],
   "source": [
    "df_bankreports = modify_statement(df_bankreports)"
   ]
  },
  {
   "cell_type": "code",
   "execution_count": null,
   "metadata": {},
   "outputs": [],
   "source": [
    "df_bankreports.sample(5)"
   ]
  },
  {
   "cell_type": "code",
   "execution_count": null,
   "metadata": {},
   "outputs": [],
   "source": [
    "df_bankapp.sample(5)"
   ]
  },
  {
   "cell_type": "markdown",
   "metadata": {},
   "source": [
    "### Merging the bankapp data with and bankreports"
   ]
  },
  {
   "cell_type": "code",
   "execution_count": 43,
   "metadata": {},
   "outputs": [],
   "source": [
    "df = pd.merge(df_bankapp, df_bankreports, on = 'LoanId', how = 'inner')"
   ]
  },
  {
   "cell_type": "code",
   "execution_count": 44,
   "metadata": {},
   "outputs": [
    {
     "data": {
      "text/html": [
       "<div>\n",
       "<style scoped>\n",
       "    .dataframe tbody tr th:only-of-type {\n",
       "        vertical-align: middle;\n",
       "    }\n",
       "\n",
       "    .dataframe tbody tr th {\n",
       "        vertical-align: top;\n",
       "    }\n",
       "\n",
       "    .dataframe thead th {\n",
       "        text-align: right;\n",
       "    }\n",
       "</style>\n",
       "<table border=\"1\" class=\"dataframe\">\n",
       "  <thead>\n",
       "    <tr style=\"text-align: right;\">\n",
       "      <th></th>\n",
       "      <th>LoanId</th>\n",
       "      <th>json</th>\n",
       "      <th>TimeAdded</th>\n",
       "      <th>OriginationDate</th>\n",
       "      <th>FirstName</th>\n",
       "      <th>LastName</th>\n",
       "      <th>Campaign</th>\n",
       "      <th>OriginalPrincipal</th>\n",
       "      <th>ReUppedPrincipal</th>\n",
       "      <th>DateOfBirth</th>\n",
       "      <th>BankName</th>\n",
       "      <th>MonthlyGrossIncome</th>\n",
       "      <th>EmployerName</th>\n",
       "      <th>IsFirstDefault</th>\n",
       "      <th>BankTransactionId</th>\n",
       "      <th>BankReportData</th>\n",
       "    </tr>\n",
       "  </thead>\n",
       "  <tbody>\n",
       "    <tr>\n",
       "      <th>51</th>\n",
       "      <td>53669760113</td>\n",
       "      <td>{\"basicValidations\":{\"data\":{\"priorLoans\":[{\"i...</td>\n",
       "      <td>2020-01-07</td>\n",
       "      <td>2020-01-09</td>\n",
       "      <td>MARY</td>\n",
       "      <td>STANFILL</td>\n",
       "      <td>F1-LeadPie Eval:16585</td>\n",
       "      <td>300.0</td>\n",
       "      <td>0.0</td>\n",
       "      <td>1973-09-02</td>\n",
       "      <td>BANK OF AMERICA, N.A.</td>\n",
       "      <td>3000.0</td>\n",
       "      <td>ADVANCED REHABILITATION</td>\n",
       "      <td>False</td>\n",
       "      <td>8f5a75f5-64f3-4390-9a44-f84ecbc16d83</td>\n",
       "      <td>{\"token\":\"8f5a75f5-64f3-4390-9a44-f84ecbc16d83...</td>\n",
       "    </tr>\n",
       "    <tr>\n",
       "      <th>277</th>\n",
       "      <td>71672045824</td>\n",
       "      <td>{\"basicValidations\":{\"data\":{\"priorLoans\":[{\"i...</td>\n",
       "      <td>2020-01-22</td>\n",
       "      <td>2020-01-24</td>\n",
       "      <td>Sabina</td>\n",
       "      <td>Bautista</td>\n",
       "      <td>F2-LeapThry Select:43583</td>\n",
       "      <td>150.0</td>\n",
       "      <td>0.0</td>\n",
       "      <td>1966-09-13</td>\n",
       "      <td>WELLS FARGO AND COMPANY</td>\n",
       "      <td>3000.0</td>\n",
       "      <td>Amor</td>\n",
       "      <td>False</td>\n",
       "      <td>f07647cd-ce4b-49fc-8765-6bc25a2b7b05</td>\n",
       "      <td>{\"token\":\"f07647cd-ce4b-49fc-8765-6bc25a2b7b05...</td>\n",
       "    </tr>\n",
       "    <tr>\n",
       "      <th>447</th>\n",
       "      <td>72673937387</td>\n",
       "      <td>{\"basicValidations\":{\"data\":{\"priorLoans\":[{\"i...</td>\n",
       "      <td>2020-02-04</td>\n",
       "      <td>2020-02-05</td>\n",
       "      <td>Sarah</td>\n",
       "      <td>Zorrilla</td>\n",
       "      <td>F2-StopNGo Select:222</td>\n",
       "      <td>400.0</td>\n",
       "      <td>0.0</td>\n",
       "      <td>1981-04-24</td>\n",
       "      <td>INTERNATIONAL BANK OF COMMERCE</td>\n",
       "      <td>5417.0</td>\n",
       "      <td>Supply chain- hca valley regional medical center</td>\n",
       "      <td>False</td>\n",
       "      <td>dcd35911-6967-4434-a5e3-4ed131fc07a0</td>\n",
       "      <td>{\"token\":\"dcd35911-6967-4434-a5e3-4ed131fc07a0...</td>\n",
       "    </tr>\n",
       "    <tr>\n",
       "      <th>127</th>\n",
       "      <td>58670570067</td>\n",
       "      <td>{\"basicValidations\":{\"data\":{\"priorLoans\":[{\"i...</td>\n",
       "      <td>2020-01-12</td>\n",
       "      <td>2020-01-14</td>\n",
       "      <td>Karolyn</td>\n",
       "      <td>Cordell</td>\n",
       "      <td>F2-LeapThry Eval:32902</td>\n",
       "      <td>200.0</td>\n",
       "      <td>0.0</td>\n",
       "      <td>1984-08-23</td>\n",
       "      <td>BANK OF AMERICA N.A.</td>\n",
       "      <td>3000.0</td>\n",
       "      <td>Vasari llc</td>\n",
       "      <td>False</td>\n",
       "      <td>af72d976-7f5f-47df-913f-823a5991ad2a</td>\n",
       "      <td>{\"token\":\"af72d976-7f5f-47df-913f-823a5991ad2a...</td>\n",
       "    </tr>\n",
       "    <tr>\n",
       "      <th>420</th>\n",
       "      <td>21673674950</td>\n",
       "      <td>{\"basicValidations\":{\"data\":{\"priorLoans\":[{\"i...</td>\n",
       "      <td>2020-02-02</td>\n",
       "      <td>2020-02-04</td>\n",
       "      <td>Kimberly</td>\n",
       "      <td>Buenrostro</td>\n",
       "      <td>Freedom2-ITMedia:123_12476_7</td>\n",
       "      <td>400.0</td>\n",
       "      <td>0.0</td>\n",
       "      <td>1972-09-25</td>\n",
       "      <td>Bank of America</td>\n",
       "      <td>9000.0</td>\n",
       "      <td>Pacsun</td>\n",
       "      <td>False</td>\n",
       "      <td>c1dbb064-083a-442d-96ef-b1837511e60d</td>\n",
       "      <td>{\"token\":\"c1dbb064-083a-442d-96ef-b1837511e60d...</td>\n",
       "    </tr>\n",
       "  </tbody>\n",
       "</table>\n",
       "</div>"
      ],
      "text/plain": [
       "          LoanId                                               json  \\\n",
       "51   53669760113  {\"basicValidations\":{\"data\":{\"priorLoans\":[{\"i...   \n",
       "277  71672045824  {\"basicValidations\":{\"data\":{\"priorLoans\":[{\"i...   \n",
       "447  72673937387  {\"basicValidations\":{\"data\":{\"priorLoans\":[{\"i...   \n",
       "127  58670570067  {\"basicValidations\":{\"data\":{\"priorLoans\":[{\"i...   \n",
       "420  21673674950  {\"basicValidations\":{\"data\":{\"priorLoans\":[{\"i...   \n",
       "\n",
       "     TimeAdded OriginationDate FirstName    LastName  \\\n",
       "51  2020-01-07      2020-01-09      MARY    STANFILL   \n",
       "277 2020-01-22      2020-01-24    Sabina    Bautista   \n",
       "447 2020-02-04      2020-02-05     Sarah    Zorrilla   \n",
       "127 2020-01-12      2020-01-14   Karolyn     Cordell   \n",
       "420 2020-02-02      2020-02-04  Kimberly  Buenrostro   \n",
       "\n",
       "                         Campaign  OriginalPrincipal  ReUppedPrincipal  \\\n",
       "51          F1-LeadPie Eval:16585              300.0               0.0   \n",
       "277      F2-LeapThry Select:43583              150.0               0.0   \n",
       "447         F2-StopNGo Select:222              400.0               0.0   \n",
       "127        F2-LeapThry Eval:32902              200.0               0.0   \n",
       "420  Freedom2-ITMedia:123_12476_7              400.0               0.0   \n",
       "\n",
       "    DateOfBirth                        BankName  MonthlyGrossIncome  \\\n",
       "51   1973-09-02           BANK OF AMERICA, N.A.              3000.0   \n",
       "277  1966-09-13         WELLS FARGO AND COMPANY              3000.0   \n",
       "447  1981-04-24  INTERNATIONAL BANK OF COMMERCE              5417.0   \n",
       "127  1984-08-23            BANK OF AMERICA N.A.              3000.0   \n",
       "420  1972-09-25                 Bank of America              9000.0   \n",
       "\n",
       "                                         EmployerName  IsFirstDefault  \\\n",
       "51                            ADVANCED REHABILITATION           False   \n",
       "277                                              Amor           False   \n",
       "447  Supply chain- hca valley regional medical center           False   \n",
       "127                                        Vasari llc           False   \n",
       "420                                            Pacsun           False   \n",
       "\n",
       "                        BankTransactionId  \\\n",
       "51   8f5a75f5-64f3-4390-9a44-f84ecbc16d83   \n",
       "277  f07647cd-ce4b-49fc-8765-6bc25a2b7b05   \n",
       "447  dcd35911-6967-4434-a5e3-4ed131fc07a0   \n",
       "127  af72d976-7f5f-47df-913f-823a5991ad2a   \n",
       "420  c1dbb064-083a-442d-96ef-b1837511e60d   \n",
       "\n",
       "                                        BankReportData  \n",
       "51   {\"token\":\"8f5a75f5-64f3-4390-9a44-f84ecbc16d83...  \n",
       "277  {\"token\":\"f07647cd-ce4b-49fc-8765-6bc25a2b7b05...  \n",
       "447  {\"token\":\"dcd35911-6967-4434-a5e3-4ed131fc07a0...  \n",
       "127  {\"token\":\"af72d976-7f5f-47df-913f-823a5991ad2a...  \n",
       "420  {\"token\":\"c1dbb064-083a-442d-96ef-b1837511e60d...  "
      ]
     },
     "execution_count": 44,
     "metadata": {},
     "output_type": "execute_result"
    }
   ],
   "source": [
    "df.sample(5)"
   ]
  },
  {
   "cell_type": "markdown",
   "metadata": {},
   "source": [
    "### Using the multiprocessing function to fetch the name of primary checking accounts"
   ]
  },
  {
   "cell_type": "code",
   "execution_count": 45,
   "metadata": {},
   "outputs": [],
   "source": [
    "with mp.Pool(processes = NCPU) as pool:\n",
    "        result_primary_accts = pool.map(get_primary_account, df['BankReportData'])\n",
    "    \n",
    "df['primary_account'] = result_primary_accts"
   ]
  },
  {
   "cell_type": "code",
   "execution_count": null,
   "metadata": {},
   "outputs": [],
   "source": [
    "df.info()"
   ]
  },
  {
   "cell_type": "markdown",
   "metadata": {},
   "source": [
    "### Similarly, filtering only those candidates that have atleast 60 transaction days!!"
   ]
  },
  {
   "cell_type": "code",
   "execution_count": 46,
   "metadata": {},
   "outputs": [],
   "source": [
    "with mp.Pool(processes=NCPU) as pool:\n",
    "        txn_days_count = pool.starmap(get_transaction_days_count, zip(df['primary_account'], df['BankReportData']))\n",
    "\n",
    "df['txn_days_count'] = txn_days_count\n",
    "\n",
    "has_gt_60_days_txns = (df['txn_days_count'] == True)\n",
    "df = df[has_gt_60_days_txns]"
   ]
  },
  {
   "cell_type": "code",
   "execution_count": null,
   "metadata": {},
   "outputs": [],
   "source": [
    "df.info()"
   ]
  },
  {
   "cell_type": "code",
   "execution_count": 47,
   "metadata": {},
   "outputs": [],
   "source": [
    "df = df.reset_index(drop = True)"
   ]
  },
  {
   "cell_type": "markdown",
   "metadata": {},
   "source": [
    "### Fetching the income sources and their cycles respectively"
   ]
  },
  {
   "cell_type": "code",
   "execution_count": 48,
   "metadata": {},
   "outputs": [],
   "source": [
    "with mp.Pool(processes = NCPU) as pool:\n",
    "        source_and_cycle = pool.starmap(get_income_sources_and_cycle, zip(df['json'], df['LoanId']))\n",
    "        \n",
    "df_source_and_cycle = pd.DataFrame(source_and_cycle, columns = ['LoanId', '#sources', 'in_cycles'])"
   ]
  },
  {
   "cell_type": "code",
   "execution_count": null,
   "metadata": {},
   "outputs": [],
   "source": [
    "df_source_and_cycle.sample(5)"
   ]
  },
  {
   "cell_type": "markdown",
   "metadata": {},
   "source": [
    "### Merging the sources and cycle data we got to our previously available dataset"
   ]
  },
  {
   "cell_type": "code",
   "execution_count": 49,
   "metadata": {},
   "outputs": [],
   "source": [
    "df = pd.merge(df, df_source_and_cycle, on = 'LoanId', how = 'left')"
   ]
  },
  {
   "cell_type": "code",
   "execution_count": 50,
   "metadata": {},
   "outputs": [
    {
     "data": {
      "text/html": [
       "<div>\n",
       "<style scoped>\n",
       "    .dataframe tbody tr th:only-of-type {\n",
       "        vertical-align: middle;\n",
       "    }\n",
       "\n",
       "    .dataframe tbody tr th {\n",
       "        vertical-align: top;\n",
       "    }\n",
       "\n",
       "    .dataframe thead th {\n",
       "        text-align: right;\n",
       "    }\n",
       "</style>\n",
       "<table border=\"1\" class=\"dataframe\">\n",
       "  <thead>\n",
       "    <tr style=\"text-align: right;\">\n",
       "      <th></th>\n",
       "      <th>LoanId</th>\n",
       "      <th>json</th>\n",
       "      <th>TimeAdded</th>\n",
       "      <th>OriginationDate</th>\n",
       "      <th>FirstName</th>\n",
       "      <th>LastName</th>\n",
       "      <th>Campaign</th>\n",
       "      <th>OriginalPrincipal</th>\n",
       "      <th>ReUppedPrincipal</th>\n",
       "      <th>DateOfBirth</th>\n",
       "      <th>BankName</th>\n",
       "      <th>MonthlyGrossIncome</th>\n",
       "      <th>EmployerName</th>\n",
       "      <th>IsFirstDefault</th>\n",
       "      <th>BankTransactionId</th>\n",
       "      <th>BankReportData</th>\n",
       "      <th>primary_account</th>\n",
       "      <th>txn_days_count</th>\n",
       "      <th>#sources</th>\n",
       "      <th>in_cycles</th>\n",
       "    </tr>\n",
       "  </thead>\n",
       "  <tbody>\n",
       "    <tr>\n",
       "      <th>243</th>\n",
       "      <td>19672082141</td>\n",
       "      <td>{\"basicValidations\":{\"data\":{\"priorLoans\":[{\"i...</td>\n",
       "      <td>2020-01-22</td>\n",
       "      <td>2020-01-24</td>\n",
       "      <td>George</td>\n",
       "      <td>Hernandez</td>\n",
       "      <td>F2-Zero Eval:618031297</td>\n",
       "      <td>250.0</td>\n",
       "      <td>0.0</td>\n",
       "      <td>1969-02-05</td>\n",
       "      <td>WELLS FARGO BANK NA</td>\n",
       "      <td>3500.0</td>\n",
       "      <td>Alameda County</td>\n",
       "      <td>False</td>\n",
       "      <td>d5d90162-5d5a-4a4c-83c8-f11a8066d771</td>\n",
       "      <td>{\"token\":\"d5d90162-5d5a-4a4c-83c8-f11a8066d771...</td>\n",
       "      <td>XXXXXX7920</td>\n",
       "      <td>True</td>\n",
       "      <td>NaN</td>\n",
       "      <td>NaN</td>\n",
       "    </tr>\n",
       "    <tr>\n",
       "      <th>129</th>\n",
       "      <td>48670897235</td>\n",
       "      <td>{\"basicValidations\":{\"data\":{\"priorLoans\":[{\"i...</td>\n",
       "      <td>2020-01-14</td>\n",
       "      <td>2020-01-15</td>\n",
       "      <td>Paula</td>\n",
       "      <td>Davis</td>\n",
       "      <td>F2Zero4:170917784</td>\n",
       "      <td>400.0</td>\n",
       "      <td>0.0</td>\n",
       "      <td>1963-03-07</td>\n",
       "      <td>BANK OF AMERICA, N.A.</td>\n",
       "      <td>5000.0</td>\n",
       "      <td>Greater New Bethel</td>\n",
       "      <td>False</td>\n",
       "      <td>9cb92f95-dced-47e9-8efa-70d6b3567459</td>\n",
       "      <td>{\"token\":\"9cb92f95-dced-47e9-8efa-70d6b3567459...</td>\n",
       "      <td>Gods-Property---0992</td>\n",
       "      <td>True</td>\n",
       "      <td>1</td>\n",
       "      <td>BiWeekly</td>\n",
       "    </tr>\n",
       "    <tr>\n",
       "      <th>300</th>\n",
       "      <td>40672978121</td>\n",
       "      <td>{\"basicValidations\":{\"data\":{\"priorLoans\":[{\"i...</td>\n",
       "      <td>2020-01-29</td>\n",
       "      <td>2020-01-31</td>\n",
       "      <td>CYNTHIA</td>\n",
       "      <td>LEAL</td>\n",
       "      <td>F1Zero4:796217532</td>\n",
       "      <td>250.0</td>\n",
       "      <td>0.0</td>\n",
       "      <td>1974-03-27</td>\n",
       "      <td>CITIBANK TEXAS, NATIONAL ASSOCIATION</td>\n",
       "      <td>3500.0</td>\n",
       "      <td>Napa Auto Parts</td>\n",
       "      <td>False</td>\n",
       "      <td>b696f8fa-2283-428d-9f83-6c2a0b8db27e</td>\n",
       "      <td>{\"token\":\"b696f8fa-2283-428d-9f83-6c2a0b8db27e...</td>\n",
       "      <td>Checking-6457</td>\n",
       "      <td>True</td>\n",
       "      <td>1</td>\n",
       "      <td>BiWeekly</td>\n",
       "    </tr>\n",
       "    <tr>\n",
       "      <th>352</th>\n",
       "      <td>28673624189</td>\n",
       "      <td>{\"basicValidations\":{\"data\":{\"priorLoans\":[{\"i...</td>\n",
       "      <td>2020-01-31</td>\n",
       "      <td>2020-02-03</td>\n",
       "      <td>Diego</td>\n",
       "      <td>Morales</td>\n",
       "      <td>F2Zero4:170917784</td>\n",
       "      <td>500.0</td>\n",
       "      <td>0.0</td>\n",
       "      <td>1979-09-02</td>\n",
       "      <td>PLATTE VALLEY STATE BANK &amp; TRUST CO</td>\n",
       "      <td>3500.0</td>\n",
       "      <td>Fresenius</td>\n",
       "      <td>False</td>\n",
       "      <td>75a4cca5-b6a4-4b5b-b8e9-4c965ab187f4</td>\n",
       "      <td>{\"token\":\"75a4cca5-b6a4-4b5b-b8e9-4c965ab187f4...</td>\n",
       "      <td>x7669</td>\n",
       "      <td>True</td>\n",
       "      <td>1</td>\n",
       "      <td>BiWeekly</td>\n",
       "    </tr>\n",
       "    <tr>\n",
       "      <th>329</th>\n",
       "      <td>55673372616</td>\n",
       "      <td>{\"basicValidations\":{\"data\":{\"priorLoans\":[{\"i...</td>\n",
       "      <td>2020-01-30</td>\n",
       "      <td>2020-01-31</td>\n",
       "      <td>CINDEE</td>\n",
       "      <td>BILLINGSLEY</td>\n",
       "      <td>F2-EPCVIPEval:1333921</td>\n",
       "      <td>300.0</td>\n",
       "      <td>0.0</td>\n",
       "      <td>1970-01-21</td>\n",
       "      <td>J.P. MORGAN CHASE BANK N.A.</td>\n",
       "      <td>3000.0</td>\n",
       "      <td>DE BELLA MECHANICAL</td>\n",
       "      <td>False</td>\n",
       "      <td>b6e64d7f-ef8c-46dd-8c99-2b0d572e9933</td>\n",
       "      <td>{\"token\":\"b6e64d7f-ef8c-46dd-8c99-2b0d572e9933...</td>\n",
       "      <td>1008</td>\n",
       "      <td>True</td>\n",
       "      <td>1</td>\n",
       "      <td>Weekly</td>\n",
       "    </tr>\n",
       "  </tbody>\n",
       "</table>\n",
       "</div>"
      ],
      "text/plain": [
       "          LoanId                                               json  \\\n",
       "243  19672082141  {\"basicValidations\":{\"data\":{\"priorLoans\":[{\"i...   \n",
       "129  48670897235  {\"basicValidations\":{\"data\":{\"priorLoans\":[{\"i...   \n",
       "300  40672978121  {\"basicValidations\":{\"data\":{\"priorLoans\":[{\"i...   \n",
       "352  28673624189  {\"basicValidations\":{\"data\":{\"priorLoans\":[{\"i...   \n",
       "329  55673372616  {\"basicValidations\":{\"data\":{\"priorLoans\":[{\"i...   \n",
       "\n",
       "     TimeAdded OriginationDate FirstName     LastName                Campaign  \\\n",
       "243 2020-01-22      2020-01-24    George    Hernandez  F2-Zero Eval:618031297   \n",
       "129 2020-01-14      2020-01-15     Paula        Davis       F2Zero4:170917784   \n",
       "300 2020-01-29      2020-01-31   CYNTHIA         LEAL       F1Zero4:796217532   \n",
       "352 2020-01-31      2020-02-03     Diego      Morales       F2Zero4:170917784   \n",
       "329 2020-01-30      2020-01-31    CINDEE  BILLINGSLEY   F2-EPCVIPEval:1333921   \n",
       "\n",
       "     OriginalPrincipal  ReUppedPrincipal DateOfBirth  \\\n",
       "243              250.0               0.0  1969-02-05   \n",
       "129              400.0               0.0  1963-03-07   \n",
       "300              250.0               0.0  1974-03-27   \n",
       "352              500.0               0.0  1979-09-02   \n",
       "329              300.0               0.0  1970-01-21   \n",
       "\n",
       "                                 BankName  MonthlyGrossIncome  \\\n",
       "243                   WELLS FARGO BANK NA              3500.0   \n",
       "129                 BANK OF AMERICA, N.A.              5000.0   \n",
       "300  CITIBANK TEXAS, NATIONAL ASSOCIATION              3500.0   \n",
       "352   PLATTE VALLEY STATE BANK & TRUST CO              3500.0   \n",
       "329           J.P. MORGAN CHASE BANK N.A.              3000.0   \n",
       "\n",
       "            EmployerName  IsFirstDefault  \\\n",
       "243       Alameda County           False   \n",
       "129   Greater New Bethel           False   \n",
       "300      Napa Auto Parts           False   \n",
       "352            Fresenius           False   \n",
       "329  DE BELLA MECHANICAL           False   \n",
       "\n",
       "                        BankTransactionId  \\\n",
       "243  d5d90162-5d5a-4a4c-83c8-f11a8066d771   \n",
       "129  9cb92f95-dced-47e9-8efa-70d6b3567459   \n",
       "300  b696f8fa-2283-428d-9f83-6c2a0b8db27e   \n",
       "352  75a4cca5-b6a4-4b5b-b8e9-4c965ab187f4   \n",
       "329  b6e64d7f-ef8c-46dd-8c99-2b0d572e9933   \n",
       "\n",
       "                                        BankReportData       primary_account  \\\n",
       "243  {\"token\":\"d5d90162-5d5a-4a4c-83c8-f11a8066d771...            XXXXXX7920   \n",
       "129  {\"token\":\"9cb92f95-dced-47e9-8efa-70d6b3567459...  Gods-Property---0992   \n",
       "300  {\"token\":\"b696f8fa-2283-428d-9f83-6c2a0b8db27e...         Checking-6457   \n",
       "352  {\"token\":\"75a4cca5-b6a4-4b5b-b8e9-4c965ab187f4...                 x7669   \n",
       "329  {\"token\":\"b6e64d7f-ef8c-46dd-8c99-2b0d572e9933...                  1008   \n",
       "\n",
       "     txn_days_count #sources in_cycles  \n",
       "243            True      NaN       NaN  \n",
       "129            True        1  BiWeekly  \n",
       "300            True        1  BiWeekly  \n",
       "352            True        1  BiWeekly  \n",
       "329            True        1    Weekly  "
      ]
     },
     "execution_count": 50,
     "metadata": {},
     "output_type": "execute_result"
    }
   ],
   "source": [
    "df.sample(5)"
   ]
  },
  {
   "cell_type": "markdown",
   "metadata": {},
   "source": [
    "### Taking a look at how income sources and cycles are distributed accross the loanids"
   ]
  },
  {
   "cell_type": "code",
   "execution_count": 51,
   "metadata": {
    "collapsed": true
   },
   "outputs": [
    {
     "data": {
      "text/plain": [
       "<seaborn.axisgrid.FacetGrid at 0x7fdaac1ab1d0>"
      ]
     },
     "execution_count": 51,
     "metadata": {},
     "output_type": "execute_result"
    },
    {
     "data": {
      "image/png": "[encoded data removed]",
      "text/plain": [
       "<Figure size 1440x720 with 2 Axes>"
      ]
     },
     "metadata": {
      "needs_background": "light"
     },
     "output_type": "display_data"
    }
   ],
   "source": [
    "eda.countplot_categorical_columns(df, cols = ['#sources', 'in_cycles'], force = True)"
   ]
  },
  {
   "cell_type": "markdown",
   "metadata": {},
   "source": [
    "### Fetching required data for a particular index from the dataframe to crossverify things"
   ]
  },
  {
   "cell_type": "code",
   "execution_count": 52,
   "metadata": {},
   "outputs": [
    {
     "data": {
      "text/plain": [
       "BankTransactionId    2a233507-321f-4ba0-8dfa-573011d22368\n",
       "primary_account                                      8587\n",
       "EmployerName                                        Rango\n",
       "LoanId                                        20669855168\n",
       "Name: 47, dtype: object"
      ]
     },
     "execution_count": 52,
     "metadata": {},
     "output_type": "execute_result"
    }
   ],
   "source": [
    "df.loc[47, ['BankTransactionId', 'primary_account', 'EmployerName', 'LoanId']]"
   ]
  },
  {
   "cell_type": "markdown",
   "metadata": {},
   "source": [
    "### Checking the json file to see the income status of an applicamt. Here, 47 is the index"
   ]
  },
  {
   "cell_type": "code",
   "execution_count": 53,
   "metadata": {
    "scrolled": true
   },
   "outputs": [
    {
     "data": {
      "text/plain": [
       "{'que': 'How many income sources are visible?',\n",
       " 'incomeSources': '2',\n",
       " 'sources': [{'sourceName': 'RANGO INC        PAYROLL PPD ID: 1260302465',\n",
       "   'directDeposit': '',\n",
       "   'records': [{'amount': 1631.52, 'date': '1/3/2020', 'balance': 734.63}]},\n",
       "  {'incomeCycle': 'Weekly',\n",
       "   'sourceName': '0190AHKF RANGO I PAYROLL PPD ID: 1454283092',\n",
       "   'directDeposit': 'Yes',\n",
       "   'records': [{'amount': 1319.07, 'date': '12/27/2019', 'balance': 399.86},\n",
       "    {'amount': 1747.13, 'date': '12/20/2019', 'balance': 349.93},\n",
       "    {'amount': 969.75, 'date': '12/13/2019', 'balance': 448.79},\n",
       "    {'amount': 1620.38, 'date': '12/6/2019', 'balance': 1205.09},\n",
       "    {'amount': 568.6, 'date': '11/29/2019', 'balance': 2645.1}]}],\n",
       " 'incomeTransactions': [{'postedDate': '1/3/2020',\n",
       "   'memo': 'RANGO INC        PAYROLL PPD ID: 1260302465',\n",
       "   'categoryName': 'Payroll',\n",
       "   'amount': 1631.52,\n",
       "   'endingBalance': 734.63,\n",
       "   'source': 1,\n",
       "   'isSelected': True,\n",
       "   'isRemove': False},\n",
       "  {'postedDate': '12/31/2019',\n",
       "   'memo': 'VACP TREAS 310   XXVA BENEF PPD ID: 9111036002',\n",
       "   'categoryName': 'Payroll',\n",
       "   'amount': 142.29,\n",
       "   'endingBalance': 21.59,\n",
       "   'source': '',\n",
       "   'isSelected': False,\n",
       "   'isRemove': False},\n",
       "  {'postedDate': '12/27/2019',\n",
       "   'memo': '0190AHKF RANGO I PAYROLL PPD ID: 1454283092',\n",
       "   'categoryName': 'Payroll',\n",
       "   'amount': 1319.07,\n",
       "   'endingBalance': 399.86,\n",
       "   'source': 2,\n",
       "   'isSelected': True,\n",
       "   'isRemove': False},\n",
       "  {'postedDate': '12/20/2019',\n",
       "   'memo': '0190AHKF RANGO I PAYROLL PPD ID: 1454283092',\n",
       "   'categoryName': 'Payroll',\n",
       "   'amount': 1747.13,\n",
       "   'endingBalance': 349.93,\n",
       "   'source': 2,\n",
       "   'isSelected': True,\n",
       "   'isRemove': False},\n",
       "  {'postedDate': '12/13/2019',\n",
       "   'memo': '0190AHKF RANGO I PAYROLL PPD ID: 1454283092',\n",
       "   'categoryName': 'Payroll',\n",
       "   'amount': 969.75,\n",
       "   'endingBalance': 448.79,\n",
       "   'source': 2,\n",
       "   'isSelected': True,\n",
       "   'isRemove': False},\n",
       "  {'postedDate': '12/6/2019',\n",
       "   'memo': '0190AHKF RANGO I PAYROLL PPD ID: 1454283092',\n",
       "   'categoryName': 'Payroll',\n",
       "   'amount': 1620.38,\n",
       "   'endingBalance': 1205.09,\n",
       "   'source': 2,\n",
       "   'isSelected': True,\n",
       "   'isRemove': False},\n",
       "  {'postedDate': '11/29/2019',\n",
       "   'memo': 'VACP TREAS 310   XXVA BENEF PPD ID: 9111036002',\n",
       "   'categoryName': 'Payroll',\n",
       "   'amount': 140.05,\n",
       "   'endingBalance': 2645.1,\n",
       "   'source': '',\n",
       "   'isSelected': False,\n",
       "   'isRemove': False},\n",
       "  {'postedDate': '11/29/2019',\n",
       "   'memo': '0190AHKF RANGO I PAYROLL PPD ID: 1454283092',\n",
       "   'categoryName': 'Payroll',\n",
       "   'amount': 568.6,\n",
       "   'endingBalance': 2645.1,\n",
       "   'source': 2,\n",
       "   'isSelected': True,\n",
       "   'isRemove': False},\n",
       "  {'postedDate': '11/29/2019',\n",
       "   'memo': 'Boost Finance TEXARKANA TX 634401  11/29',\n",
       "   'categoryName': 'Mobile Phone',\n",
       "   'amount': 600,\n",
       "   'endingBalance': 2645.1,\n",
       "   'source': '',\n",
       "   'isSelected': False,\n",
       "   'isRemove': False},\n",
       "  {'postedDate': '11/29/2019',\n",
       "   'memo': 'CST DRILLING FLU Payroll PPD ID: 1721136289',\n",
       "   'categoryName': 'Payroll',\n",
       "   'amount': 3119.5,\n",
       "   'endingBalance': 2645.1,\n",
       "   'source': '',\n",
       "   'isSelected': False,\n",
       "   'isRemove': False},\n",
       "  {'postedDate': '11/21/2019',\n",
       "   'memo': 'CST DRILLING FLU Payroll PPD ID: 1721136289',\n",
       "   'categoryName': 'Payroll',\n",
       "   'amount': 3119.5,\n",
       "   'endingBalance': 390.77,\n",
       "   'source': '',\n",
       "   'isSelected': False,\n",
       "   'isRemove': False},\n",
       "  {'postedDate': '11/19/2019',\n",
       "   'memo': 'QuickPay with Zelle payment from REBECCA LYNN COX 8875184520',\n",
       "   'categoryName': 'Income',\n",
       "   'amount': 1000,\n",
       "   'endingBalance': 869.23,\n",
       "   'source': '',\n",
       "   'isSelected': False,\n",
       "   'isRemove': False},\n",
       "  {'postedDate': '11/18/2019',\n",
       "   'memo': 'QuickPay with Zelle payment from REBECCA LYNN COX 8872451651',\n",
       "   'categoryName': 'Income',\n",
       "   'amount': 100,\n",
       "   'endingBalance': 93.07,\n",
       "   'source': '',\n",
       "   'isSelected': False,\n",
       "   'isRemove': False},\n",
       "  {'postedDate': '11/8/2019',\n",
       "   'memo': 'CST DRILLING FLU Payroll PPD ID: 1721136289',\n",
       "   'categoryName': 'Payroll',\n",
       "   'amount': 3364.87,\n",
       "   'endingBalance': 3017.59,\n",
       "   'source': '',\n",
       "   'isSelected': False,\n",
       "   'isRemove': False},\n",
       "  {'postedDate': '11/1/2019',\n",
       "   'memo': 'VACP TREAS 310   XXVA BENEF PPD ID: 9111036002',\n",
       "   'categoryName': 'Payroll',\n",
       "   'amount': 140.05,\n",
       "   'endingBalance': 381.8,\n",
       "   'source': '',\n",
       "   'isSelected': False,\n",
       "   'isRemove': False},\n",
       "  {'postedDate': '10/25/2019',\n",
       "   'memo': 'CST DRILLING FLU Payroll PPD ID: 1721136289',\n",
       "   'categoryName': 'Payroll',\n",
       "   'amount': 3652.21,\n",
       "   'endingBalance': 1888.23,\n",
       "   'source': '',\n",
       "   'isSelected': False,\n",
       "   'isRemove': False},\n",
       "  {'postedDate': '10/22/2019',\n",
       "   'memo': 'SXM*SIRIUSXM.COM/ACCT 888-635-51 44 NY        10/22',\n",
       "   'categoryName': 'Bills & Utilities',\n",
       "   'amount': 26.39,\n",
       "   'endingBalance': 774.24,\n",
       "   'source': '',\n",
       "   'isSelected': False,\n",
       "   'isRemove': False},\n",
       "  {'postedDate': '10/11/2019',\n",
       "   'memo': 'CST DRILLING FLU Payroll PPD ID: 1721136289',\n",
       "   'categoryName': 'Payroll',\n",
       "   'amount': 1357.37,\n",
       "   'endingBalance': 1246.28,\n",
       "   'source': '',\n",
       "   'isSelected': False,\n",
       "   'isRemove': False},\n",
       "  {'postedDate': '10/10/2019',\n",
       "   'memo': 'REAL TIME TRANSFER RECD FROM ABA /021000021 FROM: Hello Digit, In',\n",
       "   'categoryName': 'Bonus',\n",
       "   'amount': 55,\n",
       "   'endingBalance': 36.68,\n",
       "   'source': '',\n",
       "   'isSelected': False,\n",
       "   'isRemove': False}],\n",
       " 'additionalSource': {},\n",
       " 'isAdditionalSource': False,\n",
       " 'totalEstimatedMonthly': 0,\n",
       " 'noSaleIncome': 0}"
      ]
     },
     "execution_count": 53,
     "metadata": {},
     "output_type": "execute_result"
    }
   ],
   "source": [
    "json.loads(df.loc[47, 'json'])['incomeReview']['data']"
   ]
  },
  {
   "cell_type": "markdown",
   "metadata": {},
   "source": [
    "### Using the get_income function to fetch all the required income types"
   ]
  },
  {
   "cell_type": "code",
   "execution_count": 54,
   "metadata": {},
   "outputs": [],
   "source": [
    "with mp.Pool(processes = NCPU) as pool:\n",
    "        income_temp = pool.starmap(get_income, zip(df['primary_account'], df['BankReportData'], df['LoanId']))"
   ]
  },
  {
   "cell_type": "markdown",
   "metadata": {},
   "source": [
    "### An example of how our fetched data looks like"
   ]
  },
  {
   "cell_type": "code",
   "execution_count": null,
   "metadata": {
    "scrolled": true
   },
   "outputs": [],
   "source": [
    "income_temp[317]"
   ]
  },
  {
   "cell_type": "markdown",
   "metadata": {},
   "source": [
    "### Loanids which were faulted by manual agents(I think so because they could have a different definition of how an income should behave in the bank statement. may be correct..may be not!!)"
   ]
  },
  {
   "cell_type": "markdown",
   "metadata": {},
   "source": [
    "<br>81672524189</br>\n",
    "<br>20669855168</br>"
   ]
  },
  {
   "cell_type": "markdown",
   "metadata": {},
   "source": [
    "### The income_temp variable is a list of lists of dictionaries. Converting it to dataframe to analyse it rigorously"
   ]
  },
  {
   "cell_type": "code",
   "execution_count": null,
   "metadata": {
    "scrolled": true
   },
   "outputs": [],
   "source": [
    "pd.DataFrame(income_temp[425]).set_index('posted_date')"
   ]
  },
  {
   "cell_type": "markdown",
   "metadata": {},
   "source": [
    "### Analysing the buckets returned by get_diff_inc_cat"
   ]
  },
  {
   "cell_type": "code",
   "execution_count": null,
   "metadata": {},
   "outputs": [],
   "source": [
    "txn_proll, txn_pcheq, txn_inc, txn_rest = get_diff_inc_cat(47)"
   ]
  },
  {
   "cell_type": "code",
   "execution_count": null,
   "metadata": {},
   "outputs": [],
   "source": [
    "txn_proll"
   ]
  },
  {
   "cell_type": "code",
   "execution_count": null,
   "metadata": {
    "scrolled": true
   },
   "outputs": [],
   "source": [
    "txn_inc"
   ]
  },
  {
   "cell_type": "code",
   "execution_count": null,
   "metadata": {
    "scrolled": true
   },
   "outputs": [],
   "source": [
    "txn_pcheq"
   ]
  },
  {
   "cell_type": "code",
   "execution_count": null,
   "metadata": {
    "scrolled": true
   },
   "outputs": [],
   "source": [
    "txn_rest"
   ]
  },
  {
   "cell_type": "markdown",
   "metadata": {},
   "source": [
    "<br>Occurences like business services and music!! causing problems(index425)</br>\n",
    "<br>Occurences where income comes from 'income' category with electronic deposits are hard to isolate(index152)</br>\n",
    "<br>Paychecks are always correct</br>\n",
    "<br>Mostly whenever there are payrolls, income is not but vice versa not true!!</br>"
   ]
  }
 ],
 "metadata": {
  "kernelspec": {
   "display_name": "predicon_uw_model",
   "language": "python",
   "name": "predicon_uw_model"
  },
  "language_info": {
   "codemirror_mode": {
    "name": "ipython",
    "version": 3
   },
   "file_extension": ".py",
   "mimetype": "text/x-python",
   "name": "python",
   "nbconvert_exporter": "python",
   "pygments_lexer": "ipython3",
   "version": "3.7.7"
  }
 },
 "nbformat": 4,
 "nbformat_minor": 2
}
