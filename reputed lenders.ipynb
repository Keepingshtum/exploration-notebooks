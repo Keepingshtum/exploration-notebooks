{
 "cells": [
  {
   "cell_type": "markdown",
   "metadata": {},
   "source": [
    "This notebook is for figuring out reputed lenders in a report. Currently it gives credits and debits of different lenders in each report over the last 2 years"
   ]
  },
  {
   "cell_type": "code",
   "execution_count": null,
   "metadata": {},
   "outputs": [],
   "source": [
    "import pymssql\n",
    "import pandas as pd\n",
    "import json\n",
    "import datetime\n",
    "import joblib\n",
    "import re\n",
    "import numpy as np\n",
    "import multiprocessing as mp\n"
   ]
  },
  {
   "cell_type": "code",
   "execution_count": null,
   "metadata": {},
   "outputs": [],
   "source": [
    "%load_ext blackcellmagic"
   ]
  },
  {
   "cell_type": "code",
   "execution_count": null,
   "metadata": {},
   "outputs": [],
   "source": [
    "server = '192.168.4.117'\n",
    "database = 'FreedomCashLenders'\n",
    "username = 'FreedomCashLendersAll'\n",
    "mssql_password = 'Freedom123$'"
   ]
  },
  {
   "cell_type": "code",
   "execution_count": null,
   "metadata": {},
   "outputs": [],
   "source": [
    "iloans_conn = pymssql.connect(server, username, mssql_password, database, port = 1433)"
   ]
  },
  {
   "cell_type": "code",
   "execution_count": null,
   "metadata": {},
   "outputs": [],
   "source": [
    "start_date = \"'2018-01-01'\"\n",
    "end_date = \"'2019-12-31'\""
   ]
  },
  {
   "cell_type": "code",
   "execution_count": null,
   "metadata": {},
   "outputs": [],
   "source": [
    "query_loan = f'''select LN.LoanId,\n",
    "                       LC.LoanCount,\n",
    "                       LN.OriginationDate,\n",
    "                       GC.BankReportData,\n",
    "                       GC.BankTransactionId,\n",
    "                       GC.TimeAdded as ReportTimeAdded,\n",
    "                       LN.Campaign,\n",
    "                       LN.MonthlyGrossIncome,\n",
    "                       LN.DateOfBirth,\n",
    "                       LN.IsFirstDefault\n",
    "                       \n",
    "                from view_FCL_Loan LN\n",
    "                LEFT JOIN view_FCL_CustomerLoanCount LC ON LC.CustomerId = LN.CustomerId\n",
    "                LEFT JOIN view_FCL_GetCreditDataLoan GCD ON LN.LoanId = GCD.LoanId\n",
    "                LEFT JOIN view_FCL_GetCreditData GC ON GC.BankTransactionId = GCD.BankTransactionId\n",
    "                \n",
    "                \n",
    "                where LN.OriginationDate >= {start_date}\n",
    "                and LN.OriginationDate <= {end_date} \n",
    "                and LN.IsFirstDefault IS NOT NULL\n",
    "                and LN.MerchantId IN (15, 18)\n",
    "                and GC.ReportStatus = 'COMPLETE' '''"
   ]
  },
  {
   "cell_type": "code",
   "execution_count": null,
   "metadata": {},
   "outputs": [],
   "source": [
    "df_loans = pd.read_sql_query(query_loan,con = iloans_conn)"
   ]
  },
  {
   "cell_type": "code",
   "execution_count": null,
   "metadata": {},
   "outputs": [],
   "source": [
    "df_loans = df_loans.drop_duplicates('LoanId')"
   ]
  },
  {
   "cell_type": "markdown",
   "metadata": {},
   "source": [
    "## utility functions"
   ]
  },
  {
   "cell_type": "code",
   "execution_count": null,
   "metadata": {},
   "outputs": [],
   "source": [
    "def parse_dates(json_date):\n",
    "    '''\n",
    "    Converts json formatted date to pandas datetime.\n",
    "    \n",
    "    Parameters:\n",
    "    JSON date (JSON).\n",
    "    \n",
    "    Returns:\n",
    "    Pandas datetime object.\n",
    "    \n",
    "    '''\n",
    "    \n",
    "    #return datetime.fromtimestamp(int(json_date)/1000.0).strftime('%Y-%m-%d')\n",
    "    return datetime.datetime.utcfromtimestamp(int(json_date)/1000).date()\n",
    "\n",
    "\n",
    "def fetch_checking_acct_txns(json_string):\n",
    "    \"\"\"\n",
    "    Parse all checking account transactions in the bank report\n",
    "    \n",
    "    Parameters:\n",
    "    json_string(json): json containing bank report\n",
    "    \n",
    "    Returns:\n",
    "    dataframe: containing transactions \n",
    "    \n",
    "    \"\"\"\n",
    "    j = json.loads(json_string)\n",
    "    df_txn = pd.DataFrame()\n",
    "    \n",
    "    acct_numbers = []\n",
    "    for accts in j['accounts']:\n",
    "        \n",
    "        if ('transactions' in accts.keys()) and (len(accts['transactions']) > 0) and (accts['accountNumber'] not in acct_numbers) and (accts['accountType'].strip().lower() == 'checking'):\n",
    "            \n",
    "            df_txn_temp = pd.DataFrame(accts['transactions'])\n",
    "            df_txn_temp['account_number'] = accts['accountNumber']\n",
    "            df_txn = df_txn.append(df_txn_temp, ignore_index=True)\n",
    "            \n",
    "            df_txn['posted_date'] = df_txn['postedDate'].map(lambda json_date: parse_dates(json_date))\n",
    "            df_txn['category'] = df_txn['contexts'].map(lambda x: x[0]['categoryName'] if len(x) > 0 else np.nan)\n",
    "            acct_numbers.append(accts['accountNumber'])\n",
    "    \n",
    "    if 'pending' in df_txn.columns:\n",
    "        df_txn = df_txn[df_txn['pending'] == False]\n",
    "    return df_txn"
   ]
  },
  {
   "cell_type": "markdown",
   "metadata": {},
   "source": [
    "## primary account"
   ]
  },
  {
   "cell_type": "code",
   "execution_count": null,
   "metadata": {},
   "outputs": [],
   "source": [
    "def get_primary_account(bankreport):\n",
    "    \"\"\"\n",
    "    Flag primary checking account (account having max transaction count)\n",
    "    \n",
    "    Parameters:\n",
    "    bankreport (json)\n",
    "    loanid (str)\n",
    "    \n",
    "    Returns:\n",
    "    Dataframe containing checking accounts and primary account flag = 1\n",
    "    \"\"\"\n",
    "    df_txn = fetch_checking_acct_txns(bankreport)\n",
    "    if df_txn.empty is False:\n",
    "        df_txns_count = df_txn['account_number'].value_counts()\n",
    "        return df_txns_count.idxmax()"
   ]
  },
  {
   "cell_type": "code",
   "execution_count": null,
   "metadata": {},
   "outputs": [],
   "source": [
    "NCPU = mp.cpu_count() - 2 if mp.cpu_count() > 2 else 1\n",
    "with mp.Pool(processes=NCPU) as pool:\n",
    "    res_primary_accts = pool.map(get_primary_account, df_loans['BankReportData'])"
   ]
  },
  {
   "cell_type": "code",
   "execution_count": null,
   "metadata": {},
   "outputs": [],
   "source": [
    "df_loans['primary_account'] = res_primary_accts"
   ]
  },
  {
   "cell_type": "code",
   "execution_count": null,
   "metadata": {},
   "outputs": [],
   "source": [
    "df_loans = df_loans.loc[df_loans['primary_account'].notnull(),:]"
   ]
  },
  {
   "cell_type": "markdown",
   "metadata": {},
   "source": [
    "## filter loans having transaction days >= 60 in primary account"
   ]
  },
  {
   "cell_type": "code",
   "execution_count": null,
   "metadata": {},
   "outputs": [],
   "source": [
    "def get_transaction_days_count(primary_account, bank_report):\n",
    "    df_checking_txns = fetch_checking_acct_txns(bank_report)\n",
    "    if df_checking_txns.empty is False:\n",
    "        df_primary_account_txns = df_checking_txns[\n",
    "            df_checking_txns[\"account_number\"] == primary_account\n",
    "        ]\n",
    "        df_primary_account_txns = df_primary_account_txns.sort_values(by=\"posted_date\")\n",
    "        first_txn_date = df_primary_account_txns[\"posted_date\"].iloc[0]\n",
    "        last_txn_date = df_primary_account_txns[\"posted_date\"].iloc[-1]\n",
    "        txn_days_count = (last_txn_date - first_txn_date).days\n",
    "        return txn_days_count >= 60"
   ]
  },
  {
   "cell_type": "code",
   "execution_count": null,
   "metadata": {},
   "outputs": [],
   "source": [
    "NCPU = mp.cpu_count() - 2 if mp.cpu_count() > 2 else 1\n",
    "with mp.Pool(processes=NCPU) as pool:\n",
    "    txn_days_count = pool.starmap(\n",
    "        get_transaction_days_count,\n",
    "        zip(df_loans[\"primary_account\"], df_loans[\"BankReportData\"]),\n",
    "    )"
   ]
  },
  {
   "cell_type": "code",
   "execution_count": null,
   "metadata": {},
   "outputs": [],
   "source": [
    "df_loans['txn_days_count'] = txn_days_count"
   ]
  },
  {
   "cell_type": "code",
   "execution_count": null,
   "metadata": {},
   "outputs": [],
   "source": [
    "df_loans = df_loans.loc[df_loans[\"txn_days_count\"] == True, :]"
   ]
  },
  {
   "cell_type": "code",
   "execution_count": null,
   "metadata": {},
   "outputs": [],
   "source": [
    "def get_loan_amount_by_lender(reportid,report_string,pr_acct):\n",
    "    \n",
    "    #lend_cos=joblib.load('./lend_cos.pkl')\n",
    "    \n",
    "    df_checking_txns = fetch_checking_acct_txns(report_string) \n",
    "    df_pr_acct_txns = df_checking_txns[df_checking_txns['account_number']==pr_acct]\n",
    "    \n",
    "    df_lender_txns=df_pr_acct_txns.loc[df_pr_acct_txns['memo'].str.contains('|'.join(lend_cos),case=False,na=False)]\n",
    "        \n",
    "        #check for empty transactions\n",
    "    if df_lender_txns.empty is False:\n",
    "        df_lender_txns['lenderName'] = df_lender_txns['memo'].str.extract(\"(\" + \"|\".join(lend_cos) +\")\",flags = re.IGNORECASE)\n",
    "        df_lender_txns = df_lender_txns[['lenderName','amount','posted_date','memo']]\n",
    "        df_lender_txns['report_id'] = reportid\n",
    "        return df_lender_txns"
   ]
  },
  {
   "cell_type": "code",
   "execution_count": null,
   "metadata": {},
   "outputs": [],
   "source": [
    "lend_cos=joblib.load('./lend_cos.pkl')\n",
    "lend_cos.remove('VBS')"
   ]
  },
  {
   "cell_type": "code",
   "execution_count": null,
   "metadata": {},
   "outputs": [],
   "source": [
    "df_lender_vars = pd.DataFrame()\n",
    "NCPU = mp.cpu_count() - 2 if mp.cpu_count() > 2 else 1\n",
    "with mp.Pool(processes=NCPU) as pool:\n",
    "    df_lender_vars_temp = pool.starmap(get_loan_amount_by_lender, zip(df_loans['BankTransactionId'],df_loans['BankReportData'],df_loans['primary_account']))\n",
    "df_lender_vars=pd.concat(df_lender_vars_temp,ignore_index=True)"
   ]
  },
  {
   "cell_type": "code",
   "execution_count": null,
   "metadata": {},
   "outputs": [],
   "source": [
    "df_lender_vars.reset_index(drop=True,inplace=True)"
   ]
  },
  {
   "cell_type": "code",
   "execution_count": null,
   "metadata": {},
   "outputs": [],
   "source": [
    "def clean_string(x):\n",
    "    x_clean = re.sub(r\"\\W+\", \"\", x.lower())\n",
    "    #remove electronic withdrawal\n",
    "    x_ew = re.sub(\"electronicwithdrawal\",\"\",x_clean)\n",
    "    x_vbs = re.sub(\"vbs\",\"\",x_ew)\n",
    "    x_remove_loan = re.sub(r\"loa[n]*[s]*$\",\"\",x_vbs)\n",
    "    x_remove_cash = re.sub(r\"cas[h]*$\",\"\",x_remove_loan)\n",
    "    x_remove_finance = re.sub(r\"fin[a]+[a-z]*[laeiou]+$\",\"\",x_remove_cash)\n",
    "    x_remove_fin = re.sub(r\"fin$\",\"\",x_remove_finance)\n",
    "    x_remove_lending = re.sub(r\"lendin[g]*$\",\"\",x_remove_fin)\n",
    "    x_remove_digits = re.sub(r\"\\d*$\",\"\",x_remove_lending)\n",
    "    return x_remove_digits"
   ]
  },
  {
   "cell_type": "code",
   "execution_count": null,
   "metadata": {},
   "outputs": [],
   "source": [
    "df_lender_vars['lender_name_clean'] = df_lender_vars['lenderName'].map(lambda x: clean_string(x))"
   ]
  },
  {
   "cell_type": "code",
   "execution_count": null,
   "metadata": {},
   "outputs": [],
   "source": [
    "df_lender_vars['type'] = ''\n",
    "df_lender_vars.loc[df_lender_vars['amount'] < 0,'type'] = 'debit'\n",
    "df_lender_vars.loc[df_lender_vars['amount'] >= 0,'type'] = 'credit'"
   ]
  },
  {
   "cell_type": "code",
   "execution_count": null,
   "metadata": {},
   "outputs": [],
   "source": [
    "lender_amounts = pd.pivot_table(\n",
    "    df_lender_vars,\n",
    "    values=\"amount\",\n",
    "    index=[\"report_id\", \"lender_name_clean\"],\n",
    "    columns=[\"type\"],\n",
    "    aggfunc=np.sum,\n",
    ").reset_index()"
   ]
  },
  {
   "cell_type": "code",
   "execution_count": null,
   "metadata": {},
   "outputs": [],
   "source": [
    "lender_amounts = lender_amounts.dropna()"
   ]
  }
 ],
 "metadata": {
  "kernelspec": {
   "display_name": "Python 3",
   "language": "python",
   "name": "python3"
  },
  "language_info": {
   "codemirror_mode": {
    "name": "ipython",
    "version": 3
   },
   "file_extension": ".py",
   "mimetype": "text/x-python",
   "name": "python",
   "nbconvert_exporter": "python",
   "pygments_lexer": "ipython3",
   "version": "3.7.3"
  }
 },
 "nbformat": 4,
 "nbformat_minor": 2
}
