{
 "cells": [
  {
   "cell_type": "code",
   "execution_count": 1,
   "metadata": {},
   "outputs": [
    {
     "data": {
      "text/html": [
       "<style>.container { width:100% !important; }</style>"
      ],
      "text/plain": [
       "<IPython.core.display.HTML object>"
      ]
     },
     "metadata": {},
     "output_type": "display_data"
    }
   ],
   "source": [
    "from IPython.core.display import display, HTML\n",
    "display(HTML(\"<style>.container { width:100% !important; }</style>\"))"
   ]
  },
  {
   "cell_type": "code",
   "execution_count": 2,
   "metadata": {},
   "outputs": [],
   "source": [
    "%reload_ext autoreload\n",
    "%autoreload 2"
   ]
  },
  {
   "cell_type": "code",
   "execution_count": 3,
   "metadata": {},
   "outputs": [],
   "source": [
    "%load_ext blackcellmagic"
   ]
  },
  {
   "cell_type": "code",
   "execution_count": 4,
   "metadata": {},
   "outputs": [],
   "source": [
    "import warnings\n",
    "warnings.filterwarnings('ignore')"
   ]
  },
  {
   "cell_type": "markdown",
   "metadata": {},
   "source": [
    "# Extract"
   ]
  },
  {
   "cell_type": "code",
   "execution_count": 5,
   "metadata": {},
   "outputs": [],
   "source": [
    "import pandas as pd\n",
    "import multiprocessing as mp"
   ]
  },
  {
   "cell_type": "code",
   "execution_count": 6,
   "metadata": {},
   "outputs": [],
   "source": [
    "import extract"
   ]
  },
  {
   "cell_type": "code",
   "execution_count": 7,
   "metadata": {},
   "outputs": [
    {
     "data": {
      "text/plain": [
       "<module 'extract' from '/home/vishal/refactoring_pipeline/extract.py'>"
      ]
     },
     "execution_count": 7,
     "metadata": {},
     "output_type": "execute_result"
    }
   ],
   "source": [
    "import importlib\n",
    "importlib.reload(extract)"
   ]
  },
  {
   "cell_type": "markdown",
   "metadata": {},
   "source": [
    "## for Training"
   ]
  },
  {
   "cell_type": "code",
   "execution_count": 8,
   "metadata": {},
   "outputs": [],
   "source": [
    "df = extract.get_examples(\"2018-01-01\", \"2019-12-31\")"
   ]
  },
  {
   "cell_type": "code",
   "execution_count": 9,
   "metadata": {},
   "outputs": [],
   "source": [
    "BV_status_list = ['Bank Validation Uncertain', 'Bank Validation Approved']"
   ]
  },
  {
   "cell_type": "code",
   "execution_count": 10,
   "metadata": {},
   "outputs": [],
   "source": [
    "df = df[df['final_decision'].isin(BV_status_list)]"
   ]
  },
  {
   "cell_type": "code",
   "execution_count": 11,
   "metadata": {},
   "outputs": [
    {
     "name": "stdout",
     "output_type": "stream",
     "text": [
      "<class 'pandas.core.frame.DataFrame'>\n",
      "Int64Index: 5208 entries, 0 to 5526\n",
      "Data columns (total 18 columns):\n",
      " #   Column                      Non-Null Count  Dtype         \n",
      "---  ------                      --------------  -----         \n",
      " 0   LoanId                      5208 non-null   object        \n",
      " 1   LoanCount                   5208 non-null   int64         \n",
      " 2   OriginationDate             5208 non-null   datetime64[ns]\n",
      " 3   BankReportData              5208 non-null   object        \n",
      " 4   ReportTimeAdded             5208 non-null   datetime64[ns]\n",
      " 5   Campaign                    5207 non-null   object        \n",
      " 6   MonthlyGrossIncome          5208 non-null   float64       \n",
      " 7   DateOfBirth                 5208 non-null   datetime64[ns]\n",
      " 8   IsFirstDefault              5208 non-null   bool          \n",
      " 9   AccessCount                 5207 non-null   float64       \n",
      " 10  EsigTimeSignedDiff_In_SEC   5207 non-null   float64       \n",
      " 11  final_decision              5208 non-null   object        \n",
      " 12  reasons_for_decision        5194 non-null   object        \n",
      " 13  entered_date                5208 non-null   object        \n",
      " 14  dti_percentage              5185 non-null   float64       \n",
      " 15  in1_is_direct_deposite      5152 non-null   object        \n",
      " 16  pay_day_test_result_amount  5147 non-null   float64       \n",
      " 17  is_pds_history_found        5133 non-null   object        \n",
      "dtypes: bool(1), datetime64[ns](3), float64(5), int64(1), object(8)\n",
      "memory usage: 737.5+ KB\n"
     ]
    }
   ],
   "source": [
    "df.info()"
   ]
  },
  {
   "cell_type": "markdown",
   "metadata": {},
   "source": [
    "## for Evaluation"
   ]
  },
  {
   "cell_type": "code",
   "execution_count": 12,
   "metadata": {},
   "outputs": [],
   "source": [
    "df_eval = extract.get_examples(\"2020-01-01\",\"2020-03-31\")"
   ]
  },
  {
   "cell_type": "code",
   "execution_count": 13,
   "metadata": {},
   "outputs": [],
   "source": [
    "BV_status_list = ['Bank Validation Uncertain', 'Bank Validation Approved']"
   ]
  },
  {
   "cell_type": "code",
   "execution_count": 14,
   "metadata": {},
   "outputs": [],
   "source": [
    "df_eval = df_eval[df_eval['final_decision'].isin(BV_status_list)]"
   ]
  },
  {
   "cell_type": "markdown",
   "metadata": {},
   "source": [
    "# EDA"
   ]
  },
  {
   "cell_type": "markdown",
   "metadata": {},
   "source": [
    "## check missing values"
   ]
  },
  {
   "cell_type": "markdown",
   "metadata": {},
   "source": [
    "## outlier detection"
   ]
  },
  {
   "cell_type": "markdown",
   "metadata": {
    "ExecuteTime": {
     "end_time": "2020-04-27T17:02:14.349926Z",
     "start_time": "2020-04-27T17:02:14.346876Z"
    }
   },
   "source": [
    "## check data distribution"
   ]
  },
  {
   "cell_type": "markdown",
   "metadata": {},
   "source": [
    "# Preprocess"
   ]
  },
  {
   "cell_type": "code",
   "execution_count": 15,
   "metadata": {},
   "outputs": [],
   "source": [
    "from preprocess import *"
   ]
  },
  {
   "cell_type": "markdown",
   "metadata": {},
   "source": [
    "## Useful links. \n",
    "https://github.com/pycaret/pycaret/blob/master/Tutorials/Binary%20Classification%20Tutorial%20Level%20Intermediate%20-%20CLF102.ipynb"
   ]
  },
  {
   "cell_type": "markdown",
   "metadata": {},
   "source": [
    "## Feature engineering"
   ]
  },
  {
   "cell_type": "markdown",
   "metadata": {},
   "source": [
    "### primary account"
   ]
  },
  {
   "cell_type": "code",
   "execution_count": 16,
   "metadata": {},
   "outputs": [],
   "source": [
    "NCPU = mp.cpu_count() - 2 if mp.cpu_count() > 2 else 1"
   ]
  },
  {
   "cell_type": "code",
   "execution_count": 17,
   "metadata": {},
   "outputs": [],
   "source": [
    "with mp.Pool(processes=NCPU) as pool:\n",
    "    res_primary_accts = pool.map(get_primary_account, df['BankReportData'])"
   ]
  },
  {
   "cell_type": "code",
   "execution_count": 18,
   "metadata": {},
   "outputs": [],
   "source": [
    "df['primary_account'] = res_primary_accts"
   ]
  },
  {
   "cell_type": "code",
   "execution_count": 19,
   "metadata": {},
   "outputs": [],
   "source": [
    "df = df.loc[df['primary_account'].notnull(),:]"
   ]
  },
  {
   "cell_type": "markdown",
   "metadata": {},
   "source": [
    "### filter loans having transaction days >= 60 in primary account"
   ]
  },
  {
   "cell_type": "code",
   "execution_count": 20,
   "metadata": {},
   "outputs": [],
   "source": [
    "with mp.Pool(processes=NCPU) as pool:\n",
    "    txn_days_count = pool.starmap(get_transaction_days_count, zip(df['primary_account'],df['BankReportData']))"
   ]
  },
  {
   "cell_type": "code",
   "execution_count": 21,
   "metadata": {},
   "outputs": [],
   "source": [
    "df['txn_days_count'] = txn_days_count"
   ]
  },
  {
   "cell_type": "code",
   "execution_count": 22,
   "metadata": {},
   "outputs": [],
   "source": [
    "df = df.loc[df['txn_days_count'] == True, :]"
   ]
  },
  {
   "cell_type": "markdown",
   "metadata": {},
   "source": [
    "### Calculate Age"
   ]
  },
  {
   "cell_type": "code",
   "execution_count": 23,
   "metadata": {},
   "outputs": [],
   "source": [
    "df['Age'] = df.apply(lambda x: calculate_age(x['OriginationDate'],x['DateOfBirth']), axis = 1)"
   ]
  },
  {
   "cell_type": "markdown",
   "metadata": {},
   "source": [
    "### New or Reloan"
   ]
  },
  {
   "cell_type": "code",
   "execution_count": 24,
   "metadata": {},
   "outputs": [],
   "source": [
    "df['Reloan'] = df['LoanCount'].apply(lambda x:True if x>1 else False)"
   ]
  },
  {
   "cell_type": "markdown",
   "metadata": {},
   "source": [
    "### Lead Provider"
   ]
  },
  {
   "cell_type": "code",
   "execution_count": 25,
   "metadata": {},
   "outputs": [],
   "source": [
    "df = df.loc[df['Campaign'].notnull(),:]"
   ]
  },
  {
   "cell_type": "code",
   "execution_count": 26,
   "metadata": {},
   "outputs": [],
   "source": [
    "lead_provider_list = [\n",
    "    \"MarketBullet\",\n",
    "    \"StopNGo\",\n",
    "    \"Nimbus\",\n",
    "    \"EPCVIP\",\n",
    "    \"PingBid\",\n",
    "    \"LeapThry\",\n",
    "    \"Acquir\",\n",
    "    \"RoundSky\",\n",
    "    \"Zero\",\n",
    "    \"LeadPie\",\n",
    "    \"ITMedia\",\n",
    "    \"LeadsMarket\",\n",
    "]"
   ]
  },
  {
   "cell_type": "code",
   "execution_count": 27,
   "metadata": {},
   "outputs": [],
   "source": [
    "\n",
    "df['LeadProvider'] = df['Campaign'].str.extract(\"(\" + \"|\".join(lead_provider_list) +\")\",flags = re.IGNORECASE)"
   ]
  },
  {
   "cell_type": "code",
   "execution_count": 28,
   "metadata": {},
   "outputs": [],
   "source": [
    "df['LeadProvider'] = df['LeadProvider'].fillna('Freedom')"
   ]
  },
  {
   "cell_type": "markdown",
   "metadata": {},
   "source": [
    "### lender vars"
   ]
  },
  {
   "cell_type": "markdown",
   "metadata": {},
   "source": [
    "#### in case the lender vars are to be generated for funded loans between 2018-01-01 to 2019-12-31 do not run the below cell, instead download from s3 ( look for \"download lender vars from s3\" markdown)"
   ]
  },
  {
   "cell_type": "code",
   "execution_count": 29,
   "metadata": {},
   "outputs": [],
   "source": [
    "df_lender_vars = pd.DataFrame()\n",
    "with mp.Pool(processes=NCPU) as pool:\n",
    "    df_lender_vars_temp = pool.starmap(create_lender_vars, zip(df['LoanId'],df['BankReportData'],df['ReportTimeAdded'],df['primary_account']))\n",
    "df_lender_vars=pd.concat(df_lender_vars_temp,ignore_index=True)"
   ]
  },
  {
   "cell_type": "code",
   "execution_count": 30,
   "metadata": {},
   "outputs": [],
   "source": [
    "df_lender_vars.reset_index(drop=True,inplace=True)"
   ]
  },
  {
   "cell_type": "markdown",
   "metadata": {},
   "source": []
  },
  {
   "cell_type": "markdown",
   "metadata": {},
   "source": [
    "#### download lender vars from s3"
   ]
  },
  {
   "cell_type": "code",
   "execution_count": null,
   "metadata": {},
   "outputs": [],
   "source": [
    "import boto3"
   ]
  },
  {
   "cell_type": "code",
   "execution_count": null,
   "metadata": {},
   "outputs": [],
   "source": [
    "#provide access keys if needed\n",
    "s3 = boto3.client('s3')"
   ]
  },
  {
   "cell_type": "code",
   "execution_count": null,
   "metadata": {},
   "outputs": [],
   "source": [
    "s3.download_file('predicon-bucket', 'lender_vars.csv', 'FILE_NAME')"
   ]
  },
  {
   "cell_type": "code",
   "execution_count": null,
   "metadata": {},
   "outputs": [],
   "source": [
    "df_lender_vars = pd.read_csv('lender_vars.csv')"
   ]
  },
  {
   "cell_type": "code",
   "execution_count": 52,
   "metadata": {},
   "outputs": [],
   "source": [
    "df = pd.merge(df,df_lender_vars,how='left',on='LoanId')"
   ]
  },
  {
   "cell_type": "markdown",
   "metadata": {},
   "source": [
    "### Number of days positive and negative"
   ]
  },
  {
   "cell_type": "code",
   "execution_count": 31,
   "metadata": {},
   "outputs": [],
   "source": [
    "with mp.Pool(processes = NCPU) as pool:\n",
    "    df_gc_vars_temp = pool.starmap(gc_summary_vars, zip(df['LoanId'], df['BankReportData'], df['primary_account']))\n",
    "df_gc_vars = pd.concat(df_gc_vars_temp, ignore_index = True)"
   ]
  },
  {
   "cell_type": "code",
   "execution_count": 32,
   "metadata": {},
   "outputs": [],
   "source": [
    "df_gc_vars['diff_positive_negative_days'] = df_gc_vars['noOfDaysPositive']  - df_gc_vars['noOfDaysNegative']"
   ]
  },
  {
   "cell_type": "code",
   "execution_count": 33,
   "metadata": {},
   "outputs": [],
   "source": [
    "df = pd.merge(df,df_gc_vars[['LoanId','diff_positive_negative_days']],how = 'left',on = 'LoanId')"
   ]
  },
  {
   "cell_type": "code",
   "execution_count": 41,
   "metadata": {},
   "outputs": [],
   "source": [
    "from imputations import *"
   ]
  },
  {
   "cell_type": "code",
   "execution_count": 35,
   "metadata": {},
   "outputs": [],
   "source": [
    "df['EsigTimeSignedDiff_In_SEC'] = df['EsigTimeSignedDiff_In_SEC'].map(esisgn_outlier_treat)"
   ]
  },
  {
   "cell_type": "code",
   "execution_count": 36,
   "metadata": {},
   "outputs": [],
   "source": [
    "df.replace({'in1_is_direct_deposite': {'': 'Unknown'}}, inplace = True)"
   ]
  },
  {
   "cell_type": "code",
   "execution_count": 37,
   "metadata": {},
   "outputs": [],
   "source": [
    "df['dti_percentage'] = df['dti_percentage'].map(dti_outlier_treat)"
   ]
  },
  {
   "cell_type": "code",
   "execution_count": 38,
   "metadata": {},
   "outputs": [],
   "source": [
    "df.replace({'LeadProvider': {'Roundsky': 'RoundSky'}}, inplace = True)"
   ]
  },
  {
   "cell_type": "markdown",
   "metadata": {},
   "source": [
    "### Imputation"
   ]
  },
  {
   "cell_type": "code",
   "execution_count": 42,
   "metadata": {},
   "outputs": [],
   "source": [
    "df = impute(df, 'dti_percentage', 'median')"
   ]
  },
  {
   "cell_type": "code",
   "execution_count": 44,
   "metadata": {},
   "outputs": [],
   "source": [
    "df = impute(df, 'in1_is_direct_deposite', 'mode')"
   ]
  },
  {
   "cell_type": "code",
   "execution_count": 45,
   "metadata": {},
   "outputs": [],
   "source": [
    "df = impute(df, 'pay_day_test_result_amount', 'median')"
   ]
  },
  {
   "cell_type": "code",
   "execution_count": 46,
   "metadata": {},
   "outputs": [],
   "source": [
    "df = impute(df, 'is_pds_history_found', 'mode')"
   ]
  },
  {
   "cell_type": "code",
   "execution_count": 47,
   "metadata": {},
   "outputs": [],
   "source": [
    "df = impute(df, 'diff_positive_negative_days', 'median')"
   ]
  },
  {
   "cell_type": "code",
   "execution_count": 49,
   "metadata": {},
   "outputs": [],
   "source": [
    "df = impute(df, 'EsigTimeSignedDiff_In_SEC', 'median')"
   ]
  },
  {
   "cell_type": "markdown",
   "metadata": {},
   "source": [
    "### Pycaret preprocessing"
   ]
  },
  {
   "cell_type": "code",
   "execution_count": 63,
   "metadata": {},
   "outputs": [],
   "source": [
    "from pycaret.classification import *"
   ]
  },
  {
   "cell_type": "code",
   "execution_count": 67,
   "metadata": {},
   "outputs": [],
   "source": [
    "df_loans = df[['MonthlyGrossIncome', 'Age', 'Reloan', 'LeadProvider', 'LenderCountCred30', \n",
    "                'UniqLenderCount', 'LenderAmountDeb', 'LenderAmountCred', 'LenderAmountDeb30',\n",
    "                'LenderAmountCred30', 'LenderCountDeb', 'LenderCountCred', 'LenderCountDeb30',\n",
    "                'AccessCount', 'EsigTimeSignedDiff_In_SEC', 'IsFirstDefault', 'dti_percentage',\n",
    "                'pay_day_test_result_amount', 'diff_positive_negative_days']]"
   ]
  },
  {
   "cell_type": "code",
   "execution_count": 55,
   "metadata": {},
   "outputs": [],
   "source": [
    "from dtypes import *"
   ]
  },
  {
   "cell_type": "code",
   "execution_count": 68,
   "metadata": {},
   "outputs": [],
   "source": [
    "df_loans = changing_bool_dtypes_to_str(df_loans)"
   ]
  },
  {
   "cell_type": "code",
   "execution_count": 71,
   "metadata": {
    "scrolled": true
   },
   "outputs": [
    {
     "name": "stdout",
     "output_type": "stream",
     "text": [
      " \n",
      "Setup Succesfully Completed!\n"
     ]
    },
    {
     "data": {
      "text/html": [
       "<style  type=\"text/css\" >\n",
       "    #T_d2cb92ba_9f60_11ea_a6b1_00155d000801row15_col1 {\n",
       "            background-color:  lightgreen;\n",
       "        }    #T_d2cb92ba_9f60_11ea_a6b1_00155d000801row17_col1 {\n",
       "            background-color:  lightgreen;\n",
       "        }    #T_d2cb92ba_9f60_11ea_a6b1_00155d000801row26_col1 {\n",
       "            background-color:  lightgreen;\n",
       "        }</style><table id=\"T_d2cb92ba_9f60_11ea_a6b1_00155d000801\" ><thead>    <tr>        <th class=\"blank level0\" ></th>        <th class=\"col_heading level0 col0\" >Description</th>        <th class=\"col_heading level0 col1\" >Value</th>    </tr></thead><tbody>\n",
       "                <tr>\n",
       "                        <th id=\"T_d2cb92ba_9f60_11ea_a6b1_00155d000801level0_row0\" class=\"row_heading level0 row0\" >0</th>\n",
       "                        <td id=\"T_d2cb92ba_9f60_11ea_a6b1_00155d000801row0_col0\" class=\"data row0 col0\" >session_id</td>\n",
       "                        <td id=\"T_d2cb92ba_9f60_11ea_a6b1_00155d000801row0_col1\" class=\"data row0 col1\" >69</td>\n",
       "            </tr>\n",
       "            <tr>\n",
       "                        <th id=\"T_d2cb92ba_9f60_11ea_a6b1_00155d000801level0_row1\" class=\"row_heading level0 row1\" >1</th>\n",
       "                        <td id=\"T_d2cb92ba_9f60_11ea_a6b1_00155d000801row1_col0\" class=\"data row1 col0\" >Target Type</td>\n",
       "                        <td id=\"T_d2cb92ba_9f60_11ea_a6b1_00155d000801row1_col1\" class=\"data row1 col1\" >Binary</td>\n",
       "            </tr>\n",
       "            <tr>\n",
       "                        <th id=\"T_d2cb92ba_9f60_11ea_a6b1_00155d000801level0_row2\" class=\"row_heading level0 row2\" >2</th>\n",
       "                        <td id=\"T_d2cb92ba_9f60_11ea_a6b1_00155d000801row2_col0\" class=\"data row2 col0\" >Label Encoded</td>\n",
       "                        <td id=\"T_d2cb92ba_9f60_11ea_a6b1_00155d000801row2_col1\" class=\"data row2 col1\" >False: 0, True: 1</td>\n",
       "            </tr>\n",
       "            <tr>\n",
       "                        <th id=\"T_d2cb92ba_9f60_11ea_a6b1_00155d000801level0_row3\" class=\"row_heading level0 row3\" >3</th>\n",
       "                        <td id=\"T_d2cb92ba_9f60_11ea_a6b1_00155d000801row3_col0\" class=\"data row3 col0\" >Original Data</td>\n",
       "                        <td id=\"T_d2cb92ba_9f60_11ea_a6b1_00155d000801row3_col1\" class=\"data row3 col1\" >(4518, 19)</td>\n",
       "            </tr>\n",
       "            <tr>\n",
       "                        <th id=\"T_d2cb92ba_9f60_11ea_a6b1_00155d000801level0_row4\" class=\"row_heading level0 row4\" >4</th>\n",
       "                        <td id=\"T_d2cb92ba_9f60_11ea_a6b1_00155d000801row4_col0\" class=\"data row4 col0\" >Missing Values </td>\n",
       "                        <td id=\"T_d2cb92ba_9f60_11ea_a6b1_00155d000801row4_col1\" class=\"data row4 col1\" >False</td>\n",
       "            </tr>\n",
       "            <tr>\n",
       "                        <th id=\"T_d2cb92ba_9f60_11ea_a6b1_00155d000801level0_row5\" class=\"row_heading level0 row5\" >5</th>\n",
       "                        <td id=\"T_d2cb92ba_9f60_11ea_a6b1_00155d000801row5_col0\" class=\"data row5 col0\" >Numeric Features </td>\n",
       "                        <td id=\"T_d2cb92ba_9f60_11ea_a6b1_00155d000801row5_col1\" class=\"data row5 col1\" >16</td>\n",
       "            </tr>\n",
       "            <tr>\n",
       "                        <th id=\"T_d2cb92ba_9f60_11ea_a6b1_00155d000801level0_row6\" class=\"row_heading level0 row6\" >6</th>\n",
       "                        <td id=\"T_d2cb92ba_9f60_11ea_a6b1_00155d000801row6_col0\" class=\"data row6 col0\" >Categorical Features </td>\n",
       "                        <td id=\"T_d2cb92ba_9f60_11ea_a6b1_00155d000801row6_col1\" class=\"data row6 col1\" >2</td>\n",
       "            </tr>\n",
       "            <tr>\n",
       "                        <th id=\"T_d2cb92ba_9f60_11ea_a6b1_00155d000801level0_row7\" class=\"row_heading level0 row7\" >7</th>\n",
       "                        <td id=\"T_d2cb92ba_9f60_11ea_a6b1_00155d000801row7_col0\" class=\"data row7 col0\" >Ordinal Features </td>\n",
       "                        <td id=\"T_d2cb92ba_9f60_11ea_a6b1_00155d000801row7_col1\" class=\"data row7 col1\" >False</td>\n",
       "            </tr>\n",
       "            <tr>\n",
       "                        <th id=\"T_d2cb92ba_9f60_11ea_a6b1_00155d000801level0_row8\" class=\"row_heading level0 row8\" >8</th>\n",
       "                        <td id=\"T_d2cb92ba_9f60_11ea_a6b1_00155d000801row8_col0\" class=\"data row8 col0\" >High Cardinality Features </td>\n",
       "                        <td id=\"T_d2cb92ba_9f60_11ea_a6b1_00155d000801row8_col1\" class=\"data row8 col1\" >False</td>\n",
       "            </tr>\n",
       "            <tr>\n",
       "                        <th id=\"T_d2cb92ba_9f60_11ea_a6b1_00155d000801level0_row9\" class=\"row_heading level0 row9\" >9</th>\n",
       "                        <td id=\"T_d2cb92ba_9f60_11ea_a6b1_00155d000801row9_col0\" class=\"data row9 col0\" >High Cardinality Method </td>\n",
       "                        <td id=\"T_d2cb92ba_9f60_11ea_a6b1_00155d000801row9_col1\" class=\"data row9 col1\" >None</td>\n",
       "            </tr>\n",
       "            <tr>\n",
       "                        <th id=\"T_d2cb92ba_9f60_11ea_a6b1_00155d000801level0_row10\" class=\"row_heading level0 row10\" >10</th>\n",
       "                        <td id=\"T_d2cb92ba_9f60_11ea_a6b1_00155d000801row10_col0\" class=\"data row10 col0\" >Sampled Data</td>\n",
       "                        <td id=\"T_d2cb92ba_9f60_11ea_a6b1_00155d000801row10_col1\" class=\"data row10 col1\" >(4292, 19)</td>\n",
       "            </tr>\n",
       "            <tr>\n",
       "                        <th id=\"T_d2cb92ba_9f60_11ea_a6b1_00155d000801level0_row11\" class=\"row_heading level0 row11\" >11</th>\n",
       "                        <td id=\"T_d2cb92ba_9f60_11ea_a6b1_00155d000801row11_col0\" class=\"data row11 col0\" >Transformed Train Set</td>\n",
       "                        <td id=\"T_d2cb92ba_9f60_11ea_a6b1_00155d000801row11_col1\" class=\"data row11 col1\" >(4249, 27)</td>\n",
       "            </tr>\n",
       "            <tr>\n",
       "                        <th id=\"T_d2cb92ba_9f60_11ea_a6b1_00155d000801level0_row12\" class=\"row_heading level0 row12\" >12</th>\n",
       "                        <td id=\"T_d2cb92ba_9f60_11ea_a6b1_00155d000801row12_col0\" class=\"data row12 col0\" >Transformed Test Set</td>\n",
       "                        <td id=\"T_d2cb92ba_9f60_11ea_a6b1_00155d000801row12_col1\" class=\"data row12 col1\" >(43, 27)</td>\n",
       "            </tr>\n",
       "            <tr>\n",
       "                        <th id=\"T_d2cb92ba_9f60_11ea_a6b1_00155d000801level0_row13\" class=\"row_heading level0 row13\" >13</th>\n",
       "                        <td id=\"T_d2cb92ba_9f60_11ea_a6b1_00155d000801row13_col0\" class=\"data row13 col0\" >Numeric Imputer </td>\n",
       "                        <td id=\"T_d2cb92ba_9f60_11ea_a6b1_00155d000801row13_col1\" class=\"data row13 col1\" >mean</td>\n",
       "            </tr>\n",
       "            <tr>\n",
       "                        <th id=\"T_d2cb92ba_9f60_11ea_a6b1_00155d000801level0_row14\" class=\"row_heading level0 row14\" >14</th>\n",
       "                        <td id=\"T_d2cb92ba_9f60_11ea_a6b1_00155d000801row14_col0\" class=\"data row14 col0\" >Categorical Imputer </td>\n",
       "                        <td id=\"T_d2cb92ba_9f60_11ea_a6b1_00155d000801row14_col1\" class=\"data row14 col1\" >constant</td>\n",
       "            </tr>\n",
       "            <tr>\n",
       "                        <th id=\"T_d2cb92ba_9f60_11ea_a6b1_00155d000801level0_row15\" class=\"row_heading level0 row15\" >15</th>\n",
       "                        <td id=\"T_d2cb92ba_9f60_11ea_a6b1_00155d000801row15_col0\" class=\"data row15 col0\" >Normalize </td>\n",
       "                        <td id=\"T_d2cb92ba_9f60_11ea_a6b1_00155d000801row15_col1\" class=\"data row15 col1\" >True</td>\n",
       "            </tr>\n",
       "            <tr>\n",
       "                        <th id=\"T_d2cb92ba_9f60_11ea_a6b1_00155d000801level0_row16\" class=\"row_heading level0 row16\" >16</th>\n",
       "                        <td id=\"T_d2cb92ba_9f60_11ea_a6b1_00155d000801row16_col0\" class=\"data row16 col0\" >Normalize Method </td>\n",
       "                        <td id=\"T_d2cb92ba_9f60_11ea_a6b1_00155d000801row16_col1\" class=\"data row16 col1\" >zscore</td>\n",
       "            </tr>\n",
       "            <tr>\n",
       "                        <th id=\"T_d2cb92ba_9f60_11ea_a6b1_00155d000801level0_row17\" class=\"row_heading level0 row17\" >17</th>\n",
       "                        <td id=\"T_d2cb92ba_9f60_11ea_a6b1_00155d000801row17_col0\" class=\"data row17 col0\" >Transformation </td>\n",
       "                        <td id=\"T_d2cb92ba_9f60_11ea_a6b1_00155d000801row17_col1\" class=\"data row17 col1\" >True</td>\n",
       "            </tr>\n",
       "            <tr>\n",
       "                        <th id=\"T_d2cb92ba_9f60_11ea_a6b1_00155d000801level0_row18\" class=\"row_heading level0 row18\" >18</th>\n",
       "                        <td id=\"T_d2cb92ba_9f60_11ea_a6b1_00155d000801row18_col0\" class=\"data row18 col0\" >Transformation Method </td>\n",
       "                        <td id=\"T_d2cb92ba_9f60_11ea_a6b1_00155d000801row18_col1\" class=\"data row18 col1\" >yeo-johnson</td>\n",
       "            </tr>\n",
       "            <tr>\n",
       "                        <th id=\"T_d2cb92ba_9f60_11ea_a6b1_00155d000801level0_row19\" class=\"row_heading level0 row19\" >19</th>\n",
       "                        <td id=\"T_d2cb92ba_9f60_11ea_a6b1_00155d000801row19_col0\" class=\"data row19 col0\" >PCA </td>\n",
       "                        <td id=\"T_d2cb92ba_9f60_11ea_a6b1_00155d000801row19_col1\" class=\"data row19 col1\" >False</td>\n",
       "            </tr>\n",
       "            <tr>\n",
       "                        <th id=\"T_d2cb92ba_9f60_11ea_a6b1_00155d000801level0_row20\" class=\"row_heading level0 row20\" >20</th>\n",
       "                        <td id=\"T_d2cb92ba_9f60_11ea_a6b1_00155d000801row20_col0\" class=\"data row20 col0\" >PCA Method </td>\n",
       "                        <td id=\"T_d2cb92ba_9f60_11ea_a6b1_00155d000801row20_col1\" class=\"data row20 col1\" >None</td>\n",
       "            </tr>\n",
       "            <tr>\n",
       "                        <th id=\"T_d2cb92ba_9f60_11ea_a6b1_00155d000801level0_row21\" class=\"row_heading level0 row21\" >21</th>\n",
       "                        <td id=\"T_d2cb92ba_9f60_11ea_a6b1_00155d000801row21_col0\" class=\"data row21 col0\" >PCA Components </td>\n",
       "                        <td id=\"T_d2cb92ba_9f60_11ea_a6b1_00155d000801row21_col1\" class=\"data row21 col1\" >None</td>\n",
       "            </tr>\n",
       "            <tr>\n",
       "                        <th id=\"T_d2cb92ba_9f60_11ea_a6b1_00155d000801level0_row22\" class=\"row_heading level0 row22\" >22</th>\n",
       "                        <td id=\"T_d2cb92ba_9f60_11ea_a6b1_00155d000801row22_col0\" class=\"data row22 col0\" >Ignore Low Variance </td>\n",
       "                        <td id=\"T_d2cb92ba_9f60_11ea_a6b1_00155d000801row22_col1\" class=\"data row22 col1\" >False</td>\n",
       "            </tr>\n",
       "            <tr>\n",
       "                        <th id=\"T_d2cb92ba_9f60_11ea_a6b1_00155d000801level0_row23\" class=\"row_heading level0 row23\" >23</th>\n",
       "                        <td id=\"T_d2cb92ba_9f60_11ea_a6b1_00155d000801row23_col0\" class=\"data row23 col0\" >Combine Rare Levels </td>\n",
       "                        <td id=\"T_d2cb92ba_9f60_11ea_a6b1_00155d000801row23_col1\" class=\"data row23 col1\" >False</td>\n",
       "            </tr>\n",
       "            <tr>\n",
       "                        <th id=\"T_d2cb92ba_9f60_11ea_a6b1_00155d000801level0_row24\" class=\"row_heading level0 row24\" >24</th>\n",
       "                        <td id=\"T_d2cb92ba_9f60_11ea_a6b1_00155d000801row24_col0\" class=\"data row24 col0\" >Rare Level Threshold </td>\n",
       "                        <td id=\"T_d2cb92ba_9f60_11ea_a6b1_00155d000801row24_col1\" class=\"data row24 col1\" >None</td>\n",
       "            </tr>\n",
       "            <tr>\n",
       "                        <th id=\"T_d2cb92ba_9f60_11ea_a6b1_00155d000801level0_row25\" class=\"row_heading level0 row25\" >25</th>\n",
       "                        <td id=\"T_d2cb92ba_9f60_11ea_a6b1_00155d000801row25_col0\" class=\"data row25 col0\" >Numeric Binning </td>\n",
       "                        <td id=\"T_d2cb92ba_9f60_11ea_a6b1_00155d000801row25_col1\" class=\"data row25 col1\" >False</td>\n",
       "            </tr>\n",
       "            <tr>\n",
       "                        <th id=\"T_d2cb92ba_9f60_11ea_a6b1_00155d000801level0_row26\" class=\"row_heading level0 row26\" >26</th>\n",
       "                        <td id=\"T_d2cb92ba_9f60_11ea_a6b1_00155d000801row26_col0\" class=\"data row26 col0\" >Remove Outliers </td>\n",
       "                        <td id=\"T_d2cb92ba_9f60_11ea_a6b1_00155d000801row26_col1\" class=\"data row26 col1\" >True</td>\n",
       "            </tr>\n",
       "            <tr>\n",
       "                        <th id=\"T_d2cb92ba_9f60_11ea_a6b1_00155d000801level0_row27\" class=\"row_heading level0 row27\" >27</th>\n",
       "                        <td id=\"T_d2cb92ba_9f60_11ea_a6b1_00155d000801row27_col0\" class=\"data row27 col0\" >Outliers Threshold </td>\n",
       "                        <td id=\"T_d2cb92ba_9f60_11ea_a6b1_00155d000801row27_col1\" class=\"data row27 col1\" >0.050000</td>\n",
       "            </tr>\n",
       "            <tr>\n",
       "                        <th id=\"T_d2cb92ba_9f60_11ea_a6b1_00155d000801level0_row28\" class=\"row_heading level0 row28\" >28</th>\n",
       "                        <td id=\"T_d2cb92ba_9f60_11ea_a6b1_00155d000801row28_col0\" class=\"data row28 col0\" >Remove Multicollinearity </td>\n",
       "                        <td id=\"T_d2cb92ba_9f60_11ea_a6b1_00155d000801row28_col1\" class=\"data row28 col1\" >False</td>\n",
       "            </tr>\n",
       "            <tr>\n",
       "                        <th id=\"T_d2cb92ba_9f60_11ea_a6b1_00155d000801level0_row29\" class=\"row_heading level0 row29\" >29</th>\n",
       "                        <td id=\"T_d2cb92ba_9f60_11ea_a6b1_00155d000801row29_col0\" class=\"data row29 col0\" >Multicollinearity Threshold </td>\n",
       "                        <td id=\"T_d2cb92ba_9f60_11ea_a6b1_00155d000801row29_col1\" class=\"data row29 col1\" >None</td>\n",
       "            </tr>\n",
       "            <tr>\n",
       "                        <th id=\"T_d2cb92ba_9f60_11ea_a6b1_00155d000801level0_row30\" class=\"row_heading level0 row30\" >30</th>\n",
       "                        <td id=\"T_d2cb92ba_9f60_11ea_a6b1_00155d000801row30_col0\" class=\"data row30 col0\" >Clustering </td>\n",
       "                        <td id=\"T_d2cb92ba_9f60_11ea_a6b1_00155d000801row30_col1\" class=\"data row30 col1\" >False</td>\n",
       "            </tr>\n",
       "            <tr>\n",
       "                        <th id=\"T_d2cb92ba_9f60_11ea_a6b1_00155d000801level0_row31\" class=\"row_heading level0 row31\" >31</th>\n",
       "                        <td id=\"T_d2cb92ba_9f60_11ea_a6b1_00155d000801row31_col0\" class=\"data row31 col0\" >Clustering Iteration </td>\n",
       "                        <td id=\"T_d2cb92ba_9f60_11ea_a6b1_00155d000801row31_col1\" class=\"data row31 col1\" >None</td>\n",
       "            </tr>\n",
       "            <tr>\n",
       "                        <th id=\"T_d2cb92ba_9f60_11ea_a6b1_00155d000801level0_row32\" class=\"row_heading level0 row32\" >32</th>\n",
       "                        <td id=\"T_d2cb92ba_9f60_11ea_a6b1_00155d000801row32_col0\" class=\"data row32 col0\" >Polynomial Features </td>\n",
       "                        <td id=\"T_d2cb92ba_9f60_11ea_a6b1_00155d000801row32_col1\" class=\"data row32 col1\" >False</td>\n",
       "            </tr>\n",
       "            <tr>\n",
       "                        <th id=\"T_d2cb92ba_9f60_11ea_a6b1_00155d000801level0_row33\" class=\"row_heading level0 row33\" >33</th>\n",
       "                        <td id=\"T_d2cb92ba_9f60_11ea_a6b1_00155d000801row33_col0\" class=\"data row33 col0\" >Polynomial Degree </td>\n",
       "                        <td id=\"T_d2cb92ba_9f60_11ea_a6b1_00155d000801row33_col1\" class=\"data row33 col1\" >None</td>\n",
       "            </tr>\n",
       "            <tr>\n",
       "                        <th id=\"T_d2cb92ba_9f60_11ea_a6b1_00155d000801level0_row34\" class=\"row_heading level0 row34\" >34</th>\n",
       "                        <td id=\"T_d2cb92ba_9f60_11ea_a6b1_00155d000801row34_col0\" class=\"data row34 col0\" >Trignometry Features </td>\n",
       "                        <td id=\"T_d2cb92ba_9f60_11ea_a6b1_00155d000801row34_col1\" class=\"data row34 col1\" >False</td>\n",
       "            </tr>\n",
       "            <tr>\n",
       "                        <th id=\"T_d2cb92ba_9f60_11ea_a6b1_00155d000801level0_row35\" class=\"row_heading level0 row35\" >35</th>\n",
       "                        <td id=\"T_d2cb92ba_9f60_11ea_a6b1_00155d000801row35_col0\" class=\"data row35 col0\" >Polynomial Threshold </td>\n",
       "                        <td id=\"T_d2cb92ba_9f60_11ea_a6b1_00155d000801row35_col1\" class=\"data row35 col1\" >None</td>\n",
       "            </tr>\n",
       "            <tr>\n",
       "                        <th id=\"T_d2cb92ba_9f60_11ea_a6b1_00155d000801level0_row36\" class=\"row_heading level0 row36\" >36</th>\n",
       "                        <td id=\"T_d2cb92ba_9f60_11ea_a6b1_00155d000801row36_col0\" class=\"data row36 col0\" >Group Features </td>\n",
       "                        <td id=\"T_d2cb92ba_9f60_11ea_a6b1_00155d000801row36_col1\" class=\"data row36 col1\" >False</td>\n",
       "            </tr>\n",
       "            <tr>\n",
       "                        <th id=\"T_d2cb92ba_9f60_11ea_a6b1_00155d000801level0_row37\" class=\"row_heading level0 row37\" >37</th>\n",
       "                        <td id=\"T_d2cb92ba_9f60_11ea_a6b1_00155d000801row37_col0\" class=\"data row37 col0\" >Feature Selection </td>\n",
       "                        <td id=\"T_d2cb92ba_9f60_11ea_a6b1_00155d000801row37_col1\" class=\"data row37 col1\" >False</td>\n",
       "            </tr>\n",
       "            <tr>\n",
       "                        <th id=\"T_d2cb92ba_9f60_11ea_a6b1_00155d000801level0_row38\" class=\"row_heading level0 row38\" >38</th>\n",
       "                        <td id=\"T_d2cb92ba_9f60_11ea_a6b1_00155d000801row38_col0\" class=\"data row38 col0\" >Features Selection Threshold </td>\n",
       "                        <td id=\"T_d2cb92ba_9f60_11ea_a6b1_00155d000801row38_col1\" class=\"data row38 col1\" >None</td>\n",
       "            </tr>\n",
       "            <tr>\n",
       "                        <th id=\"T_d2cb92ba_9f60_11ea_a6b1_00155d000801level0_row39\" class=\"row_heading level0 row39\" >39</th>\n",
       "                        <td id=\"T_d2cb92ba_9f60_11ea_a6b1_00155d000801row39_col0\" class=\"data row39 col0\" >Feature Interaction </td>\n",
       "                        <td id=\"T_d2cb92ba_9f60_11ea_a6b1_00155d000801row39_col1\" class=\"data row39 col1\" >False</td>\n",
       "            </tr>\n",
       "            <tr>\n",
       "                        <th id=\"T_d2cb92ba_9f60_11ea_a6b1_00155d000801level0_row40\" class=\"row_heading level0 row40\" >40</th>\n",
       "                        <td id=\"T_d2cb92ba_9f60_11ea_a6b1_00155d000801row40_col0\" class=\"data row40 col0\" >Feature Ratio </td>\n",
       "                        <td id=\"T_d2cb92ba_9f60_11ea_a6b1_00155d000801row40_col1\" class=\"data row40 col1\" >False</td>\n",
       "            </tr>\n",
       "            <tr>\n",
       "                        <th id=\"T_d2cb92ba_9f60_11ea_a6b1_00155d000801level0_row41\" class=\"row_heading level0 row41\" >41</th>\n",
       "                        <td id=\"T_d2cb92ba_9f60_11ea_a6b1_00155d000801row41_col0\" class=\"data row41 col0\" >Interaction Threshold </td>\n",
       "                        <td id=\"T_d2cb92ba_9f60_11ea_a6b1_00155d000801row41_col1\" class=\"data row41 col1\" >None</td>\n",
       "            </tr>\n",
       "    </tbody></table>"
      ],
      "text/plain": [
       "<pandas.io.formats.style.Styler at 0x7f1d9471d2d0>"
      ]
     },
     "metadata": {},
     "output_type": "display_data"
    }
   ],
   "source": [
    "clf = setup(data = df_loans, train_size = .99, target = 'IsFirstDefault', session_id = 69,\n",
    "            normalize = True,\n",
    "            transformation = True,\n",
    "            remove_outliers = True)"
   ]
  },
  {
   "cell_type": "markdown",
   "metadata": {},
   "source": [
    "# Train"
   ]
  },
  {
   "cell_type": "markdown",
   "metadata": {},
   "source": [
    "## useful links\n",
    "https://docs.databricks.com/_static/notebooks/mlflow/mlflow-quick-start-deployment-aws.html\n",
    "\n",
    "https://towardsdatascience.com/deploying-models-to-production-with-mlflow-and-amazon-sagemaker-d21f67909198\n",
    "\n",
    "https://www.h2o.ai/blog/a-deep-dive-into-h2os-automl/"
   ]
  },
  {
   "cell_type": "markdown",
   "metadata": {},
   "source": [
    "## specify features"
   ]
  },
  {
   "cell_type": "code",
   "execution_count": null,
   "metadata": {},
   "outputs": [],
   "source": [
    "features_drop = ['LoanCount',\n",
    "'OriginationDate',             \n",
    "'BankReportData',                   \n",
    "'ReportTimeAdded',                  \n",
    "'Campaign',\n",
    "'primary_account',\n",
    "'txn_days_count', 'DateOfBirth',]"
   ]
  },
  {
   "cell_type": "code",
   "execution_count": null,
   "metadata": {},
   "outputs": [],
   "source": [
    "df_train = df_loans.drop(columns=features_drop,axis=1)"
   ]
  },
  {
   "cell_type": "markdown",
   "metadata": {},
   "source": [
    "### H20"
   ]
  },
  {
   "cell_type": "code",
   "execution_count": null,
   "metadata": {},
   "outputs": [],
   "source": [
    "import h2o\n",
    "from h2o.automl import H2OAutoML\n",
    "h2o.init(max_mem_size='16G')"
   ]
  },
  {
   "cell_type": "code",
   "execution_count": null,
   "metadata": {},
   "outputs": [],
   "source": [
    "df_h20_train =  h2o.H2OFrame(df_train)"
   ]
  },
  {
   "cell_type": "code",
   "execution_count": null,
   "metadata": {},
   "outputs": [],
   "source": [
    "y = \"IsFirstDefault\" \n",
    "x = df_h20_train.columns\n",
    "x.remove(y)\n",
    "x.remove('LoanId')"
   ]
  },
  {
   "cell_type": "code",
   "execution_count": null,
   "metadata": {},
   "outputs": [],
   "source": [
    "aml = H2OAutoML(max_runtime_secs=120, seed=1)\n",
    "aml.train(x=x, y=y, training_frame=df_h20_train)"
   ]
  },
  {
   "cell_type": "code",
   "execution_count": null,
   "metadata": {},
   "outputs": [],
   "source": [
    "lb = aml.leaderboard\n",
    "lb.head()"
   ]
  },
  {
   "cell_type": "markdown",
   "metadata": {},
   "source": [
    "### pycaret"
   ]
  },
  {
   "cell_type": "code",
   "execution_count": 72,
   "metadata": {},
   "outputs": [
    {
     "data": {
      "text/html": [
       "<div>\n",
       "<style scoped>\n",
       "    .dataframe tbody tr th:only-of-type {\n",
       "        vertical-align: middle;\n",
       "    }\n",
       "\n",
       "    .dataframe tbody tr th {\n",
       "        vertical-align: top;\n",
       "    }\n",
       "\n",
       "    .dataframe thead th {\n",
       "        text-align: right;\n",
       "    }\n",
       "</style>\n",
       "<table border=\"1\" class=\"dataframe\">\n",
       "  <thead>\n",
       "    <tr style=\"text-align: right;\">\n",
       "      <th></th>\n",
       "      <th>Accuracy</th>\n",
       "      <th>AUC</th>\n",
       "      <th>Recall</th>\n",
       "      <th>Prec.</th>\n",
       "      <th>F1</th>\n",
       "      <th>Kappa</th>\n",
       "    </tr>\n",
       "  </thead>\n",
       "  <tbody>\n",
       "    <tr>\n",
       "      <th>0</th>\n",
       "      <td>0.5953</td>\n",
       "      <td>0.7041</td>\n",
       "      <td>0.7125</td>\n",
       "      <td>0.2767</td>\n",
       "      <td>0.3986</td>\n",
       "      <td>0.1749</td>\n",
       "    </tr>\n",
       "    <tr>\n",
       "      <th>1</th>\n",
       "      <td>0.5647</td>\n",
       "      <td>0.6415</td>\n",
       "      <td>0.6500</td>\n",
       "      <td>0.2488</td>\n",
       "      <td>0.3599</td>\n",
       "      <td>0.1204</td>\n",
       "    </tr>\n",
       "    <tr>\n",
       "      <th>2</th>\n",
       "      <td>0.5506</td>\n",
       "      <td>0.6693</td>\n",
       "      <td>0.7000</td>\n",
       "      <td>0.2511</td>\n",
       "      <td>0.3696</td>\n",
       "      <td>0.1280</td>\n",
       "    </tr>\n",
       "    <tr>\n",
       "      <th>3</th>\n",
       "      <td>0.5929</td>\n",
       "      <td>0.6625</td>\n",
       "      <td>0.6750</td>\n",
       "      <td>0.2687</td>\n",
       "      <td>0.3843</td>\n",
       "      <td>0.1575</td>\n",
       "    </tr>\n",
       "    <tr>\n",
       "      <th>4</th>\n",
       "      <td>0.5506</td>\n",
       "      <td>0.6196</td>\n",
       "      <td>0.6375</td>\n",
       "      <td>0.2394</td>\n",
       "      <td>0.3481</td>\n",
       "      <td>0.1025</td>\n",
       "    </tr>\n",
       "    <tr>\n",
       "      <th>5</th>\n",
       "      <td>0.5647</td>\n",
       "      <td>0.6951</td>\n",
       "      <td>0.8125</td>\n",
       "      <td>0.2766</td>\n",
       "      <td>0.4127</td>\n",
       "      <td>0.1833</td>\n",
       "    </tr>\n",
       "    <tr>\n",
       "      <th>6</th>\n",
       "      <td>0.5482</td>\n",
       "      <td>0.6466</td>\n",
       "      <td>0.6790</td>\n",
       "      <td>0.2489</td>\n",
       "      <td>0.3642</td>\n",
       "      <td>0.1183</td>\n",
       "    </tr>\n",
       "    <tr>\n",
       "      <th>7</th>\n",
       "      <td>0.5741</td>\n",
       "      <td>0.6671</td>\n",
       "      <td>0.7531</td>\n",
       "      <td>0.2748</td>\n",
       "      <td>0.4026</td>\n",
       "      <td>0.1712</td>\n",
       "    </tr>\n",
       "    <tr>\n",
       "      <th>8</th>\n",
       "      <td>0.5812</td>\n",
       "      <td>0.6529</td>\n",
       "      <td>0.6420</td>\n",
       "      <td>0.2587</td>\n",
       "      <td>0.3688</td>\n",
       "      <td>0.1333</td>\n",
       "    </tr>\n",
       "    <tr>\n",
       "      <th>9</th>\n",
       "      <td>0.5731</td>\n",
       "      <td>0.6359</td>\n",
       "      <td>0.6375</td>\n",
       "      <td>0.2512</td>\n",
       "      <td>0.3604</td>\n",
       "      <td>0.1230</td>\n",
       "    </tr>\n",
       "    <tr>\n",
       "      <th>Mean</th>\n",
       "      <td>0.5695</td>\n",
       "      <td>0.6595</td>\n",
       "      <td>0.6899</td>\n",
       "      <td>0.2595</td>\n",
       "      <td>0.3769</td>\n",
       "      <td>0.1412</td>\n",
       "    </tr>\n",
       "    <tr>\n",
       "      <th>SD</th>\n",
       "      <td>0.0161</td>\n",
       "      <td>0.0247</td>\n",
       "      <td>0.0542</td>\n",
       "      <td>0.0129</td>\n",
       "      <td>0.0203</td>\n",
       "      <td>0.0266</td>\n",
       "    </tr>\n",
       "  </tbody>\n",
       "</table>\n",
       "</div>"
      ],
      "text/plain": [
       "      Accuracy     AUC  Recall   Prec.      F1   Kappa\n",
       "0       0.5953  0.7041  0.7125  0.2767  0.3986  0.1749\n",
       "1       0.5647  0.6415  0.6500  0.2488  0.3599  0.1204\n",
       "2       0.5506  0.6693  0.7000  0.2511  0.3696  0.1280\n",
       "3       0.5929  0.6625  0.6750  0.2687  0.3843  0.1575\n",
       "4       0.5506  0.6196  0.6375  0.2394  0.3481  0.1025\n",
       "5       0.5647  0.6951  0.8125  0.2766  0.4127  0.1833\n",
       "6       0.5482  0.6466  0.6790  0.2489  0.3642  0.1183\n",
       "7       0.5741  0.6671  0.7531  0.2748  0.4026  0.1712\n",
       "8       0.5812  0.6529  0.6420  0.2587  0.3688  0.1333\n",
       "9       0.5731  0.6359  0.6375  0.2512  0.3604  0.1230\n",
       "Mean    0.5695  0.6595  0.6899  0.2595  0.3769  0.1412\n",
       "SD      0.0161  0.0247  0.0542  0.0129  0.0203  0.0266"
      ]
     },
     "metadata": {},
     "output_type": "display_data"
    }
   ],
   "source": [
    "tuned_lr = tune_model('lr', optimize = 'F1')"
   ]
  },
  {
   "cell_type": "code",
   "execution_count": 73,
   "metadata": {},
   "outputs": [
    {
     "data": {
      "text/html": [
       "<div>\n",
       "<style scoped>\n",
       "    .dataframe tbody tr th:only-of-type {\n",
       "        vertical-align: middle;\n",
       "    }\n",
       "\n",
       "    .dataframe tbody tr th {\n",
       "        vertical-align: top;\n",
       "    }\n",
       "\n",
       "    .dataframe thead th {\n",
       "        text-align: right;\n",
       "    }\n",
       "</style>\n",
       "<table border=\"1\" class=\"dataframe\">\n",
       "  <thead>\n",
       "    <tr style=\"text-align: right;\">\n",
       "      <th></th>\n",
       "      <th>Accuracy</th>\n",
       "      <th>AUC</th>\n",
       "      <th>Recall</th>\n",
       "      <th>Prec.</th>\n",
       "      <th>F1</th>\n",
       "      <th>Kappa</th>\n",
       "    </tr>\n",
       "  </thead>\n",
       "  <tbody>\n",
       "    <tr>\n",
       "      <th>0</th>\n",
       "      <td>0.5835</td>\n",
       "      <td>0.6962</td>\n",
       "      <td>0.6875</td>\n",
       "      <td>0.2657</td>\n",
       "      <td>0.3833</td>\n",
       "      <td>0.1534</td>\n",
       "    </tr>\n",
       "    <tr>\n",
       "      <th>1</th>\n",
       "      <td>0.5647</td>\n",
       "      <td>0.6407</td>\n",
       "      <td>0.6500</td>\n",
       "      <td>0.2488</td>\n",
       "      <td>0.3599</td>\n",
       "      <td>0.1204</td>\n",
       "    </tr>\n",
       "    <tr>\n",
       "      <th>2</th>\n",
       "      <td>0.5553</td>\n",
       "      <td>0.6620</td>\n",
       "      <td>0.6625</td>\n",
       "      <td>0.2465</td>\n",
       "      <td>0.3593</td>\n",
       "      <td>0.1171</td>\n",
       "    </tr>\n",
       "    <tr>\n",
       "      <th>3</th>\n",
       "      <td>0.5953</td>\n",
       "      <td>0.6584</td>\n",
       "      <td>0.6500</td>\n",
       "      <td>0.2653</td>\n",
       "      <td>0.3768</td>\n",
       "      <td>0.1494</td>\n",
       "    </tr>\n",
       "    <tr>\n",
       "      <th>4</th>\n",
       "      <td>0.5506</td>\n",
       "      <td>0.6197</td>\n",
       "      <td>0.6250</td>\n",
       "      <td>0.2370</td>\n",
       "      <td>0.3436</td>\n",
       "      <td>0.0972</td>\n",
       "    </tr>\n",
       "    <tr>\n",
       "      <th>5</th>\n",
       "      <td>0.5529</td>\n",
       "      <td>0.6921</td>\n",
       "      <td>0.8000</td>\n",
       "      <td>0.2689</td>\n",
       "      <td>0.4025</td>\n",
       "      <td>0.1681</td>\n",
       "    </tr>\n",
       "    <tr>\n",
       "      <th>6</th>\n",
       "      <td>0.5718</td>\n",
       "      <td>0.6541</td>\n",
       "      <td>0.7284</td>\n",
       "      <td>0.2694</td>\n",
       "      <td>0.3933</td>\n",
       "      <td>0.1594</td>\n",
       "    </tr>\n",
       "    <tr>\n",
       "      <th>7</th>\n",
       "      <td>0.5859</td>\n",
       "      <td>0.6589</td>\n",
       "      <td>0.7284</td>\n",
       "      <td>0.2770</td>\n",
       "      <td>0.4014</td>\n",
       "      <td>0.1730</td>\n",
       "    </tr>\n",
       "    <tr>\n",
       "      <th>8</th>\n",
       "      <td>0.5929</td>\n",
       "      <td>0.6615</td>\n",
       "      <td>0.6296</td>\n",
       "      <td>0.2629</td>\n",
       "      <td>0.3709</td>\n",
       "      <td>0.1395</td>\n",
       "    </tr>\n",
       "    <tr>\n",
       "      <th>9</th>\n",
       "      <td>0.5825</td>\n",
       "      <td>0.6416</td>\n",
       "      <td>0.6500</td>\n",
       "      <td>0.2587</td>\n",
       "      <td>0.3701</td>\n",
       "      <td>0.1372</td>\n",
       "    </tr>\n",
       "    <tr>\n",
       "      <th>Mean</th>\n",
       "      <td>0.5735</td>\n",
       "      <td>0.6585</td>\n",
       "      <td>0.6811</td>\n",
       "      <td>0.2600</td>\n",
       "      <td>0.3761</td>\n",
       "      <td>0.1415</td>\n",
       "    </tr>\n",
       "    <tr>\n",
       "      <th>SD</th>\n",
       "      <td>0.0160</td>\n",
       "      <td>0.0217</td>\n",
       "      <td>0.0526</td>\n",
       "      <td>0.0117</td>\n",
       "      <td>0.0183</td>\n",
       "      <td>0.0229</td>\n",
       "    </tr>\n",
       "  </tbody>\n",
       "</table>\n",
       "</div>"
      ],
      "text/plain": [
       "      Accuracy     AUC  Recall   Prec.      F1   Kappa\n",
       "0       0.5835  0.6962  0.6875  0.2657  0.3833  0.1534\n",
       "1       0.5647  0.6407  0.6500  0.2488  0.3599  0.1204\n",
       "2       0.5553  0.6620  0.6625  0.2465  0.3593  0.1171\n",
       "3       0.5953  0.6584  0.6500  0.2653  0.3768  0.1494\n",
       "4       0.5506  0.6197  0.6250  0.2370  0.3436  0.0972\n",
       "5       0.5529  0.6921  0.8000  0.2689  0.4025  0.1681\n",
       "6       0.5718  0.6541  0.7284  0.2694  0.3933  0.1594\n",
       "7       0.5859  0.6589  0.7284  0.2770  0.4014  0.1730\n",
       "8       0.5929  0.6615  0.6296  0.2629  0.3709  0.1395\n",
       "9       0.5825  0.6416  0.6500  0.2587  0.3701  0.1372\n",
       "Mean    0.5735  0.6585  0.6811  0.2600  0.3761  0.1415\n",
       "SD      0.0160  0.0217  0.0526  0.0117  0.0183  0.0229"
      ]
     },
     "metadata": {},
     "output_type": "display_data"
    }
   ],
   "source": [
    "bagged_lr = ensemble_model(tuned_lr, method = 'Bagging')"
   ]
  },
  {
   "cell_type": "code",
   "execution_count": 74,
   "metadata": {},
   "outputs": [],
   "source": [
    "final_model = finalize_model(bagged_lr)"
   ]
  },
  {
   "cell_type": "markdown",
   "metadata": {},
   "source": [
    "# Predict"
   ]
  },
  {
   "cell_type": "markdown",
   "metadata": {},
   "source": [
    "### primary account"
   ]
  },
  {
   "cell_type": "code",
   "execution_count": null,
   "metadata": {},
   "outputs": [],
   "source": [
    "NCPU = mp.cpu_count() - 2 if mp.cpu_count() > 2 else 1\n",
    "with mp.Pool(processes=NCPU) as pool:\n",
    "    res_primary_accts = pool.map(get_primary_account, df_loan_eval['BankReportData'])"
   ]
  },
  {
   "cell_type": "code",
   "execution_count": null,
   "metadata": {},
   "outputs": [],
   "source": [
    "df_loan_eval['primary_account'] = res_primary_accts"
   ]
  },
  {
   "cell_type": "code",
   "execution_count": null,
   "metadata": {},
   "outputs": [],
   "source": [
    "df_loan_eval = df_loan_eval.loc[df_loan_eval['primary_account'].notnull(),:]"
   ]
  },
  {
   "cell_type": "markdown",
   "metadata": {},
   "source": [
    "### filter loans having transaction days >= 60 in primary account"
   ]
  },
  {
   "cell_type": "code",
   "execution_count": null,
   "metadata": {},
   "outputs": [],
   "source": [
    "NCPU = mp.cpu_count() - 2 if mp.cpu_count() > 2 else 1\n",
    "with mp.Pool(processes=NCPU) as pool:\n",
    "    txn_days_count = pool.starmap(get_transaction_days_count, zip(df_loan_eval['primary_account'],df_loan_eval['BankReportData']))"
   ]
  },
  {
   "cell_type": "code",
   "execution_count": null,
   "metadata": {},
   "outputs": [],
   "source": [
    "df_loan_eval['txn_days_count'] = txn_days_count"
   ]
  },
  {
   "cell_type": "code",
   "execution_count": null,
   "metadata": {},
   "outputs": [],
   "source": [
    "df_loan_eval = df_loan_eval.loc[df_loan_eval['txn_days_count']==True,:]"
   ]
  },
  {
   "cell_type": "markdown",
   "metadata": {},
   "source": [
    "### calculate age"
   ]
  },
  {
   "cell_type": "code",
   "execution_count": null,
   "metadata": {},
   "outputs": [],
   "source": [
    "df_loan_eval['Age'] = df_loan_eval.apply(lambda x: calculate_age(x['OriginationDate'],x['DateOfBirth']), axis = 1)"
   ]
  },
  {
   "cell_type": "markdown",
   "metadata": {},
   "source": [
    "### lead provider"
   ]
  },
  {
   "cell_type": "code",
   "execution_count": null,
   "metadata": {},
   "outputs": [],
   "source": [
    "df_loan_eval = df_loan_eval.loc[df_loan_eval['Campaign'].notnull(),:]"
   ]
  },
  {
   "cell_type": "code",
   "execution_count": null,
   "metadata": {},
   "outputs": [],
   "source": [
    "df_loan_eval['LeadProvider'] = df_loan_eval['Campaign'].str.extract(\"(\" + \"|\".join(lead_provider_list) +\")\",flags = re.IGNORECASE)"
   ]
  },
  {
   "cell_type": "code",
   "execution_count": null,
   "metadata": {},
   "outputs": [],
   "source": [
    "df_loan_eval['LeadProvider']=df_loan_eval['LeadProvider'].fillna('Freedom')"
   ]
  },
  {
   "cell_type": "markdown",
   "metadata": {},
   "source": [
    "### new or reloan"
   ]
  },
  {
   "cell_type": "code",
   "execution_count": null,
   "metadata": {},
   "outputs": [],
   "source": [
    "df_loan_eval['Reloan'] = df_loan_eval['LoanCount'].apply(lambda x:True if x>1 else False)"
   ]
  },
  {
   "cell_type": "markdown",
   "metadata": {},
   "source": [
    "### lender vars"
   ]
  },
  {
   "cell_type": "code",
   "execution_count": null,
   "metadata": {},
   "outputs": [],
   "source": [
    "df_lender_vars_eval = pd.DataFrame()\n",
    "NCPU = mp.cpu_count() - 2 if mp.cpu_count() > 2 else 1\n",
    "with mp.Pool(processes=NCPU) as pool:\n",
    "    df_lender_vars_temp = pool.starmap(create_lender_vars, zip(df_loan_eval['LoanId'],df_loan_eval['BankReportData'],df_loan_eval['ReportTimeAdded'],df_loan_eval['primary_account']))\n",
    "df_lender_vars_eval=pd.concat(df_lender_vars_temp,ignore_index=True)"
   ]
  },
  {
   "cell_type": "code",
   "execution_count": null,
   "metadata": {},
   "outputs": [],
   "source": [
    "df_loan_eval = pd.merge(df_loan_eval,df_lender_vars_eval,on='LoanId',how='left')"
   ]
  },
  {
   "cell_type": "markdown",
   "metadata": {},
   "source": [
    "### esign variables"
   ]
  },
  {
   "cell_type": "code",
   "execution_count": null,
   "metadata": {},
   "outputs": [],
   "source": [
    "df_loan_eval= pd.merge(df_loan_eval,df_esign_eval,on='LoanId',how='left')"
   ]
  },
  {
   "cell_type": "markdown",
   "metadata": {},
   "source": [
    "### run prediction"
   ]
  },
  {
   "cell_type": "markdown",
   "metadata": {},
   "source": [
    "## H20"
   ]
  },
  {
   "cell_type": "code",
   "execution_count": null,
   "metadata": {},
   "outputs": [],
   "source": [
    "df_loan_predict = df_loan_eval.drop(columns=features_drop,axis=1)"
   ]
  },
  {
   "cell_type": "code",
   "execution_count": null,
   "metadata": {},
   "outputs": [],
   "source": [
    "h2o_eval = h2o.H2OFrame(df_loan_predict)"
   ]
  },
  {
   "cell_type": "code",
   "execution_count": null,
   "metadata": {},
   "outputs": [],
   "source": [
    "pred = aml.leader.predict(h2o_eval)\n",
    "pred.head()"
   ]
  },
  {
   "cell_type": "code",
   "execution_count": null,
   "metadata": {},
   "outputs": [],
   "source": [
    "#convert to pandas dataframe\n",
    "df_predictions = h2o.as_list(pred)"
   ]
  },
  {
   "cell_type": "code",
   "execution_count": null,
   "metadata": {},
   "outputs": [],
   "source": [
    "df_loan_eval.reset_index(drop=True,inplace=True)"
   ]
  },
  {
   "cell_type": "code",
   "execution_count": null,
   "metadata": {},
   "outputs": [],
   "source": [
    "df_predictions['target'] = df_loan_eval['IsFirstDefault']  "
   ]
  },
  {
   "cell_type": "code",
   "execution_count": null,
   "metadata": {},
   "outputs": [],
   "source": [
    "df_predictions = df_predictions.rename(columns={'True':'prob'})"
   ]
  },
  {
   "cell_type": "code",
   "execution_count": null,
   "metadata": {},
   "outputs": [],
   "source": [
    "df_predictions = df_predictions[['target','prob']]"
   ]
  },
  {
   "cell_type": "code",
   "execution_count": null,
   "metadata": {},
   "outputs": [],
   "source": [
    "df_predictions['target'].value_counts(normalize = True)"
   ]
  },
  {
   "cell_type": "markdown",
   "metadata": {},
   "source": [
    "## Pycaret"
   ]
  },
  {
   "cell_type": "markdown",
   "metadata": {},
   "source": [
    "# Evaluate"
   ]
  },
  {
   "cell_type": "code",
   "execution_count": null,
   "metadata": {},
   "outputs": [],
   "source": []
  },
  {
   "cell_type": "markdown",
   "metadata": {},
   "source": [
    "## get BV uncertain and BV Approved loans for model evaluation"
   ]
  },
  {
   "cell_type": "code",
   "execution_count": 14,
   "metadata": {},
   "outputs": [],
   "source": [
    "username_bank_app = 'bankreview'\n",
    "password_bank_app = 'Freedom!23'\n",
    "host_bank_app = '192.168.4.115'\n",
    "port_bank_app = 3306\n",
    "db_bank_app = 'bankreviewdb'"
   ]
  },
  {
   "cell_type": "code",
   "execution_count": 17,
   "metadata": {},
   "outputs": [],
   "source": [
    "bank_app_conn = pymysql.connect(host=host_bank_app,\n",
    "                                port=port_bank_app,\n",
    "                                db=db_bank_app,\n",
    "                                user=username_bank_app,\n",
    "                                password=password_bank_app)"
   ]
  },
  {
   "cell_type": "code",
   "execution_count": null,
   "metadata": {},
   "outputs": [],
   "source": [
    "query_evaluation_loans = '''select loan_id, \n",
    "                                final_decision,\n",
    "                                reasons_for_decision,\n",
    "                                entered_date\n",
    "                                \n",
    "                            from loan \n",
    "                            where campaign like '%Production%'\n",
    "                            and STR_TO_DATE(entered_date ,'%m/%d/%Y') >= STR_TO_DATE('01/01/2020','%m/%d/%Y')\n",
    "                            and STR_TO_DATE(entered_date ,'%m/%d/%Y') < STR_TO_DATE('04/01/2020','%m/%d/%Y')\n",
    "                            and final_decision in ('Bank Validation Uncertain','Bank Validation Approved') '''"
   ]
  },
  {
   "cell_type": "code",
   "execution_count": null,
   "metadata": {},
   "outputs": [],
   "source": [
    "df_eval_loans = pd.read_sql_query(query_evaluation_loans, con = bank_app_conn)"
   ]
  },
  {
   "cell_type": "markdown",
   "metadata": {},
   "source": [
    "## get funded and mature loans for the same period"
   ]
  },
  {
   "cell_type": "code",
   "execution_count": null,
   "metadata": {},
   "outputs": [],
   "source": [
    "query_funded_mature_loans = ''' select LoanId, \n",
    "                                IsFirstDefault\n",
    "                        from view_FCL_Loan\n",
    "                        where OriginationDate >= '2020-01-01' \n",
    "                        and OriginationDate <= '2020-03-31'\n",
    "                        and IsFirstDefault IS NOT NULL\n",
    "                        and MerchantId IN (15, 18)\n",
    "                        \n",
    "                     '''"
   ]
  },
  {
   "cell_type": "code",
   "execution_count": null,
   "metadata": {},
   "outputs": [],
   "source": [
    "df_funded_mature_loans = pd.read_sql_query(query_funded_mature_loans,con = iloans_conn)"
   ]
  },
  {
   "cell_type": "code",
   "execution_count": null,
   "metadata": {},
   "outputs": [],
   "source": [
    "df_funded_mature_loans['LoanId'] = df_funded_mature_loans['LoanId'].astype(int).astype(str)"
   ]
  },
  {
   "cell_type": "code",
   "execution_count": null,
   "metadata": {},
   "outputs": [],
   "source": [
    "df_eval = pd.merge(df_funded_mature_loans,df_eval_loans,how = 'inner',left_on = 'LoanId',right_on = 'loan_id')"
   ]
  },
  {
   "cell_type": "code",
   "execution_count": null,
   "metadata": {},
   "outputs": [],
   "source": [
    "df_eval.info()"
   ]
  },
  {
   "cell_type": "code",
   "execution_count": null,
   "metadata": {},
   "outputs": [],
   "source": [
    "loan_id_list = list(df_eval['LoanId'])"
   ]
  },
  {
   "cell_type": "markdown",
   "metadata": {},
   "source": [
    "### compute KS"
   ]
  },
  {
   "cell_type": "code",
   "execution_count": null,
   "metadata": {},
   "outputs": [],
   "source": [
    "import numpy as np"
   ]
  },
  {
   "cell_type": "code",
   "execution_count": null,
   "metadata": {},
   "outputs": [],
   "source": [
    "def get_KS(df_pred):\n",
    "    \"\"\"\n",
    "    Returns KS given scores\n",
    "    Parameters:\n",
    "    df_pred (pandas df): DataFrame containing target variable and model score\n",
    "    \n",
    "    Returns:\n",
    "    float: KS value\n",
    "    \"\"\"\n",
    "    df_scores = df_pred.sort_values(by='prob')\n",
    "    total_good = (df_scores['target'] == False).sum()\n",
    "    total_bad = (df_scores['target'] == True).sum()\n",
    "    df_scores['cum_good_perc'] = (df_scores['target'] == False).cumsum()/total_good\n",
    "    df_scores['cum_bad_perc'] = (df_scores['target'] == True).cumsum()/total_bad\n",
    "    df_scores['cum_diff'] = np.abs((df_scores['cum_good_perc'] - df_scores['cum_bad_perc']))\n",
    "    return df_scores['cum_diff'].max()"
   ]
  },
  {
   "cell_type": "code",
   "execution_count": null,
   "metadata": {},
   "outputs": [],
   "source": [
    "get_KS()"
   ]
  },
  {
   "cell_type": "markdown",
   "metadata": {},
   "source": [
    "### quantiling"
   ]
  },
  {
   "cell_type": "code",
   "execution_count": null,
   "metadata": {},
   "outputs": [],
   "source": [
    "def quantile_table(df_pred,n = 10):\n",
    "    \"\"\"\n",
    "    Returns a quantile table given model scores (default is decile)\n",
    "    \n",
    "    Parameters:\n",
    "    df_pred (pandas df): DataFrame containing target variable and model score\n",
    "    \n",
    "    Returns:\n",
    "    pandas DataFrame: Pandas dataframe containing quantiles\n",
    "    \n",
    "    \"\"\"\n",
    "    df_scores = df_pred.sort_values(by='prob')\n",
    "    df_scores['decile'],score_bin = pd.qcut(df_scores['prob'],10,labels=[1,2,3,4,5,6,7,8,9,10],retbins = True)\n",
    "    df_scores['target'] = df_scores['target'].astype(int)\n",
    "    df_scores_deciles = df_scores.groupby('decile',as_index=False).agg({'prob':['count','min','max','mean'],'target':'sum'})\n",
    "    df_scores_deciles.columns = ['decile','count','min_score','max_score','mean_score','bad_count']\n",
    "    df_scores_deciles['perc_bad'] = (df_scores_deciles['bad_count']/df_scores_deciles['count']) * 100\n",
    "    return df_scores_deciles,score_bin"
   ]
  },
  {
   "cell_type": "code",
   "execution_count": null,
   "metadata": {},
   "outputs": [],
   "source": [
    "quantile_table, score_bins = quantile_table(df_predictions)"
   ]
  },
  {
   "cell_type": "code",
   "execution_count": null,
   "metadata": {},
   "outputs": [],
   "source": [
    "quantile_table"
   ]
  },
  {
   "cell_type": "markdown",
   "metadata": {},
   "source": [
    "### get bins for quantile assignment"
   ]
  },
  {
   "cell_type": "code",
   "execution_count": null,
   "metadata": {},
   "outputs": [],
   "source": [
    "score_bins"
   ]
  },
  {
   "cell_type": "code",
   "execution_count": null,
   "metadata": {},
   "outputs": [],
   "source": [
    "score_bins = np.concatenate(([-np.inf], score_bins, [np.inf]))"
   ]
  },
  {
   "cell_type": "markdown",
   "metadata": {},
   "source": [
    "### upload to sagemaker"
   ]
  },
  {
   "cell_type": "code",
   "execution_count": null,
   "metadata": {},
   "outputs": [],
   "source": [
    "import mlflow"
   ]
  },
  {
   "cell_type": "code",
   "execution_count": null,
   "metadata": {},
   "outputs": [],
   "source": [
    "import mlflow.h2o as mh2o"
   ]
  },
  {
   "cell_type": "code",
   "execution_count": null,
   "metadata": {},
   "outputs": [],
   "source": [
    "import mlflow.sagemaker as mfs"
   ]
  },
  {
   "cell_type": "code",
   "execution_count": null,
   "metadata": {},
   "outputs": [],
   "source": [
    "mh2o.save_model(aml.leader,path=\"path/to/trained/model\")"
   ]
  },
  {
   "cell_type": "code",
   "execution_count": null,
   "metadata": {},
   "outputs": [],
   "source": [
    "region = \"us-east-1\"\n",
    "arn = \"arn:aws:iam::757719720041:role/Sagemaker\"\n",
    "appname = \"h20-mlflow-deploy\"\n",
    "modeluri = \"path/to/saved/model\" \n",
    "image_url = \"757719720041.dkr.ecr.us-east-1.amazonaws.com/freedom-pyfunc:latest\""
   ]
  },
  {
   "cell_type": "code",
   "execution_count": null,
   "metadata": {},
   "outputs": [],
   "source": [
    "mfs.deploy(app_name=appname, model_path=modeluri, instance_type='ml.t2.medium',region_name=region, mode=\"create\",execution_role_arn=arn,image_url=image_url)"
   ]
  },
  {
   "cell_type": "code",
   "execution_count": null,
   "metadata": {},
   "outputs": [],
   "source": [
    "import boto3\n",
    "\n",
    "def check_status(app_name):\n",
    "    sage_client = boto3.client('sagemaker', region_name=\"us-east-1\")\n",
    "    endpoint_description = sage_client.describe_endpoint(EndpointName=app_name)\n",
    "    endpoint_status = endpoint_description[\"EndpointStatus\"]\n",
    "    return endpoint_status"
   ]
  },
  {
   "cell_type": "code",
   "execution_count": null,
   "metadata": {},
   "outputs": [],
   "source": [
    "check_status(appname)"
   ]
  }
 ],
 "metadata": {
  "kernelspec": {
   "display_name": "predicon_uw_model",
   "language": "python",
   "name": "predicon_uw_model"
  },
  "language_info": {
   "codemirror_mode": {
    "name": "ipython",
    "version": 3
   },
   "file_extension": ".py",
   "mimetype": "text/x-python",
   "name": "python",
   "nbconvert_exporter": "python",
   "pygments_lexer": "ipython3",
   "version": "3.7.7"
  },
  "toc": {
   "base_numbering": 1,
   "nav_menu": {},
   "number_sections": true,
   "sideBar": true,
   "skip_h1_title": false,
   "title_cell": "Table of Contents",
   "title_sidebar": "Contents",
   "toc_cell": false,
   "toc_position": {},
   "toc_section_display": true,
   "toc_window_display": false
  }
 },
 "nbformat": 4,
 "nbformat_minor": 2
}
