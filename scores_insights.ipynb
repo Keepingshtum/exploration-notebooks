{
 "cells": [
  {
   "cell_type": "code",
   "execution_count": null,
   "metadata": {},
   "outputs": [],
   "source": [
    "from IPython.core.display import display, HTML\n",
    "display(HTML(\"<style>.container { width:100% !important; }</style>\"))"
   ]
  },
  {
   "cell_type": "code",
   "execution_count": null,
   "metadata": {},
   "outputs": [],
   "source": [
    "%reload_ext autoreload\n",
    "%autoreload 2"
   ]
  },
  {
   "cell_type": "code",
   "execution_count": null,
   "metadata": {},
   "outputs": [],
   "source": [
    "%load_ext blackcellmagic"
   ]
  },
  {
   "cell_type": "code",
   "execution_count": null,
   "metadata": {},
   "outputs": [],
   "source": [
    "import warnings\n",
    "warnings.filterwarnings('ignore')\n",
    "import pandas as pd\n",
    "import numpy as np\n",
    "import pymysql\n",
    "import pymssql\n",
    "import sys\n",
    "import os\n",
    "from functools import reduce\n",
    "import seaborn as sns\n",
    "from matplotlib import pyplot as plt"
   ]
  },
  {
   "cell_type": "code",
   "execution_count": null,
   "metadata": {},
   "outputs": [],
   "source": [
    "sns.set(style = 'darkgrid')"
   ]
  },
  {
   "cell_type": "code",
   "execution_count": null,
   "metadata": {},
   "outputs": [],
   "source": [
    "sys.path.insert(0, os.getcwd())\n",
    "sys.path.insert(0, '/home/shared/utils')"
   ]
  },
  {
   "cell_type": "code",
   "execution_count": null,
   "metadata": {},
   "outputs": [],
   "source": [
    "import query as q\n",
    "import extract\n",
    "import preprocess as prep\n",
    "import utilities as util\n",
    "import model_compare as mod_com\n",
    "from sklearn.metrics import confusion_matrix as cm\n",
    "import EDA as eda"
   ]
  },
  {
   "cell_type": "markdown",
   "metadata": {},
   "source": [
    "bank_app - loanid, entered_date, bv decisions"
   ]
  },
  {
   "cell_type": "markdown",
   "metadata": {},
   "source": [
    "predicon_model - loan_id, entered_date, count of scored applicants, #positive"
   ]
  },
  {
   "cell_type": "markdown",
   "metadata": {},
   "source": [
    "loans - loanid, lead_time_added, #lender approved"
   ]
  },
  {
   "cell_type": "markdown",
   "metadata": {},
   "source": [
    "## In a Nutshell"
   ]
  },
  {
   "cell_type": "markdown",
   "metadata": {},
   "source": [
    "### Extracting Data"
   ]
  },
  {
   "cell_type": "code",
   "execution_count": null,
   "metadata": {},
   "outputs": [],
   "source": [
    "bank_app = extract.extract_bankapp(\"'2020-07-09'\")"
   ]
  },
  {
   "cell_type": "code",
   "execution_count": null,
   "metadata": {},
   "outputs": [],
   "source": [
    "model = extract.extract_model()"
   ]
  },
  {
   "cell_type": "code",
   "execution_count": null,
   "metadata": {
    "scrolled": true
   },
   "outputs": [],
   "source": [
    "loan_history = extract.extract_loan_history(\"'2020-07-09'\")"
   ]
  },
  {
   "cell_type": "markdown",
   "metadata": {},
   "source": [
    "### Modifying Data"
   ]
  },
  {
   "cell_type": "code",
   "execution_count": null,
   "metadata": {},
   "outputs": [],
   "source": [
    "modified_bank_app = prep.preprocess_bankapp_db(bank_app)"
   ]
  },
  {
   "cell_type": "code",
   "execution_count": null,
   "metadata": {},
   "outputs": [],
   "source": [
    "modified_model_scores = prep.preprocess_model_db(model)"
   ]
  },
  {
   "cell_type": "code",
   "execution_count": null,
   "metadata": {},
   "outputs": [],
   "source": [
    "modified_loan_history = prep.preprocess_loan_history_db(loan_history)"
   ]
  },
  {
   "cell_type": "code",
   "execution_count": null,
   "metadata": {},
   "outputs": [],
   "source": [
    "is_BV_uncertain_approved = modified_bank_app['agent_decision'].isin(['Bank Validation Uncertain', 'Bank Validation Approved'])\n",
    "modified_bank_app = modified_bank_app[is_BV_uncertain_approved]"
   ]
  },
  {
   "cell_type": "markdown",
   "metadata": {},
   "source": [
    "### Analysing loanids which were not lender approved but our model approved"
   ]
  },
  {
   "cell_type": "code",
   "execution_count": null,
   "metadata": {},
   "outputs": [],
   "source": [
    "dfs = [modified_bank_app, modified_model_scores, modified_loan_history]\n",
    "merged_db = reduce(lambda left, right : pd.merge(left, right, on = 'LoanId', how = 'left'), dfs)"
   ]
  },
  {
   "cell_type": "code",
   "execution_count": null,
   "metadata": {},
   "outputs": [],
   "source": [
    "merged_db['Decision'].fillna(-1, inplace = True)"
   ]
  },
  {
   "cell_type": "code",
   "execution_count": null,
   "metadata": {},
   "outputs": [],
   "source": [
    "sub_cats = ['len_to_many_open_loans_101', 'len_return_found_102', 'len_missing_payments_103',\n",
    "            'bk_verif_bal_on_payday_130', 'bk_verif_high_negative_curr_bal_131',\n",
    "            'bk_verif_high_pct_negative_bal_132', 'bk_verif_bad_acc_type_133',\n",
    "            'bk_verif_savings_acc_134', 'bk_verif_business_acc_135',\n",
    "            'bk_verif_pre_debit_card_acc_136', 'bk_verif_stop_payment_or_revoked_137']"
   ]
  },
  {
   "cell_type": "code",
   "execution_count": null,
   "metadata": {},
   "outputs": [],
   "source": [
    "merged_db = prep.preprocess_lender_reject_sub_categories(merged_db, sub_cats)"
   ]
  },
  {
   "cell_type": "code",
   "execution_count": null,
   "metadata": {},
   "outputs": [],
   "source": [
    "merged_db.info()"
   ]
  },
  {
   "cell_type": "code",
   "execution_count": null,
   "metadata": {},
   "outputs": [],
   "source": [
    "lender_reject_model_approved = merged_db[(merged_db['Decision'] == 1) & (merged_db['LenderApproved'] == 0)]"
   ]
  },
  {
   "cell_type": "code",
   "execution_count": null,
   "metadata": {},
   "outputs": [],
   "source": [
    "missing_decisions_loanids = merged_db[(merged_db['Decision'] == 1) & (merged_db['LenderApproved'] == 0) & \n",
    "                                      (merged_db['underwriting_final_decision'].isnull())]['LoanId'].values"
   ]
  },
  {
   "cell_type": "code",
   "execution_count": null,
   "metadata": {},
   "outputs": [],
   "source": [
    "no_sale_flags = ['No Sale Lender', 'No Sale Bank Verification']\n",
    "is_no_sale_lender_bank_verification = lender_reject_model_approved['underwriting_final_decision'].isin(no_sale_flags)\n",
    "no_sale_lender_bank_verification = lender_reject_model_approved[is_no_sale_lender_bank_verification]"
   ]
  },
  {
   "cell_type": "code",
   "execution_count": null,
   "metadata": {},
   "outputs": [],
   "source": [
    "util.get_confusion_matrix(merged_db, norm = 'index')"
   ]
  },
  {
   "cell_type": "code",
   "execution_count": null,
   "metadata": {
    "scrolled": true
   },
   "outputs": [],
   "source": [
    "util.get_lender_approved_model_disapproved_reasons(lender_reject_model_approved)"
   ]
  },
  {
   "cell_type": "code",
   "execution_count": null,
   "metadata": {},
   "outputs": [],
   "source": [
    "no_sale_lender = no_sale_lender_bank_verification[no_sale_lender_bank_verification['underwriting_final_decision'] == 'No Sale Lender']"
   ]
  },
  {
   "cell_type": "code",
   "execution_count": null,
   "metadata": {},
   "outputs": [],
   "source": [
    "no_sale_bank_verification = no_sale_lender_bank_verification[no_sale_lender_bank_verification['underwriting_final_decision'] == 'No Sale Bank Verification']"
   ]
  },
  {
   "cell_type": "code",
   "execution_count": null,
   "metadata": {},
   "outputs": [],
   "source": [
    "no_sale_lender['sub_category'].value_counts()"
   ]
  },
  {
   "cell_type": "code",
   "execution_count": null,
   "metadata": {
    "scrolled": true
   },
   "outputs": [],
   "source": [
    "plt.figure(figsize = (8, 8))\n",
    "ax = sns.countplot(data = no_sale_lender, y = 'sub_category',\n",
    "                   order = no_sale_lender['sub_category'].value_counts().index)\n",
    "total = no_sale_lender.shape[0]\n",
    "for p in ax.patches:\n",
    "    percentage = '{:.1f}%'.format(100 * p.get_width()/total)\n",
    "    x = p.get_x() + p.get_width() + 0.02\n",
    "    y = p.get_y() + p.get_height()/2\n",
    "    ax.annotate(percentage, (x, y))\n",
    "plt.title(\"No Sale Lender\")\n",
    "plt.show()"
   ]
  },
  {
   "cell_type": "code",
   "execution_count": null,
   "metadata": {},
   "outputs": [],
   "source": [
    "no_sale_bank_verification['sub_category'].value_counts()"
   ]
  },
  {
   "cell_type": "code",
   "execution_count": null,
   "metadata": {},
   "outputs": [],
   "source": [
    "plt.figure(figsize = (8, 8))\n",
    "ax = sns.countplot(data = no_sale_bank_verification, y = 'sub_category',\n",
    "                   order = no_sale_bank_verification['sub_category'].value_counts().index)\n",
    "total = no_sale_lender.shape[0]\n",
    "for p in ax.patches:\n",
    "    percentage = '{:.1f}%'.format(100 * p.get_width()/total)\n",
    "    x = p.get_x() + p.get_width() + 0.02\n",
    "    y = p.get_y() + p.get_height()/2\n",
    "    ax.annotate(percentage, (x, y))\n",
    "plt.title(\"No Sale Bank Verification\")\n",
    "plt.show()"
   ]
  }
 ],
 "metadata": {
  "kernelspec": {
   "display_name": "predicon_uw_model",
   "language": "python",
   "name": "predicon_uw_model"
  },
  "language_info": {
   "codemirror_mode": {
    "name": "ipython",
    "version": 3
   },
   "file_extension": ".py",
   "mimetype": "text/x-python",
   "name": "python",
   "nbconvert_exporter": "python",
   "pygments_lexer": "ipython3",
   "version": "3.7.7"
  }
 },
 "nbformat": 4,
 "nbformat_minor": 2
}
