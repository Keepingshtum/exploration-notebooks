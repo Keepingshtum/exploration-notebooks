{
 "cells": [
  {
   "cell_type": "code",
   "execution_count": 2,
   "metadata": {},
   "outputs": [],
   "source": [
    "from datetime import datetime"
   ]
  },
  {
   "cell_type": "code",
   "execution_count": 3,
   "metadata": {},
   "outputs": [
    {
     "data": {
      "text/plain": [
       "'20200702-232026'"
      ]
     },
     "execution_count": 3,
     "metadata": {},
     "output_type": "execute_result"
    }
   ],
   "source": [
    "datetime.now().strftime(\"%Y%m%d-%H%M%S\")"
   ]
  },
  {
   "cell_type": "markdown",
   "metadata": {},
   "source": [
    "/home/vishal/anaconda3/envs/uw_model_play2/bin/python"
   ]
  },
  {
   "cell_type": "code",
   "execution_count": 4,
   "metadata": {},
   "outputs": [
    {
     "data": {
      "text/html": [
       "<style>.container { width:100% !important; }</style>"
      ],
      "text/plain": [
       "<IPython.core.display.HTML object>"
      ]
     },
     "metadata": {},
     "output_type": "display_data"
    }
   ],
   "source": [
    "from IPython.core.display import display, HTML\n",
    "display(HTML(\"<style>.container { width:100% !important; }</style>\"))"
   ]
  },
  {
   "cell_type": "code",
   "execution_count": 121,
   "metadata": {},
   "outputs": [],
   "source": [
    "%reload_ext autoreload\n",
    "%autoreload 2"
   ]
  },
  {
   "cell_type": "code",
   "execution_count": 2,
   "metadata": {},
   "outputs": [],
   "source": [
    "%load_ext blackcellmagic"
   ]
  },
  {
   "cell_type": "code",
   "execution_count": 3,
   "metadata": {},
   "outputs": [],
   "source": [
    "import warnings\n",
    "warnings.filterwarnings('ignore')\n",
    "import pandas as pd\n",
    "import numpy as np\n",
    "import pymysql\n",
    "import pymssql\n",
    "import sys"
   ]
  },
  {
   "cell_type": "code",
   "execution_count": 4,
   "metadata": {},
   "outputs": [],
   "source": [
    "sys.path.insert(0, '/home/shared/utils')"
   ]
  },
  {
   "cell_type": "code",
   "execution_count": 5,
   "metadata": {},
   "outputs": [],
   "source": [
    "from db_utils import *\n",
    "import kpi_count"
   ]
  },
  {
   "cell_type": "code",
   "execution_count": 6,
   "metadata": {},
   "outputs": [],
   "source": [
    "iloans_conn = get_iloans_conn()\n",
    "predicon_conn = get_predicon_db_conn()\n",
    "bank_app_conn = get_bank_app_conn()"
   ]
  },
  {
   "cell_type": "markdown",
   "metadata": {},
   "source": [
    "bank_app - loanid, entered_date, bv decisions"
   ]
  },
  {
   "cell_type": "markdown",
   "metadata": {},
   "source": [
    "predicon_model - loan_id, entered_date, count of scored applicants, #positive"
   ]
  },
  {
   "cell_type": "markdown",
   "metadata": {},
   "source": [
    "loans - loanid, lead_time_added, #lender approved"
   ]
  },
  {
   "cell_type": "markdown",
   "metadata": {},
   "source": [
    "## In a Nutshell"
   ]
  },
  {
   "cell_type": "markdown",
   "metadata": {},
   "source": [
    "### Extracting Data"
   ]
  },
  {
   "cell_type": "code",
   "execution_count": 130,
   "metadata": {},
   "outputs": [],
   "source": [
    "bank_app = kpi_count.extract_bankapp(bank_app_conn)"
   ]
  },
  {
   "cell_type": "code",
   "execution_count": 131,
   "metadata": {},
   "outputs": [],
   "source": [
    "model = kpi_count.extract_model(predicon_conn)"
   ]
  },
  {
   "cell_type": "code",
   "execution_count": 132,
   "metadata": {},
   "outputs": [],
   "source": [
    "funded_loans = kpi_count.extract_funded_loans(iloans_conn)"
   ]
  },
  {
   "cell_type": "markdown",
   "metadata": {},
   "source": [
    "### Modifying Data"
   ]
  },
  {
   "cell_type": "code",
   "execution_count": 133,
   "metadata": {},
   "outputs": [],
   "source": [
    "md_bnk = kpi_count.modify_bankapp_db(bank_app)"
   ]
  },
  {
   "cell_type": "code",
   "execution_count": 134,
   "metadata": {},
   "outputs": [],
   "source": [
    "md_mod = kpi_count.modify_model_db(model)"
   ]
  },
  {
   "cell_type": "code",
   "execution_count": 135,
   "metadata": {},
   "outputs": [],
   "source": [
    "md_fl = kpi_count.modify_fundedloans_db(funded_loans)"
   ]
  },
  {
   "cell_type": "markdown",
   "metadata": {},
   "source": [
    "### Merging all the modified datasets and generating model kpi metrics"
   ]
  },
  {
   "cell_type": "code",
   "execution_count": 138,
   "metadata": {},
   "outputs": [],
   "source": [
    "kpi_func = kpi_count.get_kpi(md_bnk, md_mod, md_fl)"
   ]
  },
  {
   "cell_type": "code",
   "execution_count": 139,
   "metadata": {
    "scrolled": true
   },
   "outputs": [
    {
     "data": {
      "text/html": [
       "<div>\n",
       "<style scoped>\n",
       "    .dataframe tbody tr th:only-of-type {\n",
       "        vertical-align: middle;\n",
       "    }\n",
       "\n",
       "    .dataframe tbody tr th {\n",
       "        vertical-align: top;\n",
       "    }\n",
       "\n",
       "    .dataframe thead th {\n",
       "        text-align: right;\n",
       "    }\n",
       "</style>\n",
       "<table border=\"1\" class=\"dataframe\">\n",
       "  <thead>\n",
       "    <tr style=\"text-align: right;\">\n",
       "      <th></th>\n",
       "      <th>entered_date</th>\n",
       "      <th>manual_decision</th>\n",
       "      <th>#positive_scored</th>\n",
       "      <th>#model_scored</th>\n",
       "      <th>isLenderApproved</th>\n",
       "    </tr>\n",
       "  </thead>\n",
       "  <tbody>\n",
       "    <tr>\n",
       "      <th>0</th>\n",
       "      <td>2020-06-09</td>\n",
       "      <td>476</td>\n",
       "      <td>76.0</td>\n",
       "      <td>180.0</td>\n",
       "      <td>63</td>\n",
       "    </tr>\n",
       "    <tr>\n",
       "      <th>1</th>\n",
       "      <td>2020-06-10</td>\n",
       "      <td>347</td>\n",
       "      <td>114.0</td>\n",
       "      <td>277.0</td>\n",
       "      <td>55</td>\n",
       "    </tr>\n",
       "    <tr>\n",
       "      <th>2</th>\n",
       "      <td>2020-06-11</td>\n",
       "      <td>398</td>\n",
       "      <td>127.0</td>\n",
       "      <td>324.0</td>\n",
       "      <td>70</td>\n",
       "    </tr>\n",
       "    <tr>\n",
       "      <th>3</th>\n",
       "      <td>2020-06-12</td>\n",
       "      <td>391</td>\n",
       "      <td>132.0</td>\n",
       "      <td>329.0</td>\n",
       "      <td>63</td>\n",
       "    </tr>\n",
       "    <tr>\n",
       "      <th>4</th>\n",
       "      <td>2020-06-13</td>\n",
       "      <td>192</td>\n",
       "      <td>48.0</td>\n",
       "      <td>146.0</td>\n",
       "      <td>24</td>\n",
       "    </tr>\n",
       "    <tr>\n",
       "      <th>5</th>\n",
       "      <td>2020-06-15</td>\n",
       "      <td>302</td>\n",
       "      <td>94.0</td>\n",
       "      <td>268.0</td>\n",
       "      <td>63</td>\n",
       "    </tr>\n",
       "    <tr>\n",
       "      <th>6</th>\n",
       "      <td>2020-06-16</td>\n",
       "      <td>449</td>\n",
       "      <td>124.0</td>\n",
       "      <td>374.0</td>\n",
       "      <td>71</td>\n",
       "    </tr>\n",
       "    <tr>\n",
       "      <th>7</th>\n",
       "      <td>2020-06-17</td>\n",
       "      <td>399</td>\n",
       "      <td>109.0</td>\n",
       "      <td>329.0</td>\n",
       "      <td>69</td>\n",
       "    </tr>\n",
       "    <tr>\n",
       "      <th>8</th>\n",
       "      <td>2020-06-18</td>\n",
       "      <td>437</td>\n",
       "      <td>126.0</td>\n",
       "      <td>343.0</td>\n",
       "      <td>74</td>\n",
       "    </tr>\n",
       "    <tr>\n",
       "      <th>9</th>\n",
       "      <td>2020-06-19</td>\n",
       "      <td>418</td>\n",
       "      <td>108.0</td>\n",
       "      <td>340.0</td>\n",
       "      <td>62</td>\n",
       "    </tr>\n",
       "    <tr>\n",
       "      <th>10</th>\n",
       "      <td>2020-06-20</td>\n",
       "      <td>165</td>\n",
       "      <td>50.0</td>\n",
       "      <td>140.0</td>\n",
       "      <td>25</td>\n",
       "    </tr>\n",
       "    <tr>\n",
       "      <th>11</th>\n",
       "      <td>2020-06-22</td>\n",
       "      <td>349</td>\n",
       "      <td>NaN</td>\n",
       "      <td>NaN</td>\n",
       "      <td>68</td>\n",
       "    </tr>\n",
       "    <tr>\n",
       "      <th>12</th>\n",
       "      <td>2020-06-23</td>\n",
       "      <td>462</td>\n",
       "      <td>2.0</td>\n",
       "      <td>3.0</td>\n",
       "      <td>75</td>\n",
       "    </tr>\n",
       "    <tr>\n",
       "      <th>13</th>\n",
       "      <td>2020-06-24</td>\n",
       "      <td>450</td>\n",
       "      <td>12.0</td>\n",
       "      <td>53.0</td>\n",
       "      <td>70</td>\n",
       "    </tr>\n",
       "    <tr>\n",
       "      <th>14</th>\n",
       "      <td>2020-06-25</td>\n",
       "      <td>440</td>\n",
       "      <td>124.0</td>\n",
       "      <td>356.0</td>\n",
       "      <td>58</td>\n",
       "    </tr>\n",
       "    <tr>\n",
       "      <th>15</th>\n",
       "      <td>2020-06-26</td>\n",
       "      <td>434</td>\n",
       "      <td>108.0</td>\n",
       "      <td>349.0</td>\n",
       "      <td>85</td>\n",
       "    </tr>\n",
       "    <tr>\n",
       "      <th>16</th>\n",
       "      <td>2020-06-27</td>\n",
       "      <td>176</td>\n",
       "      <td>50.0</td>\n",
       "      <td>128.0</td>\n",
       "      <td>29</td>\n",
       "    </tr>\n",
       "    <tr>\n",
       "      <th>17</th>\n",
       "      <td>2020-06-28</td>\n",
       "      <td>3</td>\n",
       "      <td>1.0</td>\n",
       "      <td>2.0</td>\n",
       "      <td>0</td>\n",
       "    </tr>\n",
       "    <tr>\n",
       "      <th>18</th>\n",
       "      <td>2020-06-29</td>\n",
       "      <td>435</td>\n",
       "      <td>119.0</td>\n",
       "      <td>370.0</td>\n",
       "      <td>92</td>\n",
       "    </tr>\n",
       "    <tr>\n",
       "      <th>19</th>\n",
       "      <td>2020-06-30</td>\n",
       "      <td>523</td>\n",
       "      <td>147.0</td>\n",
       "      <td>423.0</td>\n",
       "      <td>79</td>\n",
       "    </tr>\n",
       "    <tr>\n",
       "      <th>20</th>\n",
       "      <td>2020-07-01</td>\n",
       "      <td>449</td>\n",
       "      <td>129.0</td>\n",
       "      <td>377.0</td>\n",
       "      <td>66</td>\n",
       "    </tr>\n",
       "    <tr>\n",
       "      <th>21</th>\n",
       "      <td>2020-07-02</td>\n",
       "      <td>467</td>\n",
       "      <td>104.0</td>\n",
       "      <td>370.0</td>\n",
       "      <td>69</td>\n",
       "    </tr>\n",
       "    <tr>\n",
       "      <th>22</th>\n",
       "      <td>2020-07-03</td>\n",
       "      <td>415</td>\n",
       "      <td>104.0</td>\n",
       "      <td>339.0</td>\n",
       "      <td>72</td>\n",
       "    </tr>\n",
       "    <tr>\n",
       "      <th>23</th>\n",
       "      <td>2020-07-04</td>\n",
       "      <td>152</td>\n",
       "      <td>32.0</td>\n",
       "      <td>113.0</td>\n",
       "      <td>24</td>\n",
       "    </tr>\n",
       "    <tr>\n",
       "      <th>24</th>\n",
       "      <td>2020-07-05</td>\n",
       "      <td>8</td>\n",
       "      <td>NaN</td>\n",
       "      <td>NaN</td>\n",
       "      <td>0</td>\n",
       "    </tr>\n",
       "    <tr>\n",
       "      <th>25</th>\n",
       "      <td>2020-07-06</td>\n",
       "      <td>397</td>\n",
       "      <td>120.0</td>\n",
       "      <td>351.0</td>\n",
       "      <td>72</td>\n",
       "    </tr>\n",
       "    <tr>\n",
       "      <th>26</th>\n",
       "      <td>2020-07-07</td>\n",
       "      <td>585</td>\n",
       "      <td>162.0</td>\n",
       "      <td>486.0</td>\n",
       "      <td>86</td>\n",
       "    </tr>\n",
       "    <tr>\n",
       "      <th>27</th>\n",
       "      <td>2020-07-08</td>\n",
       "      <td>208</td>\n",
       "      <td>51.0</td>\n",
       "      <td>150.0</td>\n",
       "      <td>30</td>\n",
       "    </tr>\n",
       "  </tbody>\n",
       "</table>\n",
       "</div>"
      ],
      "text/plain": [
       "   entered_date  manual_decision  #positive_scored  #model_scored  \\\n",
       "0    2020-06-09              476              76.0          180.0   \n",
       "1    2020-06-10              347             114.0          277.0   \n",
       "2    2020-06-11              398             127.0          324.0   \n",
       "3    2020-06-12              391             132.0          329.0   \n",
       "4    2020-06-13              192              48.0          146.0   \n",
       "5    2020-06-15              302              94.0          268.0   \n",
       "6    2020-06-16              449             124.0          374.0   \n",
       "7    2020-06-17              399             109.0          329.0   \n",
       "8    2020-06-18              437             126.0          343.0   \n",
       "9    2020-06-19              418             108.0          340.0   \n",
       "10   2020-06-20              165              50.0          140.0   \n",
       "11   2020-06-22              349               NaN            NaN   \n",
       "12   2020-06-23              462               2.0            3.0   \n",
       "13   2020-06-24              450              12.0           53.0   \n",
       "14   2020-06-25              440             124.0          356.0   \n",
       "15   2020-06-26              434             108.0          349.0   \n",
       "16   2020-06-27              176              50.0          128.0   \n",
       "17   2020-06-28                3               1.0            2.0   \n",
       "18   2020-06-29              435             119.0          370.0   \n",
       "19   2020-06-30              523             147.0          423.0   \n",
       "20   2020-07-01              449             129.0          377.0   \n",
       "21   2020-07-02              467             104.0          370.0   \n",
       "22   2020-07-03              415             104.0          339.0   \n",
       "23   2020-07-04              152              32.0          113.0   \n",
       "24   2020-07-05                8               NaN            NaN   \n",
       "25   2020-07-06              397             120.0          351.0   \n",
       "26   2020-07-07              585             162.0          486.0   \n",
       "27   2020-07-08              208              51.0          150.0   \n",
       "\n",
       "    isLenderApproved  \n",
       "0                 63  \n",
       "1                 55  \n",
       "2                 70  \n",
       "3                 63  \n",
       "4                 24  \n",
       "5                 63  \n",
       "6                 71  \n",
       "7                 69  \n",
       "8                 74  \n",
       "9                 62  \n",
       "10                25  \n",
       "11                68  \n",
       "12                75  \n",
       "13                70  \n",
       "14                58  \n",
       "15                85  \n",
       "16                29  \n",
       "17                 0  \n",
       "18                92  \n",
       "19                79  \n",
       "20                66  \n",
       "21                69  \n",
       "22                72  \n",
       "23                24  \n",
       "24                 0  \n",
       "25                72  \n",
       "26                86  \n",
       "27                30  "
      ]
     },
     "execution_count": 139,
     "metadata": {},
     "output_type": "execute_result"
    }
   ],
   "source": [
    "kpi_func"
   ]
  }
 ],
 "metadata": {
  "kernelspec": {
   "display_name": "predicon_uw_model",
   "language": "python",
   "name": "predicon_uw_model"
  },
  "language_info": {
   "codemirror_mode": {
    "name": "ipython",
    "version": 3
   },
   "file_extension": ".py",
   "mimetype": "text/x-python",
   "name": "python",
   "nbconvert_exporter": "python",
   "pygments_lexer": "ipython3",
   "version": "3.7.7"
  }
 },
 "nbformat": 4,
 "nbformat_minor": 2
}
