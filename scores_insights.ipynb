{
 "cells": [
  {
   "cell_type": "code",
   "execution_count": 2,
   "metadata": {},
   "outputs": [],
   "source": [
    "import pandas as pd\n",
    "import numpy as np"
   ]
  },
  {
   "cell_type": "code",
   "execution_count": 3,
   "metadata": {},
   "outputs": [
    {
     "name": "stderr",
     "output_type": "stream",
     "text": [
      "/home/adarsh/anaconda3/lib/python3.7/site-packages/ipykernel_launcher.py:2: DeprecationWarning: Using or importing the ABCs from 'collections' instead of from 'collections.abc' is deprecated, and in 3.8 it will stop working\n",
      "  \n"
     ]
    }
   ],
   "source": [
    "import pymysql\n",
    "import pymssql"
   ]
  },
  {
   "cell_type": "code",
   "execution_count": 4,
   "metadata": {},
   "outputs": [],
   "source": [
    "import sys"
   ]
  },
  {
   "cell_type": "code",
   "execution_count": 5,
   "metadata": {},
   "outputs": [],
   "source": [
    "sys.path.insert(0,'/home/shared/utils')"
   ]
  },
  {
   "cell_type": "code",
   "execution_count": 6,
   "metadata": {},
   "outputs": [],
   "source": [
    "from db_utils import *\n"
   ]
  },
  {
   "cell_type": "code",
   "execution_count": 7,
   "metadata": {},
   "outputs": [],
   "source": [
    "iloans_conn = get_iloans_conn()\n",
    "predicon_conn = get_predicon_db_conn()\n",
    "bank_app_conn = get_bank_app_conn()"
   ]
  },
  {
   "cell_type": "code",
   "execution_count": 161,
   "metadata": {},
   "outputs": [],
   "source": [
    "query_bank_app_reviewed = '''\n",
    "select loan_id As LoanId, \n",
    "final_decision,\n",
    "reasons_for_decision,\n",
    "entered_date,\n",
    "path                             \n",
    "from loan \n",
    "where campaign like '%Production%'\n",
    "and STR_TO_DATE(entered_date ,'%m/%d/%Y') >= STR_TO_DATE('06/09/2020','%m/%d/%Y')\n",
    "and STR_TO_DATE(entered_date ,'%m/%d/%Y') < STR_TO_DATE('06/21/2020','%m/%d/%Y')\n",
    "'''"
   ]
  },
  {
   "cell_type": "code",
   "execution_count": 162,
   "metadata": {},
   "outputs": [],
   "source": [
    "df_bank_app_reviewed = pd.read_sql_query(query_bank_app_reviewed,con=bank_app_conn)"
   ]
  },
  {
   "cell_type": "code",
   "execution_count": 164,
   "metadata": {},
   "outputs": [],
   "source": [
    "rename_columns = {'final_decision':'manual_decision',\n",
    "                  'reasons_for_decision':'manual_decision_reason'}\n",
    "df_bank_app_reviewed = df_bank_app_reviewed.rename(columns = rename_columns)"
   ]
  },
  {
   "cell_type": "code",
   "execution_count": 8,
   "metadata": {},
   "outputs": [],
   "source": [
    "df_scores_latest = pd.read_sql_query('''SELECT * FROM \n",
    "                                     FreedomScores \n",
    "                                     WHERE Version='v1.3.0' \n",
    "                                     GROUP BY LoanId''',con= predicon_conn)"
   ]
  },
  {
   "cell_type": "code",
   "execution_count": 157,
   "metadata": {},
   "outputs": [],
   "source": [
    "df_scores_latest['LoanId'] = df_scores_latest['LoanId'].astype(str) "
   ]
  },
  {
   "cell_type": "code",
   "execution_count": 158,
   "metadata": {},
   "outputs": [],
   "source": [
    "df_scores_latest = df_scores_latest.drop(columns=['EsigTimeSignedDiff_In_SEC'])"
   ]
  },
  {
   "cell_type": "code",
   "execution_count": 166,
   "metadata": {},
   "outputs": [],
   "source": [
    "df_merge_bank_review_score = pd.merge(df_bank_app_reviewed,df_scores_latest,how='left',on='LoanId')"
   ]
  },
  {
   "cell_type": "code",
   "execution_count": 170,
   "metadata": {},
   "outputs": [],
   "source": [
    "query_funded = '''\n",
    "SELECT LoanId \n",
    ",LoanStatus\n",
    "FROM view_FCL_LoanAll\n",
    "WHERE LeadTimeAdded >= '2020-06-08'\n",
    "'''"
   ]
  },
  {
   "cell_type": "code",
   "execution_count": 171,
   "metadata": {},
   "outputs": [],
   "source": [
    "df_funded_loans = pd.read_sql_query(query_funded,con=iloans_conn)"
   ]
  },
  {
   "cell_type": "code",
   "execution_count": 173,
   "metadata": {},
   "outputs": [],
   "source": [
    "df_funded_loans['LoanId'] = df_funded_loans['LoanId'].astype(int).astype(str)"
   ]
  },
  {
   "cell_type": "code",
   "execution_count": 174,
   "metadata": {},
   "outputs": [],
   "source": [
    "df_merge_bank_review_score_funded = pd.merge(\n",
    "    df_merge_bank_review_score,\n",
    "    df_funded_loans,\n",
    "    on='LoanId',how='left')"
   ]
  },
  {
   "cell_type": "code",
   "execution_count": 177,
   "metadata": {},
   "outputs": [],
   "source": [
    "cols = ['LoanId','manual_decision','entered_date','path','Score','LoanStatus']\n",
    "df_score_analysis = df_merge_bank_review_score_funded[cols]"
   ]
  },
  {
   "cell_type": "code",
   "execution_count": 179,
   "metadata": {},
   "outputs": [],
   "source": [
    "is_score_positive = df_score_analysis['Score'] <=0.51"
   ]
  },
  {
   "cell_type": "code",
   "execution_count": null,
   "metadata": {},
   "outputs": [],
   "source": [
    "df_score_analysis['model_decision'] = np.nan\n",
    "\n",
    "is_score_positive = (df_score_analysis['Score'] <=0.51)\n",
    "is_score_neutral = (df_score_analysis['Score'] > 0.51)\n",
    "no_score = df_score_analysis['Score'].isnull()\n",
    "\n",
    "df_score_analysis.loc[is_score_positive,'model_decision'] = 'Positive'\n",
    "df_score_analysis.loc[is_score_neutral,'model_decision'] = 'Neutral'\n",
    "df_score_analysis.loc[no_score,'model_decision'] = 'No score'"
   ]
  },
  {
   "cell_type": "code",
   "execution_count": null,
   "metadata": {},
   "outputs": [],
   "source": [
    "df_score_analysis.loc[:,'entered_date'] = pd.to_datetime(df_score_analysis['entered_date'],format = \"%m/%d/%Y\")"
   ]
  },
  {
   "cell_type": "code",
   "execution_count": null,
   "metadata": {},
   "outputs": [],
   "source": [
    "df_score_analysis.to_csv('score_analysis.csv')"
   ]
  }
 ],
 "metadata": {
  "kernelspec": {
   "display_name": "Python 3",
   "language": "python",
   "name": "python3"
  },
  "language_info": {
   "codemirror_mode": {
    "name": "ipython",
    "version": 3
   },
   "file_extension": ".py",
   "mimetype": "text/x-python",
   "name": "python",
   "nbconvert_exporter": "python",
   "pygments_lexer": "ipython3",
   "version": "3.7.3"
  }
 },
 "nbformat": 4,
 "nbformat_minor": 2
}
