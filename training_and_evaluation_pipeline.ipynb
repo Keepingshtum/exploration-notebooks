{
 "cells": [
  {
   "cell_type": "code",
   "execution_count": 17,
   "metadata": {},
   "outputs": [],
   "source": [
    "%reload_ext autoreload\n",
    "%autoreload 2"
   ]
  },
  {
   "cell_type": "code",
   "execution_count": null,
   "metadata": {},
   "outputs": [],
   "source": [
    "%load_ext blackcellmagic"
   ]
  },
  {
   "cell_type": "code",
   "execution_count": 4,
   "metadata": {},
   "outputs": [],
   "source": [
    "import warnings\n",
    "warnings.filterwarnings('ignore')"
   ]
  },
  {
   "cell_type": "code",
   "execution_count": 84,
   "metadata": {},
   "outputs": [],
   "source": [
    "import pandas as pd"
   ]
  },
  {
   "cell_type": "code",
   "execution_count": 21,
   "metadata": {},
   "outputs": [],
   "source": [
    "import extract\n",
    "import preprocess as prep\n",
    "import feature_engineering as fe"
   ]
  },
  {
   "cell_type": "code",
   "execution_count": 67,
   "metadata": {},
   "outputs": [],
   "source": [
    "loans = extract.fetch_funded_mature_loans(\"'2019-01-01'\", \"'2019-12-31'\")"
   ]
  },
  {
   "cell_type": "code",
   "execution_count": 69,
   "metadata": {},
   "outputs": [],
   "source": [
    "loans = prep.preprocess_iloans(loans)"
   ]
  },
  {
   "cell_type": "code",
   "execution_count": 65,
   "metadata": {},
   "outputs": [],
   "source": [
    "loans = fe.fe_iloans(loans)"
   ]
  },
  {
   "cell_type": "markdown",
   "metadata": {},
   "source": [
    "~600 loans have no campaign. why?"
   ]
  },
  {
   "cell_type": "code",
   "execution_count": 74,
   "metadata": {},
   "outputs": [],
   "source": [
    "bank_reports = extract.fetch_bank_reports(\"'2019-01-01'\", \"'2019-12-31'\")"
   ]
  },
  {
   "cell_type": "code",
   "execution_count": 75,
   "metadata": {},
   "outputs": [],
   "source": [
    "bank_reports = prep.preprocess_bank_reports(bank_reports)"
   ]
  },
  {
   "cell_type": "code",
   "execution_count": 52,
   "metadata": {},
   "outputs": [],
   "source": [
    "bank_app = extract.fetch_bank_app_loans(\"'2019-01-01'\", \"'2019-12-31'\")"
   ]
  },
  {
   "cell_type": "code",
   "execution_count": 53,
   "metadata": {},
   "outputs": [],
   "source": [
    "bank_app = prep.preprocess_bank_app(bank_app)"
   ]
  },
  {
   "cell_type": "code",
   "execution_count": 81,
   "metadata": {},
   "outputs": [],
   "source": [
    "bank_reports = fe.fe_bank_reports(bank_reports)"
   ]
  },
  {
   "cell_type": "code",
   "execution_count": 95,
   "metadata": {},
   "outputs": [],
   "source": [
    "bank_reports_cols = ['loan_id','LenderAmountDeb', 'LenderCountCred', 'LenderAmountCred30', 'LenderCountDeb',\n",
    "       'LenderAmountDeb30', 'LenderCountCred30', 'LenderCountDeb30',\n",
    "       'LenderAmountCred', 'UniqLenderCount']"
   ]
  },
  {
   "cell_type": "code",
   "execution_count": 96,
   "metadata": {},
   "outputs": [],
   "source": [
    "learning = pd.merge(loans,bank_reports[bank_reports_cols],how = 'left',on = 'loan_id')"
   ]
  },
  {
   "cell_type": "code",
   "execution_count": 97,
   "metadata": {},
   "outputs": [
    {
     "name": "stdout",
     "output_type": "stream",
     "text": [
      "<class 'pandas.core.frame.DataFrame'>\n",
      "Int64Index: 9625 entries, 0 to 9624\n",
      "Data columns (total 16 columns):\n",
      " #   Column              Non-Null Count  Dtype         \n",
      "---  ------              --------------  -----         \n",
      " 0   loan_id             9625 non-null   object        \n",
      " 1   LoanCount           9625 non-null   int64         \n",
      " 2   OriginationDate     9625 non-null   datetime64[ns]\n",
      " 3   Campaign            9599 non-null   object        \n",
      " 4   MonthlyGrossIncome  9625 non-null   float64       \n",
      " 5   DateOfBirth         9625 non-null   datetime64[ns]\n",
      " 6   IsFirstDefault      9625 non-null   bool          \n",
      " 7   LenderAmountDeb     6999 non-null   float64       \n",
      " 8   LenderCountCred     6999 non-null   float64       \n",
      " 9   LenderAmountCred30  6999 non-null   float64       \n",
      " 10  LenderCountDeb      6999 non-null   float64       \n",
      " 11  LenderAmountDeb30   6999 non-null   float64       \n",
      " 12  LenderCountCred30   6999 non-null   float64       \n",
      " 13  LenderCountDeb30    6999 non-null   float64       \n",
      " 14  LenderAmountCred    6999 non-null   float64       \n",
      " 15  UniqLenderCount     6999 non-null   float64       \n",
      "dtypes: bool(1), datetime64[ns](2), float64(10), int64(1), object(2)\n",
      "memory usage: 1.2+ MB\n"
     ]
    }
   ],
   "source": [
    "learning.info()"
   ]
  }
 ],
 "metadata": {
  "kernelspec": {
   "display_name": "Python 3",
   "language": "python",
   "name": "python3"
  },
  "language_info": {
   "codemirror_mode": {
    "name": "ipython",
    "version": 3
   },
   "file_extension": ".py",
   "mimetype": "text/x-python",
   "name": "python",
   "nbconvert_exporter": "python",
   "pygments_lexer": "ipython3",
   "version": "3.7.3"
  }
 },
 "nbformat": 4,
 "nbformat_minor": 2
}
