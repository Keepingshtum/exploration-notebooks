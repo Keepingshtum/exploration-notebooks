{
 "cells": [
  {
   "cell_type": "code",
   "execution_count": null,
   "metadata": {},
   "outputs": [],
   "source": [
    "import pandas as pd\n",
    "import ppscore as pps\n",
    "import seaborn as sns\n",
    "import matplotlib.pyplot as plt\n",
    "from scipy.stats import pointbiserialr, chi2_contingency\n",
    "import warnings\n",
    "warnings.filterwarnings('ignore')"
   ]
  },
  {
   "cell_type": "markdown",
   "metadata": {},
   "source": [
    "Checking the importance of the new feature<br>\n",
    "We will be using the following methodology to check whether a new engineered feature is meaningful or not: <br>\n",
    "1> Measure the dependence of all the features with each other<br> \n",
    "2> Check the Predictive Power score between all the features and the target<br>\n",
    "3> Measure the dependence b/w all the features and target(chi square, t-test)\n"
   ]
  },
  {
   "cell_type": "code",
   "execution_count": null,
   "metadata": {},
   "outputs": [],
   "source": [
    "def get_pps(df, target):\n",
    "    \"\"\"\n",
    "    Calculates the PPS score between all the features and the target\n",
    "    ------\n",
    "    Parameters:\n",
    "    df(pandas dataframe) : The dataframe consisting the whole dataset along with the new feature\n",
    "    target(string) : Name of the target, as in the dataframe\n",
    "    ------\n",
    "    Returns:\n",
    "    array of dict : An array of dictionary in which each element of the array is a dictionary representing the complete pps\n",
    "    procedure of each feature wrt target\n",
    "    \"\"\"\n",
    "    \n",
    "    # pps score\n",
    "    pps_feat_tar = []\n",
    "    for feature in df.drop([target], axis = 1).columns:\n",
    "        pps_feat_tar.append(pps.score(df, feature, target))\n",
    "        \n",
    "    return pps_feat_tar\n",
    "\n",
    "    "
   ]
  },
  {
   "cell_type": "code",
   "execution_count": null,
   "metadata": {},
   "outputs": [],
   "source": [
    "def get_dependence_heatmap(df, target):\n",
    "    \"\"\"\n",
    "    Calculates the PPS matrix and correlation matrix between all the features only\n",
    "    ------\n",
    "    Parameters:\n",
    "    df(pandas dataframe) : The dataframe consisting the whole dataset along with the new feature\n",
    "    target(string) : Name of the target, as in the dataframe\n",
    "    ------\n",
    "    Returns:\n",
    "    pandas dataframe : **spearman correlation and pps score** dataframe matrix b/w all possible features including\n",
    "    the new one.\n",
    "    \"\"\"\n",
    "    \n",
    "    # spearman correlation and pps score b/w all the features\n",
    "    spearman_feat_2_feat = df.drop([target], axis = 1).corr(method = 'spearman')\n",
    "    \n",
    "    # pps score b/w all the features\n",
    "    pps_feat_2_feat = pps.matrix(df.drop([target], axis = 1))\n",
    "    \n",
    "    \n",
    "    plt.figure(figsize = (16, 8))\n",
    "    print(\"Correlation heatmap\")\n",
    "    sns.heatmap(spearman_feat_2_feat, robust = 1, linewidth = 2, annot = True)\n",
    "    plt.show()\n",
    "\n",
    "    plt.figure(figsize = (16, 8))\n",
    "    print(\"PPS Score heatmap\")\n",
    "    sns.heatmap(pps_feat_2_feat, robust = 1, linewidth = 2, annot = True)\n",
    "    plt.show()\n",
    "    \n",
    "    return spearman_feat_2_feat, pps_feat_2_feat"
   ]
  },
  {
   "cell_type": "code",
   "execution_count": null,
   "metadata": {},
   "outputs": [],
   "source": [
    "def correlation_test(df, target):\n",
    "    \"\"\"\n",
    "    Calculates the correlation b/w all the features and the target.\n",
    "    ------\n",
    "    Parameters:\n",
    "    dataframe(pandas df) : The dataframe consisting the whole dataset along with the new feature\n",
    "    target(string) : Name of the target, as in the dataframe\n",
    "    echo(bool) : whether to print the results or not. default : True\n",
    "    ------\n",
    "    Returns:\n",
    "    dict : A dictionary in which the keys are the features and the values are a tuple of the form\n",
    "    (statistic, p-value). The statistic is a t-value if the feature is integer or float or a chi_square\n",
    "    value if the feature is a sting or boolean.\n",
    "    \"\"\"\n",
    "    \n",
    "    r = {}\n",
    "    \n",
    "    for new_feature in df.drop([target], axis = 1).columns:\n",
    "        if df[new_feature].dtype == 'bool' or df[new_feature].dtype == 'O':\n",
    "            r[new_feature] = (chi2_contingency(pd.crosstab(df[new_feature], df[target]))[0], chi2_contingency(pd.crosstab(df[new_feature], df[target]))[1])\n",
    "        elif df[new_feature].dtype == 'int64' or df[new_feature].dtype == 'float64':\n",
    "            r[new_feature] = (pointbiserialr(df[new_feature], df[target])[0], pointbiserialr(df[new_feature], df[target])[1])\n",
    "        else:\n",
    "            print(\"check you new feature data type---should be one among [int64, bool, object]\")\n",
    "    \n",
    "    return r"
   ]
  },
  {
   "cell_type": "code",
   "execution_count": null,
   "metadata": {},
   "outputs": [],
   "source": [
    "get_pps(dataframe, 'IsFirstDefault')"
   ]
  },
  {
   "cell_type": "code",
   "execution_count": null,
   "metadata": {
    "scrolled": true
   },
   "outputs": [],
   "source": [
    "ppscore_feat, corr_value_feat = get_dependence_heatmap(dataframe, 'IsFirstDefault')"
   ]
  },
  {
   "cell_type": "code",
   "execution_count": null,
   "metadata": {},
   "outputs": [],
   "source": [
    "correlation_test(dataframe, 'IsFirstDefault')"
   ]
  }
 ],
 "metadata": {
  "kernelspec": {
   "display_name": "Python 3",
   "language": "python",
   "name": "python3"
  },
  "language_info": {
   "codemirror_mode": {
    "name": "ipython",
    "version": 3
   },
   "file_extension": ".py",
   "mimetype": "text/x-python",
   "name": "python",
   "nbconvert_exporter": "python",
   "pygments_lexer": "ipython3",
   "version": "3.7.0"
  },
  "latex_envs": {
   "LaTeX_envs_menu_present": true,
   "autoclose": false,
   "autocomplete": true,
   "bibliofile": "biblio.bib",
   "cite_by": "apalike",
   "current_citInitial": 1,
   "eqLabelWithNumbers": true,
   "eqNumInitial": 1,
   "hotkeys": {
    "equation": "Ctrl-E",
    "itemize": "Ctrl-I"
   },
   "labels_anchors": false,
   "latex_user_defs": false,
   "report_style_numbering": false,
   "user_envs_cfg": false
  },
  "toc": {
   "base_numbering": 1,
   "nav_menu": {},
   "number_sections": true,
   "sideBar": true,
   "skip_h1_title": false,
   "title_cell": "Table of Contents",
   "title_sidebar": "Contents",
   "toc_cell": false,
   "toc_position": {},
   "toc_section_display": true,
   "toc_window_display": false
  },
  "varInspector": {
   "cols": {
    "lenName": 16,
    "lenType": 16,
    "lenVar": 40
   },
   "kernels_config": {
    "python": {
     "delete_cmd_postfix": "",
     "delete_cmd_prefix": "del ",
     "library": "var_list.py",
     "varRefreshCmd": "print(var_dic_list())"
    },
    "r": {
     "delete_cmd_postfix": ") ",
     "delete_cmd_prefix": "rm(",
     "library": "var_list.r",
     "varRefreshCmd": "cat(var_dic_list()) "
    }
   },
   "types_to_exclude": [
    "module",
    "function",
    "builtin_function_or_method",
    "instance",
    "_Feature"
   ],
   "window_display": false
  }
 },
 "nbformat": 4,
 "nbformat_minor": 2
}
