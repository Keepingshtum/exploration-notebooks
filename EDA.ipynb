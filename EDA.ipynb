{
 "cells": [
  {
   "cell_type": "code",
   "execution_count": null,
   "metadata": {},
   "outputs": [],
   "source": [
    "import warnings\n",
    "warnings.filterwarnings('ignore')\n",
    "import ppscore as pps\n",
    "import pandas as pd\n",
    "import seaborn as sns\n",
    "from scipy.stats import pointbiserialr, spearmanr, chi2_contingency\n",
    "import matplotlib.pyplot as plt"
   ]
  },
  {
   "cell_type": "markdown",
   "metadata": {},
   "source": [
    "Checking the importance of the new feature  \n",
    "\n",
    "We will be using the following methodology to check whether a new engineered feature is meaningful or not:  \n",
    "\n",
    "1> Measure the dependence of all the features with the target(correlation, chi-square test etc.)  \n",
    "\n",
    "  \n",
    "2> Check the Predictive Power score between all the features and the target  \n"
   ]
  },
  {
   "cell_type": "code",
   "execution_count": null,
   "metadata": {},
   "outputs": [],
   "source": [
    "def feature_importance(dataframe, new_feature, target):\n",
    "    \"\"\"\n",
    "    Checks how important new_feature is w.r.t. the target on the basis of the PPS and spearman correlation.\n",
    "    Uses the PPS module to calculate Predictive Power Score.\n",
    "    ----------\n",
    "    Parameters:\n",
    "       dataframe(pandas df) : The dataframe consisting the whole dataset along with the new feature\n",
    "       feature(string) : Name of the new feature, as in the dataframe\n",
    "       target(string) : Name of the target, as in the dataframe\n",
    "       threshold(float) : default = 0.9; Multicolinearity threshold.\n",
    "       return_corr_matrix : default = True; Return the pps for the entire feature-space(not including the target).\n",
    "       return_pps_matrix : default = True; Return the pps for the entire feature-space(not including the target).\n",
    "    ----------   \n",
    "    Returns:\n",
    "       seaborn heatmap : **spearman correlation and pps score** b/w all possible features including the new one in a heatmap form.\n",
    "       float : **PPS score** of the new_feature with the target.\n",
    "       sloat : **Correlation** of new_feature with target if its numeric.\n",
    "       (float, float) : the **correlation and p-value** after the hypothesis testing(t-test for corr b/w new_feature and target).\n",
    "       list of tuples : tuples of all the features combinations which have higher pps, than the threshold, with the new feature.\n",
    "    \"\"\"\n",
    "    \n",
    "    \n",
    "    \n",
    "    df = dataframe\n",
    "    \n",
    "    # pps score\n",
    "    pps_score = pps.matrix(df)\n",
    "    pps_feat_tar = {}\n",
    "    for feature in df.drop([target], axis = 1).columns:\n",
    "        pps_feat_tar[feature] = pps_score.loc[target, feature]\n",
    "    \n",
    "    \n",
    "    # spearman correlation and pps score b/w all the features\n",
    "    if return_corr_matrix:\n",
    "        spearman_feat_2_feat = df.drop([target], axis = 1).corr(method = 'spearman')\n",
    "        pps_feat_2_feat = pps.matrix(df.drop([target], axis = 1))\n",
    "    \n",
    "    # pps score b/w all the features\n",
    "    if return_pps_matrix:\n",
    "        pps_feat_2_feat = pps.matrix(df.drop([target], axis = 1))\n",
    "    \n",
    "    # correlation testing\n",
    "    r = {}\n",
    "    for new_feature in df.drop([target], axis = 1).columns:\n",
    "        if df[new_feature].dtype == 'bool' or df[new_feature].dtype == 'O':\n",
    "            r[new_feature] = (chi2_contingency(pd.crosstab(df[new_feature], df[target]))[0], chi2_contingency(pd.crosstab(df[new_feature], df[target]))[1])\n",
    "        elif df[new_feature].dtype == 'int64' or df[new_feature].dtype == 'float64':\n",
    "            r[new_feature] = (pointbiserialr(df[new_feature], df[target])[0], pointbiserialr(df[new_feature], df[target])[1])\n",
    "        else:\n",
    "            print(\"check you new feature data type---should be one among [int64, bool, object]\")\n",
    "    \n",
    "    corr_tuplist = []\n",
    "    corr = pps_feat_2_feat\n",
    "    cols = len(corr.columns)\n",
    "    for i in range(corr.shape[0]):\n",
    "        for j in range(corr.shape[0]):\n",
    "            if (abs(corr.iloc[i, j]) > 0.9) and (i != j):\n",
    "                corr_tuplist.append((corr.index[i], corr.columns[j]))\n",
    "    \n",
    "    \n",
    "    \n",
    "    print(\"PPS score details\\n\", pps_feat_tar)\n",
    "    print(\"\\n\")\n",
    "    \n",
    "    print(\"statistics-value & p-value of features wrt target(if feature was of boolean or object type, chi-square value shown) : \", r)\n",
    "    print(\"\\n\")\n",
    "    \n",
    "    "
   ]
  },
  {
   "cell_type": "code",
   "execution_count": null,
   "metadata": {},
   "outputs": [],
   "source": [
    "def get_pps():\n",
    "    pass\n",
    "\n",
    "    "
   ]
  },
  {
   "cell_type": "code",
   "execution_count": null,
   "metadata": {},
   "outputs": [],
   "source": [
    "def get_dependence():\n",
    "    pass"
   ]
  }
 ],
 "metadata": {
  "kernelspec": {
   "display_name": "pycaret",
   "language": "python",
   "name": "pycaret"
  },
  "language_info": {
   "codemirror_mode": {
    "name": "ipython",
    "version": 3
   },
   "file_extension": ".py",
   "mimetype": "text/x-python",
   "name": "python",
   "nbconvert_exporter": "python",
   "pygments_lexer": "ipython3",
   "version": "3.6.10"
  }
 },
 "nbformat": 4,
 "nbformat_minor": 2
}
