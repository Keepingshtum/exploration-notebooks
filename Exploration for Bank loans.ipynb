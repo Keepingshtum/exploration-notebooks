{
 "cells": [
  {
   "cell_type": "markdown",
   "metadata": {},
   "source": [
    "#### This notebook attempts to evaluate the merit of using the Bank Login score to identify \"good\" / \"bad\" customers.\n",
    "\n",
    "As the Bank Login score already accounts for a lot of factors (~6k attributes!) we will use the \"IsFirstDefault\" Parameter to judge its correlation with loan outcomes."
   ]
  },
  {
   "cell_type": "code",
   "execution_count": 375,
   "metadata": {},
   "outputs": [],
   "source": [
    "import pymysql\n",
    "import query\n",
    "import pandas as pd\n",
    "import seaborn as sns\n",
    "import sidetable"
   ]
  },
  {
   "cell_type": "code",
   "execution_count": 384,
   "metadata": {},
   "outputs": [],
   "source": [
    "df = pd.read_csv(\"/home/vishal/ftp_files_csv/bt_attr.csv\",usecols=[\"setting_app_id\",\"blp_score\"])"
   ]
  },
  {
   "cell_type": "code",
   "execution_count": 387,
   "metadata": {},
   "outputs": [
    {
     "data": {
      "text/plain": [
       "(42484, 2)"
      ]
     },
     "execution_count": 387,
     "metadata": {},
     "output_type": "execute_result"
    }
   ],
   "source": [
    "df.shape"
   ]
  },
  {
   "cell_type": "code",
   "execution_count": null,
   "metadata": {},
   "outputs": [],
   "source": [
    "scoredf=df.rename(columns={\"setting_app_id\": \"LoanId\", \"blp_score\": \"score\"})"
   ]
  },
  {
   "cell_type": "markdown",
   "metadata": {},
   "source": [
    "### Query the DB in the date range '2019-01-01' - '2020-04-30'"
   ]
  },
  {
   "cell_type": "code",
   "execution_count": 338,
   "metadata": {},
   "outputs": [],
   "source": [
    "dbquerydf = query.iloans(\"SELECT * FROM view_FCL_Loan WHERE OriginationDate between '2019-01-01' AND '2020-04-30'\")"
   ]
  },
  {
   "cell_type": "code",
   "execution_count": null,
   "metadata": {},
   "outputs": [],
   "source": [
    "dbquerydf[[\"LoanId\",\"IsFirstDefault\",\"OriginationDate\"]].info()"
   ]
  },
  {
   "cell_type": "code",
   "execution_count": 340,
   "metadata": {},
   "outputs": [],
   "source": [
    "dbdf=dbquerydf[[\"LoanId\",\"IsFirstDefault\"]]"
   ]
  },
  {
   "cell_type": "code",
   "execution_count": 389,
   "metadata": {},
   "outputs": [
    {
     "data": {
      "text/plain": [
       "(16507, 2)"
      ]
     },
     "execution_count": 389,
     "metadata": {},
     "output_type": "execute_result"
    }
   ],
   "source": [
    "dbdf.shape"
   ]
  },
  {
   "cell_type": "code",
   "execution_count": 342,
   "metadata": {},
   "outputs": [],
   "source": [
    "view_df = pd.merge(scoredf, dbdf, how ='left', on ='LoanId') "
   ]
  },
  {
   "cell_type": "code",
   "execution_count": null,
   "metadata": {},
   "outputs": [],
   "source": [
    "view_df.info()"
   ]
  },
  {
   "cell_type": "code",
   "execution_count": null,
   "metadata": {},
   "outputs": [],
   "source": [
    "view_df.head()"
   ]
  },
  {
   "cell_type": "markdown",
   "metadata": {},
   "source": [
    "### Get Lender Approved Loans Data"
   ]
  },
  {
   "cell_type": "code",
   "execution_count": 345,
   "metadata": {},
   "outputs": [],
   "source": [
    "query_lender_approved='''\n",
    "select LoanId, \n",
    "LoanPrincipal AS ApprovedLoanAmount,\n",
    "LoanStatus AS LenderApproved \n",
    "from view_FCL_Loan_History\n",
    "where LoanStatus = 'Lender Approved' \n",
    "and TimeAdded >= '2019-01-01'\n",
    "AND TimeAdded <= '2020-04-30'\n",
    "ORDER BY LoanId , TimeAdded DESC\n",
    "'''"
   ]
  },
  {
   "cell_type": "code",
   "execution_count": 346,
   "metadata": {},
   "outputs": [],
   "source": [
    "dblender_approved_df = query.iloans(query_lender_approved)"
   ]
  },
  {
   "cell_type": "code",
   "execution_count": 391,
   "metadata": {},
   "outputs": [
    {
     "data": {
      "text/plain": [
       "(80407, 3)"
      ]
     },
     "execution_count": 391,
     "metadata": {},
     "output_type": "execute_result"
    }
   ],
   "source": [
    "dblender_approved_df.shape"
   ]
  },
  {
   "cell_type": "markdown",
   "metadata": {},
   "source": [
    "### Bin Data by Deciles and Remap LenderApproved to 0's/1's"
   ]
  },
  {
   "cell_type": "code",
   "execution_count": 414,
   "metadata": {},
   "outputs": [],
   "source": [
    "view2_df = pd.merge(view_df, dblender_approved_df, how ='left', on ='LoanId') \n",
    "view2_df[\"IsFirstDefault\"]*=1\n",
    "view2_df['Decile_rank'] = pd.qcut(view2_df['score'], 10,labels = False) \n",
    "view2_df['ApprovedLoanAmount'] = view2_df['ApprovedLoanAmount'].fillna(0)\n",
    "view2_df[\"LenderApproved\"] = view2_df[\"LenderApproved\"].replace(to_replace =\"Lender Approved\", value =1) \n",
    "view2_df[\"LenderApproved\"] = view2_df[\"LenderApproved\"].fillna(0)"
   ]
  },
  {
   "cell_type": "code",
   "execution_count": null,
   "metadata": {},
   "outputs": [],
   "source": [
    "view2_df.head()"
   ]
  },
  {
   "cell_type": "code",
   "execution_count": null,
   "metadata": {},
   "outputs": [],
   "source": [
    "view2_df.describe()"
   ]
  },
  {
   "cell_type": "code",
   "execution_count": null,
   "metadata": {},
   "outputs": [],
   "source": [
    "view2_df.info()"
   ]
  },
  {
   "cell_type": "code",
   "execution_count": 418,
   "metadata": {},
   "outputs": [],
   "source": [
    "view2_df=view2_df.drop_duplicates()"
   ]
  },
  {
   "cell_type": "markdown",
   "metadata": {},
   "source": [
    "### Calculate Loans approved,First Defaults and Total Loans per Decile"
   ]
  },
  {
   "cell_type": "code",
   "execution_count": 419,
   "metadata": {},
   "outputs": [],
   "source": [
    "dropnaview2 = view2_df.dropna()\n",
    "sums1 = []\n",
    "sums = []\n",
    "counts = []\n",
    "for x in range(0,10):\n",
    "    sums.append(view2_df[view2_df[\"Decile_rank\"]==x].sum()[\"LenderApproved\"])\n",
    "    counts.append(view2_df[view2_df[\"Decile_rank\"]==x].count()[\"LenderApproved\"])\n",
    "    sums1.append(dropnaview2[dropnaview2[\"Decile_rank\"]==x].sum()[\"IsFirstDefault\"])"
   ]
  },
  {
   "cell_type": "code",
   "execution_count": 420,
   "metadata": {},
   "outputs": [],
   "source": [
    "deciledf = pd.DataFrame(list(zip(range(0,10),sums,sums1,counts)), columns =['Decile','LenderApprovedCount','IsFirstDefaultCount','TotalLoansCount']) "
   ]
  },
  {
   "cell_type": "markdown",
   "metadata": {},
   "source": [
    "### Calculate Percentage of Defaulters per Decile"
   ]
  },
  {
   "cell_type": "code",
   "execution_count": 421,
   "metadata": {},
   "outputs": [],
   "source": [
    "avg = []\n",
    "for x in range(0,10):\n",
    "    avg.append((deciledf['IsFirstDefaultCount'][x]/deciledf['TotalLoansCount'][x])*100)"
   ]
  },
  {
   "cell_type": "code",
   "execution_count": 422,
   "metadata": {},
   "outputs": [],
   "source": [
    "deciledf[\"PercentDefault\"]=avg"
   ]
  },
  {
   "cell_type": "markdown",
   "metadata": {},
   "source": [
    "### Calculate Cumulative Fraction of Defaulters per Decile"
   ]
  },
  {
   "cell_type": "code",
   "execution_count": 423,
   "metadata": {},
   "outputs": [],
   "source": [
    "templist = []\n",
    "sum = 0\n",
    "for x in range(0,10):\n",
    "    sum += (deciledf[\"IsFirstDefaultCount\"][x]/deciledf[\"IsFirstDefaultCount\"].sum())*100\n",
    "    templist.append(sum)"
   ]
  },
  {
   "cell_type": "code",
   "execution_count": 424,
   "metadata": {},
   "outputs": [],
   "source": [
    "deciledf[\"CumulativePercent\"]= templist"
   ]
  },
  {
   "cell_type": "code",
   "execution_count": 425,
   "metadata": {},
   "outputs": [],
   "source": [
    "deciledf[\"LenderPercent\"]=(deciledf[\"LenderApprovedCount\"]/deciledf[\"TotalLoansCount\"])*100"
   ]
  },
  {
   "cell_type": "code",
   "execution_count": 426,
   "metadata": {},
   "outputs": [],
   "source": [
    "testdeciledf=sorted(set(pd.qcut(view2_df['score'], 10,retbins= True)[0]))"
   ]
  },
  {
   "cell_type": "code",
   "execution_count": 427,
   "metadata": {},
   "outputs": [],
   "source": [
    "randomlist = [0,1,2,3,4,5,6,7,8,9]"
   ]
  },
  {
   "cell_type": "code",
   "execution_count": 428,
   "metadata": {},
   "outputs": [],
   "source": [
    "testdfdecile = pd.DataFrame(data = randomlist, columns = [\"Decile\"])"
   ]
  },
  {
   "cell_type": "code",
   "execution_count": 429,
   "metadata": {},
   "outputs": [],
   "source": [
    "testdfdecile[\"Bins\"] = testdeciledf"
   ]
  },
  {
   "cell_type": "markdown",
   "metadata": {},
   "source": [
    "## Preparing the final table"
   ]
  },
  {
   "cell_type": "code",
   "execution_count": 430,
   "metadata": {},
   "outputs": [],
   "source": [
    "finaldf = pd.merge(deciledf, testdfdecile, how ='left', on ='Decile') "
   ]
  },
  {
   "cell_type": "code",
   "execution_count": 431,
   "metadata": {},
   "outputs": [],
   "source": [
    "cols = list(finaldf.columns.values)"
   ]
  },
  {
   "cell_type": "code",
   "execution_count": 432,
   "metadata": {},
   "outputs": [],
   "source": [
    "cols = ['Bins','Decile','TotalLoansCount','LenderApprovedCount','LenderPercent','IsFirstDefaultCount','PercentDefault','CumulativePercent']"
   ]
  },
  {
   "cell_type": "code",
   "execution_count": 433,
   "metadata": {},
   "outputs": [],
   "source": [
    "finaldf=finaldf.reindex(columns=cols)\n",
    "finaldf.columns = ['Score Range', 'Decile','NumberOfApps',\"AppsApproved\",\"FractionAppsApproved\",\"AppsFirstDefault\",\"FractionDefault\",\"CumulativeDefaultFraction\"]"
   ]
  },
  {
   "cell_type": "code",
   "execution_count": 434,
   "metadata": {},
   "outputs": [
    {
     "data": {
      "text/html": [
       "<div>\n",
       "<style scoped>\n",
       "    .dataframe tbody tr th:only-of-type {\n",
       "        vertical-align: middle;\n",
       "    }\n",
       "\n",
       "    .dataframe tbody tr th {\n",
       "        vertical-align: top;\n",
       "    }\n",
       "\n",
       "    .dataframe thead th {\n",
       "        text-align: right;\n",
       "    }\n",
       "</style>\n",
       "<table border=\"1\" class=\"dataframe\">\n",
       "  <thead>\n",
       "    <tr style=\"text-align: right;\">\n",
       "      <th></th>\n",
       "      <th>Score Range</th>\n",
       "      <th>Decile</th>\n",
       "      <th>NumberOfApps</th>\n",
       "      <th>AppsApproved</th>\n",
       "      <th>FractionAppsApproved</th>\n",
       "      <th>AppsFirstDefault</th>\n",
       "      <th>FractionDefault</th>\n",
       "      <th>CumulativeDefaultFraction</th>\n",
       "    </tr>\n",
       "  </thead>\n",
       "  <tbody>\n",
       "    <tr>\n",
       "      <th>0</th>\n",
       "      <td>(107.999, 262.0]</td>\n",
       "      <td>0</td>\n",
       "      <td>3897</td>\n",
       "      <td>591.0</td>\n",
       "      <td>15.2</td>\n",
       "      <td>418.0</td>\n",
       "      <td>10.7</td>\n",
       "      <td>72.1</td>\n",
       "    </tr>\n",
       "    <tr>\n",
       "      <th>1</th>\n",
       "      <td>(262.0, 277.0]</td>\n",
       "      <td>1</td>\n",
       "      <td>5379</td>\n",
       "      <td>289.0</td>\n",
       "      <td>5.4</td>\n",
       "      <td>13.0</td>\n",
       "      <td>0.2</td>\n",
       "      <td>74.3</td>\n",
       "    </tr>\n",
       "    <tr>\n",
       "      <th>2</th>\n",
       "      <td>(277.0, 283.0]</td>\n",
       "      <td>2</td>\n",
       "      <td>4456</td>\n",
       "      <td>298.0</td>\n",
       "      <td>6.7</td>\n",
       "      <td>13.0</td>\n",
       "      <td>0.3</td>\n",
       "      <td>76.6</td>\n",
       "    </tr>\n",
       "    <tr>\n",
       "      <th>3</th>\n",
       "      <td>(283.0, 287.0]</td>\n",
       "      <td>3</td>\n",
       "      <td>4821</td>\n",
       "      <td>444.0</td>\n",
       "      <td>9.2</td>\n",
       "      <td>11.0</td>\n",
       "      <td>0.2</td>\n",
       "      <td>78.4</td>\n",
       "    </tr>\n",
       "    <tr>\n",
       "      <th>4</th>\n",
       "      <td>(287.0, 290.0]</td>\n",
       "      <td>4</td>\n",
       "      <td>5087</td>\n",
       "      <td>577.0</td>\n",
       "      <td>11.3</td>\n",
       "      <td>22.0</td>\n",
       "      <td>0.4</td>\n",
       "      <td>82.2</td>\n",
       "    </tr>\n",
       "    <tr>\n",
       "      <th>5</th>\n",
       "      <td>(290.0, 292.0]</td>\n",
       "      <td>5</td>\n",
       "      <td>4467</td>\n",
       "      <td>599.0</td>\n",
       "      <td>13.4</td>\n",
       "      <td>28.0</td>\n",
       "      <td>0.6</td>\n",
       "      <td>87.1</td>\n",
       "    </tr>\n",
       "    <tr>\n",
       "      <th>6</th>\n",
       "      <td>(292.0, 294.0]</td>\n",
       "      <td>6</td>\n",
       "      <td>2563</td>\n",
       "      <td>383.0</td>\n",
       "      <td>14.9</td>\n",
       "      <td>15.0</td>\n",
       "      <td>0.6</td>\n",
       "      <td>89.7</td>\n",
       "    </tr>\n",
       "    <tr>\n",
       "      <th>7</th>\n",
       "      <td>(294.0, 296.0]</td>\n",
       "      <td>7</td>\n",
       "      <td>5730</td>\n",
       "      <td>924.0</td>\n",
       "      <td>16.1</td>\n",
       "      <td>34.0</td>\n",
       "      <td>0.6</td>\n",
       "      <td>95.5</td>\n",
       "    </tr>\n",
       "    <tr>\n",
       "      <th>8</th>\n",
       "      <td>(296.0, 297.0]</td>\n",
       "      <td>8</td>\n",
       "      <td>2797</td>\n",
       "      <td>451.0</td>\n",
       "      <td>16.1</td>\n",
       "      <td>17.0</td>\n",
       "      <td>0.6</td>\n",
       "      <td>98.4</td>\n",
       "    </tr>\n",
       "    <tr>\n",
       "      <th>9</th>\n",
       "      <td>(297.0, 299.0]</td>\n",
       "      <td>9</td>\n",
       "      <td>2637</td>\n",
       "      <td>491.0</td>\n",
       "      <td>18.6</td>\n",
       "      <td>9.0</td>\n",
       "      <td>0.3</td>\n",
       "      <td>100.0</td>\n",
       "    </tr>\n",
       "  </tbody>\n",
       "</table>\n",
       "</div>"
      ],
      "text/plain": [
       "        Score Range  Decile  NumberOfApps  AppsApproved  FractionAppsApproved  \\\n",
       "0  (107.999, 262.0]       0          3897         591.0                  15.2   \n",
       "1    (262.0, 277.0]       1          5379         289.0                   5.4   \n",
       "2    (277.0, 283.0]       2          4456         298.0                   6.7   \n",
       "3    (283.0, 287.0]       3          4821         444.0                   9.2   \n",
       "4    (287.0, 290.0]       4          5087         577.0                  11.3   \n",
       "5    (290.0, 292.0]       5          4467         599.0                  13.4   \n",
       "6    (292.0, 294.0]       6          2563         383.0                  14.9   \n",
       "7    (294.0, 296.0]       7          5730         924.0                  16.1   \n",
       "8    (296.0, 297.0]       8          2797         451.0                  16.1   \n",
       "9    (297.0, 299.0]       9          2637         491.0                  18.6   \n",
       "\n",
       "   AppsFirstDefault  FractionDefault  CumulativeDefaultFraction  \n",
       "0             418.0             10.7                       72.1  \n",
       "1              13.0              0.2                       74.3  \n",
       "2              13.0              0.3                       76.6  \n",
       "3              11.0              0.2                       78.4  \n",
       "4              22.0              0.4                       82.2  \n",
       "5              28.0              0.6                       87.1  \n",
       "6              15.0              0.6                       89.7  \n",
       "7              34.0              0.6                       95.5  \n",
       "8              17.0              0.6                       98.4  \n",
       "9               9.0              0.3                      100.0  "
      ]
     },
     "execution_count": 434,
     "metadata": {},
     "output_type": "execute_result"
    }
   ],
   "source": [
    "finaldf.round(1)"
   ]
  },
  {
   "cell_type": "markdown",
   "metadata": {},
   "source": [
    "## Key Takeaways"
   ]
  },
  {
   "cell_type": "markdown",
   "metadata": {},
   "source": [
    "1. Loan Applicants with a BL score of <260 are much more likely to default on their first payment.(72.1% of defaults across all loans!) \n",
    "\n",
    "2. Conversely, Applicants with a score of >260 are quite unlikely to default on their first payment.\n",
    "\n",
    "Keeping the above two points in mind, we can safely say that the Bank Login score and the quality of application are <b>strongly correlated.</b>. \n",
    "\n",
    "Another interesting thing to note:\n",
    "\n",
    "3. 89.1% of the Loan Applicants have a BL score of above 260 which account for only 27.7% of all first payment defaults."
   ]
  },
  {
   "cell_type": "markdown",
   "metadata": {},
   "source": [
    "### Opportunities Presented"
   ]
  },
  {
   "cell_type": "markdown",
   "metadata": {},
   "source": [
    "1. A lot of applications with a BL score above 260 are not funded as often as the ones below 260. Maximising funding loans in this bracket will improve the first payment default rates.\n",
    "\n",
    "2. Integrating the BL score should expedite the approvals process, improving the amount of loans funded in the higher deciles."
   ]
  },
  {
   "cell_type": "markdown",
   "metadata": {},
   "source": [
    "### Caveats"
   ]
  },
  {
   "cell_type": "markdown",
   "metadata": {},
   "source": [
    "1. Due to the distribution of loans skewing heavily towards a BL score of 260+, a new question arises, \"How many of these were in the A1/A2 categories in the BV+ score?\"\n",
    "\n",
    "It could be the case that most of these loans could fall into the A1/A2 Categories, and BL score wouldn't apply at all. In that case, we'll need to rethink how to use this score."
   ]
  },
  {
   "cell_type": "code",
   "execution_count": null,
   "metadata": {},
   "outputs": [],
   "source": []
  }
 ],
 "metadata": {
  "kernelspec": {
   "display_name": "Python 3",
   "language": "python",
   "name": "python3"
  },
  "language_info": {
   "codemirror_mode": {
    "name": "ipython",
    "version": 3
   },
   "file_extension": ".py",
   "mimetype": "text/x-python",
   "name": "python",
   "nbconvert_exporter": "python",
   "pygments_lexer": "ipython3",
   "version": "3.6.10"
  }
 },
 "nbformat": 4,
 "nbformat_minor": 2
}
