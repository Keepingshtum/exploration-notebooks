{
 "cells": [
  {
   "cell_type": "code",
   "execution_count": 334,
   "metadata": {},
   "outputs": [],
   "source": [
    "import pymysql\n",
    "import query\n",
    "import pandas as pd\n",
    "import seaborn as sns\n",
    "import sidetable"
   ]
  },
  {
   "cell_type": "markdown",
   "metadata": {},
   "source": [
    "First things first - read the files\n"
   ]
  },
  {
   "cell_type": "code",
   "execution_count": 335,
   "metadata": {},
   "outputs": [],
   "source": [
    "df = pd.read_csv(\"/home/vishal/ftp_files_csv/bt_attr.csv\",usecols=[\"setting_app_id\",\"blp_score\"])"
   ]
  },
  {
   "cell_type": "code",
   "execution_count": 336,
   "metadata": {},
   "outputs": [
    {
     "data": {
      "text/html": [
       "<div>\n",
       "<style scoped>\n",
       "    .dataframe tbody tr th:only-of-type {\n",
       "        vertical-align: middle;\n",
       "    }\n",
       "\n",
       "    .dataframe tbody tr th {\n",
       "        vertical-align: top;\n",
       "    }\n",
       "\n",
       "    .dataframe thead th {\n",
       "        text-align: right;\n",
       "    }\n",
       "</style>\n",
       "<table border=\"1\" class=\"dataframe\">\n",
       "  <thead>\n",
       "    <tr style=\"text-align: right;\">\n",
       "      <th></th>\n",
       "      <th>setting_app_id</th>\n",
       "      <th>blp_score</th>\n",
       "    </tr>\n",
       "  </thead>\n",
       "  <tbody>\n",
       "    <tr>\n",
       "      <th>0</th>\n",
       "      <td>10660872622</td>\n",
       "      <td>298</td>\n",
       "    </tr>\n",
       "    <tr>\n",
       "      <th>1</th>\n",
       "      <td>10661291196</td>\n",
       "      <td>254</td>\n",
       "    </tr>\n",
       "    <tr>\n",
       "      <th>2</th>\n",
       "      <td>10662080444</td>\n",
       "      <td>295</td>\n",
       "    </tr>\n",
       "    <tr>\n",
       "      <th>3</th>\n",
       "      <td>10662493120</td>\n",
       "      <td>298</td>\n",
       "    </tr>\n",
       "    <tr>\n",
       "      <th>4</th>\n",
       "      <td>10664419139</td>\n",
       "      <td>227</td>\n",
       "    </tr>\n",
       "  </tbody>\n",
       "</table>\n",
       "</div>"
      ],
      "text/plain": [
       "   setting_app_id  blp_score\n",
       "0     10660872622        298\n",
       "1     10661291196        254\n",
       "2     10662080444        295\n",
       "3     10662493120        298\n",
       "4     10664419139        227"
      ]
     },
     "execution_count": 336,
     "metadata": {},
     "output_type": "execute_result"
    }
   ],
   "source": [
    "df.head()"
   ]
  },
  {
   "cell_type": "markdown",
   "metadata": {},
   "source": [
    "Rename columns for join"
   ]
  },
  {
   "cell_type": "code",
   "execution_count": 337,
   "metadata": {},
   "outputs": [],
   "source": [
    "scoredf=df.rename(columns={\"setting_app_id\": \"LoanId\", \"blp_score\": \"score\"})"
   ]
  },
  {
   "cell_type": "markdown",
   "metadata": {},
   "source": [
    "We need to query the DB in the below date range."
   ]
  },
  {
   "cell_type": "code",
   "execution_count": 338,
   "metadata": {},
   "outputs": [],
   "source": [
    "dbquerydf = query.iloans(\"SELECT * FROM view_FCL_Loan WHERE OriginationDate between '2019-01-01' AND '2020-04-30'\")"
   ]
  },
  {
   "cell_type": "code",
   "execution_count": 339,
   "metadata": {},
   "outputs": [
    {
     "name": "stdout",
     "output_type": "stream",
     "text": [
      "<class 'pandas.core.frame.DataFrame'>\n",
      "RangeIndex: 16507 entries, 0 to 16506\n",
      "Data columns (total 3 columns):\n",
      "LoanId             16507 non-null float64\n",
      "IsFirstDefault     16265 non-null object\n",
      "OriginationDate    16507 non-null datetime64[ns]\n",
      "dtypes: datetime64[ns](1), float64(1), object(1)\n",
      "memory usage: 387.0+ KB\n"
     ]
    }
   ],
   "source": [
    "dbquerydf[[\"LoanId\",\"IsFirstDefault\",\"OriginationDate\"]].info()"
   ]
  },
  {
   "cell_type": "code",
   "execution_count": 340,
   "metadata": {},
   "outputs": [],
   "source": [
    "dbdf=dbquerydf[[\"LoanId\",\"IsFirstDefault\"]]"
   ]
  },
  {
   "cell_type": "code",
   "execution_count": 341,
   "metadata": {},
   "outputs": [
    {
     "data": {
      "text/html": [
       "<div>\n",
       "<style scoped>\n",
       "    .dataframe tbody tr th:only-of-type {\n",
       "        vertical-align: middle;\n",
       "    }\n",
       "\n",
       "    .dataframe tbody tr th {\n",
       "        vertical-align: top;\n",
       "    }\n",
       "\n",
       "    .dataframe thead th {\n",
       "        text-align: right;\n",
       "    }\n",
       "</style>\n",
       "<table border=\"1\" class=\"dataframe\">\n",
       "  <thead>\n",
       "    <tr style=\"text-align: right;\">\n",
       "      <th></th>\n",
       "      <th>LoanId</th>\n",
       "      <th>IsFirstDefault</th>\n",
       "    </tr>\n",
       "  </thead>\n",
       "  <tbody>\n",
       "    <tr>\n",
       "      <th>0</th>\n",
       "      <td>2.268087e+10</td>\n",
       "      <td>True</td>\n",
       "    </tr>\n",
       "    <tr>\n",
       "      <th>1</th>\n",
       "      <td>2.663282e+10</td>\n",
       "      <td>True</td>\n",
       "    </tr>\n",
       "    <tr>\n",
       "      <th>2</th>\n",
       "      <td>1.866559e+10</td>\n",
       "      <td>True</td>\n",
       "    </tr>\n",
       "    <tr>\n",
       "      <th>3</th>\n",
       "      <td>1.663031e+10</td>\n",
       "      <td>True</td>\n",
       "    </tr>\n",
       "    <tr>\n",
       "      <th>4</th>\n",
       "      <td>1.363352e+10</td>\n",
       "      <td>True</td>\n",
       "    </tr>\n",
       "  </tbody>\n",
       "</table>\n",
       "</div>"
      ],
      "text/plain": [
       "         LoanId IsFirstDefault\n",
       "0  2.268087e+10           True\n",
       "1  2.663282e+10           True\n",
       "2  1.866559e+10           True\n",
       "3  1.663031e+10           True\n",
       "4  1.363352e+10           True"
      ]
     },
     "execution_count": 341,
     "metadata": {},
     "output_type": "execute_result"
    }
   ],
   "source": [
    "dbdf.head()"
   ]
  },
  {
   "cell_type": "markdown",
   "metadata": {},
   "source": [
    "Putting it all together : Left merge dbdf with scoredf on LoanId"
   ]
  },
  {
   "cell_type": "code",
   "execution_count": 342,
   "metadata": {},
   "outputs": [],
   "source": [
    "view_df = pd.merge(scoredf, dbdf, how ='left', on ='LoanId') "
   ]
  },
  {
   "cell_type": "code",
   "execution_count": 343,
   "metadata": {},
   "outputs": [
    {
     "name": "stdout",
     "output_type": "stream",
     "text": [
      "<class 'pandas.core.frame.DataFrame'>\n",
      "Int64Index: 42484 entries, 0 to 42483\n",
      "Data columns (total 3 columns):\n",
      "LoanId            42484 non-null int64\n",
      "score             42484 non-null int64\n",
      "IsFirstDefault    4037 non-null object\n",
      "dtypes: int64(2), object(1)\n",
      "memory usage: 1.3+ MB\n"
     ]
    }
   ],
   "source": [
    "view_df.info()"
   ]
  },
  {
   "cell_type": "code",
   "execution_count": 344,
   "metadata": {},
   "outputs": [
    {
     "data": {
      "text/html": [
       "<div>\n",
       "<style scoped>\n",
       "    .dataframe tbody tr th:only-of-type {\n",
       "        vertical-align: middle;\n",
       "    }\n",
       "\n",
       "    .dataframe tbody tr th {\n",
       "        vertical-align: top;\n",
       "    }\n",
       "\n",
       "    .dataframe thead th {\n",
       "        text-align: right;\n",
       "    }\n",
       "</style>\n",
       "<table border=\"1\" class=\"dataframe\">\n",
       "  <thead>\n",
       "    <tr style=\"text-align: right;\">\n",
       "      <th></th>\n",
       "      <th>LoanId</th>\n",
       "      <th>score</th>\n",
       "      <th>IsFirstDefault</th>\n",
       "    </tr>\n",
       "  </thead>\n",
       "  <tbody>\n",
       "    <tr>\n",
       "      <th>0</th>\n",
       "      <td>10660872622</td>\n",
       "      <td>298</td>\n",
       "      <td>NaN</td>\n",
       "    </tr>\n",
       "    <tr>\n",
       "      <th>1</th>\n",
       "      <td>10661291196</td>\n",
       "      <td>254</td>\n",
       "      <td>NaN</td>\n",
       "    </tr>\n",
       "    <tr>\n",
       "      <th>2</th>\n",
       "      <td>10662080444</td>\n",
       "      <td>295</td>\n",
       "      <td>NaN</td>\n",
       "    </tr>\n",
       "    <tr>\n",
       "      <th>3</th>\n",
       "      <td>10662493120</td>\n",
       "      <td>298</td>\n",
       "      <td>False</td>\n",
       "    </tr>\n",
       "    <tr>\n",
       "      <th>4</th>\n",
       "      <td>10664419139</td>\n",
       "      <td>227</td>\n",
       "      <td>NaN</td>\n",
       "    </tr>\n",
       "  </tbody>\n",
       "</table>\n",
       "</div>"
      ],
      "text/plain": [
       "        LoanId  score IsFirstDefault\n",
       "0  10660872622    298            NaN\n",
       "1  10661291196    254            NaN\n",
       "2  10662080444    295            NaN\n",
       "3  10662493120    298          False\n",
       "4  10664419139    227            NaN"
      ]
     },
     "execution_count": 344,
     "metadata": {},
     "output_type": "execute_result"
    }
   ],
   "source": [
    "view_df.head()"
   ]
  },
  {
   "cell_type": "markdown",
   "metadata": {},
   "source": [
    "Seeing whether the loan has been lender approved"
   ]
  },
  {
   "cell_type": "code",
   "execution_count": 345,
   "metadata": {},
   "outputs": [],
   "source": [
    "query_lender_approved='''\n",
    "select LoanId, \n",
    "LoanPrincipal AS ApprovedLoanAmount,\n",
    "LoanStatus AS LenderApproved \n",
    "from view_FCL_Loan_History\n",
    "where LoanStatus = 'Lender Approved' \n",
    "and TimeAdded >= '2019-01-01'\n",
    "AND TimeAdded <= '2020-04-30'\n",
    "ORDER BY LoanId , TimeAdded DESC\n",
    "'''"
   ]
  },
  {
   "cell_type": "code",
   "execution_count": 346,
   "metadata": {},
   "outputs": [],
   "source": [
    "dblender_approved_df = query.iloans(query_lender_approved)"
   ]
  },
  {
   "cell_type": "code",
   "execution_count": 347,
   "metadata": {},
   "outputs": [
    {
     "data": {
      "text/html": [
       "<div>\n",
       "<style scoped>\n",
       "    .dataframe tbody tr th:only-of-type {\n",
       "        vertical-align: middle;\n",
       "    }\n",
       "\n",
       "    .dataframe tbody tr th {\n",
       "        vertical-align: top;\n",
       "    }\n",
       "\n",
       "    .dataframe thead th {\n",
       "        text-align: right;\n",
       "    }\n",
       "</style>\n",
       "<table border=\"1\" class=\"dataframe\">\n",
       "  <thead>\n",
       "    <tr style=\"text-align: right;\">\n",
       "      <th></th>\n",
       "      <th>LoanId</th>\n",
       "      <th>ApprovedLoanAmount</th>\n",
       "      <th>LenderApproved</th>\n",
       "    </tr>\n",
       "  </thead>\n",
       "  <tbody>\n",
       "    <tr>\n",
       "      <th>0</th>\n",
       "      <td>1.062772e+10</td>\n",
       "      <td>400.0</td>\n",
       "      <td>Lender Approved</td>\n",
       "    </tr>\n",
       "    <tr>\n",
       "      <th>1</th>\n",
       "      <td>1.062772e+10</td>\n",
       "      <td>400.0</td>\n",
       "      <td>Lender Approved</td>\n",
       "    </tr>\n",
       "    <tr>\n",
       "      <th>2</th>\n",
       "      <td>1.062804e+10</td>\n",
       "      <td>300.0</td>\n",
       "      <td>Lender Approved</td>\n",
       "    </tr>\n",
       "    <tr>\n",
       "      <th>3</th>\n",
       "      <td>1.062804e+10</td>\n",
       "      <td>300.0</td>\n",
       "      <td>Lender Approved</td>\n",
       "    </tr>\n",
       "    <tr>\n",
       "      <th>4</th>\n",
       "      <td>1.062804e+10</td>\n",
       "      <td>300.0</td>\n",
       "      <td>Lender Approved</td>\n",
       "    </tr>\n",
       "  </tbody>\n",
       "</table>\n",
       "</div>"
      ],
      "text/plain": [
       "         LoanId  ApprovedLoanAmount   LenderApproved\n",
       "0  1.062772e+10               400.0  Lender Approved\n",
       "1  1.062772e+10               400.0  Lender Approved\n",
       "2  1.062804e+10               300.0  Lender Approved\n",
       "3  1.062804e+10               300.0  Lender Approved\n",
       "4  1.062804e+10               300.0  Lender Approved"
      ]
     },
     "execution_count": 347,
     "metadata": {},
     "output_type": "execute_result"
    }
   ],
   "source": [
    "dblender_approved_df.head()"
   ]
  },
  {
   "cell_type": "code",
   "execution_count": 348,
   "metadata": {},
   "outputs": [],
   "source": [
    "view2_df = pd.merge(view_df, dblender_approved_df, how ='left', on ='LoanId') \n",
    "view2_df[\"IsFirstDefault\"]*=1\n",
    "view2_df['Decile_rank'] = pd.qcut(view2_df['score'], 10,labels = False) \n",
    "view2_df['ApprovedLoanAmount'] = view2_df['ApprovedLoanAmount'].fillna(0)\n",
    "view2_df[\"LenderApproved\"] = view2_df[\"LenderApproved\"].replace(to_replace =\"Lender Approved\", value =1) \n",
    "view2_df[\"LenderApproved\"] = view2_df[\"LenderApproved\"].fillna(0)"
   ]
  },
  {
   "cell_type": "code",
   "execution_count": 349,
   "metadata": {},
   "outputs": [
    {
     "data": {
      "text/html": [
       "<div>\n",
       "<style scoped>\n",
       "    .dataframe tbody tr th:only-of-type {\n",
       "        vertical-align: middle;\n",
       "    }\n",
       "\n",
       "    .dataframe tbody tr th {\n",
       "        vertical-align: top;\n",
       "    }\n",
       "\n",
       "    .dataframe thead th {\n",
       "        text-align: right;\n",
       "    }\n",
       "</style>\n",
       "<table border=\"1\" class=\"dataframe\">\n",
       "  <thead>\n",
       "    <tr style=\"text-align: right;\">\n",
       "      <th></th>\n",
       "      <th>LoanId</th>\n",
       "      <th>score</th>\n",
       "      <th>IsFirstDefault</th>\n",
       "      <th>ApprovedLoanAmount</th>\n",
       "      <th>LenderApproved</th>\n",
       "      <th>Decile_rank</th>\n",
       "    </tr>\n",
       "  </thead>\n",
       "  <tbody>\n",
       "    <tr>\n",
       "      <th>0</th>\n",
       "      <td>10660872622</td>\n",
       "      <td>298</td>\n",
       "      <td>NaN</td>\n",
       "      <td>0.0</td>\n",
       "      <td>0.0</td>\n",
       "      <td>9</td>\n",
       "    </tr>\n",
       "    <tr>\n",
       "      <th>1</th>\n",
       "      <td>10661291196</td>\n",
       "      <td>254</td>\n",
       "      <td>NaN</td>\n",
       "      <td>0.0</td>\n",
       "      <td>0.0</td>\n",
       "      <td>0</td>\n",
       "    </tr>\n",
       "    <tr>\n",
       "      <th>2</th>\n",
       "      <td>10662080444</td>\n",
       "      <td>295</td>\n",
       "      <td>NaN</td>\n",
       "      <td>0.0</td>\n",
       "      <td>0.0</td>\n",
       "      <td>7</td>\n",
       "    </tr>\n",
       "    <tr>\n",
       "      <th>3</th>\n",
       "      <td>10662493120</td>\n",
       "      <td>298</td>\n",
       "      <td>0</td>\n",
       "      <td>300.0</td>\n",
       "      <td>1.0</td>\n",
       "      <td>9</td>\n",
       "    </tr>\n",
       "    <tr>\n",
       "      <th>4</th>\n",
       "      <td>10662493120</td>\n",
       "      <td>298</td>\n",
       "      <td>0</td>\n",
       "      <td>300.0</td>\n",
       "      <td>1.0</td>\n",
       "      <td>9</td>\n",
       "    </tr>\n",
       "  </tbody>\n",
       "</table>\n",
       "</div>"
      ],
      "text/plain": [
       "        LoanId  score IsFirstDefault  ApprovedLoanAmount  LenderApproved  \\\n",
       "0  10660872622    298            NaN                 0.0             0.0   \n",
       "1  10661291196    254            NaN                 0.0             0.0   \n",
       "2  10662080444    295            NaN                 0.0             0.0   \n",
       "3  10662493120    298              0               300.0             1.0   \n",
       "4  10662493120    298              0               300.0             1.0   \n",
       "\n",
       "   Decile_rank  \n",
       "0            9  \n",
       "1            0  \n",
       "2            7  \n",
       "3            9  \n",
       "4            9  "
      ]
     },
     "execution_count": 349,
     "metadata": {},
     "output_type": "execute_result"
    }
   ],
   "source": [
    "view2_df.head()"
   ]
  },
  {
   "cell_type": "code",
   "execution_count": 350,
   "metadata": {},
   "outputs": [
    {
     "data": {
      "text/html": [
       "<div>\n",
       "<style scoped>\n",
       "    .dataframe tbody tr th:only-of-type {\n",
       "        vertical-align: middle;\n",
       "    }\n",
       "\n",
       "    .dataframe tbody tr th {\n",
       "        vertical-align: top;\n",
       "    }\n",
       "\n",
       "    .dataframe thead th {\n",
       "        text-align: right;\n",
       "    }\n",
       "</style>\n",
       "<table border=\"1\" class=\"dataframe\">\n",
       "  <thead>\n",
       "    <tr style=\"text-align: right;\">\n",
       "      <th></th>\n",
       "      <th>LoanId</th>\n",
       "      <th>score</th>\n",
       "      <th>ApprovedLoanAmount</th>\n",
       "      <th>LenderApproved</th>\n",
       "      <th>Decile_rank</th>\n",
       "    </tr>\n",
       "  </thead>\n",
       "  <tbody>\n",
       "    <tr>\n",
       "      <th>count</th>\n",
       "      <td>5.656700e+04</td>\n",
       "      <td>56567.000000</td>\n",
       "      <td>56567.000000</td>\n",
       "      <td>56567.000000</td>\n",
       "      <td>56567.000000</td>\n",
       "    </tr>\n",
       "    <tr>\n",
       "      <th>mean</th>\n",
       "      <td>5.289219e+10</td>\n",
       "      <td>280.839288</td>\n",
       "      <td>116.816276</td>\n",
       "      <td>0.340181</td>\n",
       "      <td>4.306504</td>\n",
       "    </tr>\n",
       "    <tr>\n",
       "      <th>std</th>\n",
       "      <td>2.579737e+10</td>\n",
       "      <td>30.421763</td>\n",
       "      <td>190.444945</td>\n",
       "      <td>0.473774</td>\n",
       "      <td>2.768189</td>\n",
       "    </tr>\n",
       "    <tr>\n",
       "      <th>min</th>\n",
       "      <td>1.066011e+10</td>\n",
       "      <td>108.000000</td>\n",
       "      <td>0.000000</td>\n",
       "      <td>0.000000</td>\n",
       "      <td>0.000000</td>\n",
       "    </tr>\n",
       "    <tr>\n",
       "      <th>25%</th>\n",
       "      <td>3.066559e+10</td>\n",
       "      <td>281.000000</td>\n",
       "      <td>0.000000</td>\n",
       "      <td>0.000000</td>\n",
       "      <td>2.000000</td>\n",
       "    </tr>\n",
       "    <tr>\n",
       "      <th>50%</th>\n",
       "      <td>5.166608e+10</td>\n",
       "      <td>291.000000</td>\n",
       "      <td>0.000000</td>\n",
       "      <td>0.000000</td>\n",
       "      <td>4.000000</td>\n",
       "    </tr>\n",
       "    <tr>\n",
       "      <th>75%</th>\n",
       "      <td>7.467591e+10</td>\n",
       "      <td>295.000000</td>\n",
       "      <td>250.000000</td>\n",
       "      <td>1.000000</td>\n",
       "      <td>7.000000</td>\n",
       "    </tr>\n",
       "    <tr>\n",
       "      <th>max</th>\n",
       "      <td>9.968366e+10</td>\n",
       "      <td>299.000000</td>\n",
       "      <td>5000.000000</td>\n",
       "      <td>1.000000</td>\n",
       "      <td>9.000000</td>\n",
       "    </tr>\n",
       "  </tbody>\n",
       "</table>\n",
       "</div>"
      ],
      "text/plain": [
       "             LoanId         score  ApprovedLoanAmount  LenderApproved  \\\n",
       "count  5.656700e+04  56567.000000        56567.000000    56567.000000   \n",
       "mean   5.289219e+10    280.839288          116.816276        0.340181   \n",
       "std    2.579737e+10     30.421763          190.444945        0.473774   \n",
       "min    1.066011e+10    108.000000            0.000000        0.000000   \n",
       "25%    3.066559e+10    281.000000            0.000000        0.000000   \n",
       "50%    5.166608e+10    291.000000            0.000000        0.000000   \n",
       "75%    7.467591e+10    295.000000          250.000000        1.000000   \n",
       "max    9.968366e+10    299.000000         5000.000000        1.000000   \n",
       "\n",
       "        Decile_rank  \n",
       "count  56567.000000  \n",
       "mean       4.306504  \n",
       "std        2.768189  \n",
       "min        0.000000  \n",
       "25%        2.000000  \n",
       "50%        4.000000  \n",
       "75%        7.000000  \n",
       "max        9.000000  "
      ]
     },
     "execution_count": 350,
     "metadata": {},
     "output_type": "execute_result"
    }
   ],
   "source": [
    "view2_df.describe()"
   ]
  },
  {
   "cell_type": "code",
   "execution_count": 351,
   "metadata": {},
   "outputs": [
    {
     "name": "stdout",
     "output_type": "stream",
     "text": [
      "<class 'pandas.core.frame.DataFrame'>\n",
      "Int64Index: 56567 entries, 0 to 56566\n",
      "Data columns (total 6 columns):\n",
      "LoanId                56567 non-null int64\n",
      "score                 56567 non-null int64\n",
      "IsFirstDefault        14801 non-null object\n",
      "ApprovedLoanAmount    56567 non-null float64\n",
      "LenderApproved        56567 non-null float64\n",
      "Decile_rank           56567 non-null int64\n",
      "dtypes: float64(2), int64(3), object(1)\n",
      "memory usage: 3.0+ MB\n"
     ]
    }
   ],
   "source": [
    "view2_df.info()"
   ]
  },
  {
   "cell_type": "code",
   "execution_count": 352,
   "metadata": {},
   "outputs": [],
   "source": [
    "dropnaview2 = view2_df.dropna()\n",
    "sums1 = []\n",
    "sums = []\n",
    "counts = []\n",
    "for x in range(0,10):\n",
    "    sums.append(view2_df[view2_df[\"Decile_rank\"]==x].sum()[\"LenderApproved\"])\n",
    "    counts.append(view2_df[view2_df[\"Decile_rank\"]==x].count()[\"LenderApproved\"])\n",
    "    sums1.append(dropnaview2[dropnaview2[\"Decile_rank\"]==x].sum()[\"IsFirstDefault\"])"
   ]
  },
  {
   "cell_type": "code",
   "execution_count": 353,
   "metadata": {},
   "outputs": [],
   "source": [
    "deciledf = pd.DataFrame(list(zip(range(0,10),sums,sums1,counts)), columns =['Decile','LenderApprovedCount','IsFirstDefaultCount','TotalLoansCount']) "
   ]
  },
  {
   "cell_type": "markdown",
   "metadata": {},
   "source": [
    "Caveats: I had to consider only the loans for which loans had \"IsFirstDefault\" Data, around 15k/56k loans.\n",
    "The data I've pulled seems to heavily skew towards high scores - look at the distribution of score values!"
   ]
  },
  {
   "cell_type": "code",
   "execution_count": 354,
   "metadata": {},
   "outputs": [],
   "source": [
    "avg = []\n",
    "for x in range(0,10):\n",
    "    avg.append((deciledf['IsFirstDefaultCount'][x]/deciledf['TotalLoansCount'][x])*100)"
   ]
  },
  {
   "cell_type": "code",
   "execution_count": 355,
   "metadata": {},
   "outputs": [],
   "source": [
    "deciledf[\"PercentDefault\"]=avg"
   ]
  },
  {
   "cell_type": "code",
   "execution_count": 356,
   "metadata": {},
   "outputs": [],
   "source": [
    "templist = []\n",
    "sum = 0\n",
    "for x in range(0,10):\n",
    "    sum += (deciledf[\"IsFirstDefaultCount\"][x]/deciledf[\"IsFirstDefaultCount\"].sum())*100\n",
    "    templist.append(sum)"
   ]
  },
  {
   "cell_type": "code",
   "execution_count": 357,
   "metadata": {},
   "outputs": [],
   "source": [
    "deciledf[\"CumulativePercent\"]= templist"
   ]
  },
  {
   "cell_type": "code",
   "execution_count": 358,
   "metadata": {},
   "outputs": [],
   "source": [
    "deciledf[\"LenderPercent\"]=(deciledf[\"LenderApprovedCount\"]/deciledf[\"TotalLoansCount\"])*100"
   ]
  },
  {
   "cell_type": "code",
   "execution_count": 359,
   "metadata": {},
   "outputs": [],
   "source": [
    "testdeciledf=sorted(set(pd.qcut(view2_df['score'], 10,retbins= True)[0]))"
   ]
  },
  {
   "cell_type": "code",
   "execution_count": 360,
   "metadata": {},
   "outputs": [],
   "source": [
    "randomlist = [0,1,2,3,4,5,6,7,8,9]"
   ]
  },
  {
   "cell_type": "code",
   "execution_count": 361,
   "metadata": {},
   "outputs": [],
   "source": [
    "testdfdecile = pd.DataFrame(data = randomlist, columns = [\"Decile\"])"
   ]
  },
  {
   "cell_type": "code",
   "execution_count": 362,
   "metadata": {},
   "outputs": [],
   "source": [
    "testdfdecile[\"Bins\"] = testdeciledf"
   ]
  },
  {
   "cell_type": "markdown",
   "metadata": {},
   "source": [
    "## Preparing the final table"
   ]
  },
  {
   "cell_type": "code",
   "execution_count": 363,
   "metadata": {},
   "outputs": [],
   "source": [
    "finaldf = pd.merge(deciledf, testdfdecile, how ='left', on ='Decile') "
   ]
  },
  {
   "cell_type": "code",
   "execution_count": 364,
   "metadata": {},
   "outputs": [],
   "source": [
    "cols = list(finaldf.columns.values)"
   ]
  },
  {
   "cell_type": "code",
   "execution_count": 365,
   "metadata": {},
   "outputs": [],
   "source": [
    "cols = ['Bins','Decile','TotalLoansCount','LenderApprovedCount','LenderPercent','IsFirstDefaultCount','PercentDefault','CumulativePercent']"
   ]
  },
  {
   "cell_type": "code",
   "execution_count": 366,
   "metadata": {},
   "outputs": [],
   "source": [
    "finaldf=finaldf.reindex(columns=cols)\n",
    "finaldf.columns = ['Score Range', 'Decile','NumberOfApps',\"AppsApproved\",\"FractionAppsApproved\",\"AppsFirstDefault\",\"FractionDefault\",\"CumulativeDefaultFraction\"]"
   ]
  },
  {
   "cell_type": "code",
   "execution_count": 367,
   "metadata": {},
   "outputs": [
    {
     "data": {
      "text/html": [
       "<div>\n",
       "<style scoped>\n",
       "    .dataframe tbody tr th:only-of-type {\n",
       "        vertical-align: middle;\n",
       "    }\n",
       "\n",
       "    .dataframe tbody tr th {\n",
       "        vertical-align: top;\n",
       "    }\n",
       "\n",
       "    .dataframe thead th {\n",
       "        text-align: right;\n",
       "    }\n",
       "</style>\n",
       "<table border=\"1\" class=\"dataframe\">\n",
       "  <thead>\n",
       "    <tr style=\"text-align: right;\">\n",
       "      <th></th>\n",
       "      <th>Score Range</th>\n",
       "      <th>Decile</th>\n",
       "      <th>NumberOfApps</th>\n",
       "      <th>AppsApproved</th>\n",
       "      <th>FractionAppsApproved</th>\n",
       "      <th>AppsFirstDefault</th>\n",
       "      <th>FractionDefault</th>\n",
       "      <th>CumulativeDefaultFraction</th>\n",
       "    </tr>\n",
       "  </thead>\n",
       "  <tbody>\n",
       "    <tr>\n",
       "      <th>0</th>\n",
       "      <td>(107.999, 260.0]</td>\n",
       "      <td>0</td>\n",
       "      <td>5747</td>\n",
       "      <td>2381.0</td>\n",
       "      <td>41.4</td>\n",
       "      <td>1656.0</td>\n",
       "      <td>28.8</td>\n",
       "      <td>72.2</td>\n",
       "    </tr>\n",
       "    <tr>\n",
       "      <th>1</th>\n",
       "      <td>(260.0, 278.0]</td>\n",
       "      <td>1</td>\n",
       "      <td>6147</td>\n",
       "      <td>983.0</td>\n",
       "      <td>16.0</td>\n",
       "      <td>47.0</td>\n",
       "      <td>0.8</td>\n",
       "      <td>74.2</td>\n",
       "    </tr>\n",
       "    <tr>\n",
       "      <th>2</th>\n",
       "      <td>(278.0, 284.0]</td>\n",
       "      <td>2</td>\n",
       "      <td>5333</td>\n",
       "      <td>1101.0</td>\n",
       "      <td>20.6</td>\n",
       "      <td>43.0</td>\n",
       "      <td>0.8</td>\n",
       "      <td>76.1</td>\n",
       "    </tr>\n",
       "    <tr>\n",
       "      <th>3</th>\n",
       "      <td>(284.0, 288.0]</td>\n",
       "      <td>3</td>\n",
       "      <td>6127</td>\n",
       "      <td>1684.0</td>\n",
       "      <td>27.5</td>\n",
       "      <td>35.0</td>\n",
       "      <td>0.6</td>\n",
       "      <td>77.6</td>\n",
       "    </tr>\n",
       "    <tr>\n",
       "      <th>4</th>\n",
       "      <td>(288.0, 291.0]</td>\n",
       "      <td>4</td>\n",
       "      <td>6744</td>\n",
       "      <td>2167.0</td>\n",
       "      <td>32.1</td>\n",
       "      <td>89.0</td>\n",
       "      <td>1.3</td>\n",
       "      <td>81.5</td>\n",
       "    </tr>\n",
       "    <tr>\n",
       "      <th>5</th>\n",
       "      <td>(291.0, 293.0]</td>\n",
       "      <td>5</td>\n",
       "      <td>6216</td>\n",
       "      <td>2296.0</td>\n",
       "      <td>36.9</td>\n",
       "      <td>112.0</td>\n",
       "      <td>1.8</td>\n",
       "      <td>86.4</td>\n",
       "    </tr>\n",
       "    <tr>\n",
       "      <th>6</th>\n",
       "      <td>(293.0, 294.0]</td>\n",
       "      <td>6</td>\n",
       "      <td>3663</td>\n",
       "      <td>1460.0</td>\n",
       "      <td>39.9</td>\n",
       "      <td>77.0</td>\n",
       "      <td>2.1</td>\n",
       "      <td>89.8</td>\n",
       "    </tr>\n",
       "    <tr>\n",
       "      <th>7</th>\n",
       "      <td>(294.0, 296.0]</td>\n",
       "      <td>7</td>\n",
       "      <td>8404</td>\n",
       "      <td>3533.0</td>\n",
       "      <td>42.0</td>\n",
       "      <td>140.0</td>\n",
       "      <td>1.7</td>\n",
       "      <td>95.9</td>\n",
       "    </tr>\n",
       "    <tr>\n",
       "      <th>8</th>\n",
       "      <td>(296.0, 297.0]</td>\n",
       "      <td>8</td>\n",
       "      <td>4124</td>\n",
       "      <td>1749.0</td>\n",
       "      <td>42.4</td>\n",
       "      <td>69.0</td>\n",
       "      <td>1.7</td>\n",
       "      <td>98.9</td>\n",
       "    </tr>\n",
       "    <tr>\n",
       "      <th>9</th>\n",
       "      <td>(297.0, 299.0]</td>\n",
       "      <td>9</td>\n",
       "      <td>4062</td>\n",
       "      <td>1889.0</td>\n",
       "      <td>46.5</td>\n",
       "      <td>26.0</td>\n",
       "      <td>0.6</td>\n",
       "      <td>100.0</td>\n",
       "    </tr>\n",
       "  </tbody>\n",
       "</table>\n",
       "</div>"
      ],
      "text/plain": [
       "        Score Range  Decile  NumberOfApps  AppsApproved  FractionAppsApproved  \\\n",
       "0  (107.999, 260.0]       0          5747        2381.0                  41.4   \n",
       "1    (260.0, 278.0]       1          6147         983.0                  16.0   \n",
       "2    (278.0, 284.0]       2          5333        1101.0                  20.6   \n",
       "3    (284.0, 288.0]       3          6127        1684.0                  27.5   \n",
       "4    (288.0, 291.0]       4          6744        2167.0                  32.1   \n",
       "5    (291.0, 293.0]       5          6216        2296.0                  36.9   \n",
       "6    (293.0, 294.0]       6          3663        1460.0                  39.9   \n",
       "7    (294.0, 296.0]       7          8404        3533.0                  42.0   \n",
       "8    (296.0, 297.0]       8          4124        1749.0                  42.4   \n",
       "9    (297.0, 299.0]       9          4062        1889.0                  46.5   \n",
       "\n",
       "   AppsFirstDefault  FractionDefault  CumulativeDefaultFraction  \n",
       "0            1656.0             28.8                       72.2  \n",
       "1              47.0              0.8                       74.2  \n",
       "2              43.0              0.8                       76.1  \n",
       "3              35.0              0.6                       77.6  \n",
       "4              89.0              1.3                       81.5  \n",
       "5             112.0              1.8                       86.4  \n",
       "6              77.0              2.1                       89.8  \n",
       "7             140.0              1.7                       95.9  \n",
       "8              69.0              1.7                       98.9  \n",
       "9              26.0              0.6                      100.0  "
      ]
     },
     "execution_count": 367,
     "metadata": {},
     "output_type": "execute_result"
    }
   ],
   "source": [
    "finaldf.round(1)"
   ]
  }
 ],
 "metadata": {
  "kernelspec": {
   "display_name": "Python 3",
   "language": "python",
   "name": "python3"
  },
  "language_info": {
   "codemirror_mode": {
    "name": "ipython",
    "version": 3
   },
   "file_extension": ".py",
   "mimetype": "text/x-python",
   "name": "python",
   "nbconvert_exporter": "python",
   "pygments_lexer": "ipython3",
   "version": "3.6.10"
  }
 },
 "nbformat": 4,
 "nbformat_minor": 2
}
