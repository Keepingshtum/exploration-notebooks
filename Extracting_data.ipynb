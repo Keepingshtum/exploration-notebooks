{
 "cells": [
  {
   "cell_type": "code",
   "execution_count": null,
   "metadata": {},
   "outputs": [],
   "source": [
    "from IPython.core.display import display, HTML\n",
    "display(HTML(\"<style>.container { width:100% !important; }</style>\"))"
   ]
  },
  {
   "cell_type": "markdown",
   "metadata": {},
   "source": [
    "## Importing useful libraries"
   ]
  },
  {
   "cell_type": "code",
   "execution_count": null,
   "metadata": {},
   "outputs": [],
   "source": [
    "import warnings\n",
    "warnings.filterwarnings('ignore')\n",
    "import sys\n",
    "import os\n",
    "import pandas as pd\n",
    "import numpy as np\n",
    "import json\n",
    "import joblib\n",
    "import re\n",
    "import multiprocessing as mp"
   ]
  },
  {
   "cell_type": "markdown",
   "metadata": {},
   "source": [
    "### Adding some paths to use from which we would be fetching useful modules like '/home/shared/utils' has query module which is used to connect to the server without showing the credentials!!"
   ]
  },
  {
   "cell_type": "code",
   "execution_count": null,
   "metadata": {},
   "outputs": [],
   "source": [
    "sys.path.insert(0, os.getcwd())\n",
    "sys.path.insert(0, '/home/shared/utils')\n",
    "#sys.path.insert(0, '/home/vishal/refactoring_pipeline')"
   ]
  },
  {
   "cell_type": "code",
   "execution_count": null,
   "metadata": {
    "scrolled": true
   },
   "outputs": [],
   "source": [
    "#from helper import fetch_checking_acct_txns\n",
    "#import EDA as eda\n",
    "import query as q"
   ]
  },
  {
   "cell_type": "markdown",
   "metadata": {},
   "source": [
    "### NCPU is for multiprocessing. The function below takes all the CPU cores available in the system except 2 and if the system only has 2 cores, it uses only one of the cores to perform operations!!(FUn fact:The server which we are working on has 16 spu cores!!)"
   ]
  },
  {
   "cell_type": "code",
   "execution_count": null,
   "metadata": {},
   "outputs": [],
   "source": [
    "NCPU = mp.cpu_count() - 2 if mp.cpu_count() > 2 else 1"
   ]
  },
  {
   "cell_type": "markdown",
   "metadata": {},
   "source": [
    "### Query to fetch all accepted lead's credit statements for FreedomCash from iloans!!"
   ]
  },
  {
   "cell_type": "code",
   "execution_count": null,
   "metadata": {},
   "outputs": [],
   "source": [
    "def fetch_required_bank_reports(start, end):\n",
    "    query = f'''\n",
    "                SELECT  \n",
    "                        GCDL.LoanId,\n",
    "                        GCD.BankTransactionId,\n",
    "                        GCD.BankReportData,\n",
    "                        LA.EmployerName,\n",
    "                        GCD.TimeAdded\n",
    "                FROM view_FCL_GetCreditData GCD\n",
    "                LEFT JOIN view_FCL_GetCreditDataLoan GCDL ON GCD.BankTransactionId = GCDL.BankTransactionId\n",
    "                LEFT JOIN view_FCL_LeadAccepted  LA ON LA.LoanId = GCDL.LoanId\n",
    "                WHERE GCD.TimeAdded >= {start}\n",
    "                AND GCD.TimeAdded <= {end}\n",
    "                AND GCD.ReportStatus  = 'COMPLETE'\n",
    "                AND LA.MerchantId in (15, 18)\n",
    "            '''\n",
    "    df = q.iloans(query)\n",
    "    return df"
   ]
  },
  {
   "cell_type": "markdown",
   "metadata": {},
   "source": [
    "### Query to fetch the json data which has all the income related information from bankapp"
   ]
  },
  {
   "cell_type": "code",
   "execution_count": null,
   "metadata": {},
   "outputs": [],
   "source": [
    "def fetch_required_bank_app(start, end):\n",
    "    query = f'''\n",
    "                SELECT\n",
    "                    loan_id as LoanId,\n",
    "                    json\n",
    "                FROM loan\n",
    "                WHERE campaign like '%Production%'\n",
    "                AND STR_TO_DATE(entered_date, '%m/%d/%Y') >= STR_TO_DATE({start}, '%Y-%m-%d')\n",
    "                AND STR_TO_DATE(entered_date, '%m/%d/%Y') <= STR_TO_DATE({end}, '%Y-%m-%d')\n",
    "             '''\n",
    "    df = q.bankapp(query)\n",
    "    return df"
   ]
  },
  {
   "cell_type": "markdown",
   "metadata": {},
   "source": [
    "### The below function transforms the bank statement like the loan ids are of float type, it coverts it into str type and strips off the date part from timeadded feature"
   ]
  },
  {
   "cell_type": "code",
   "execution_count": null,
   "metadata": {},
   "outputs": [],
   "source": [
    "def modify_statement(df):\n",
    "    \"\"\"Modifies extracted bank statement data\n",
    "    Args:\n",
    "        df (pandas df): Dataframe consisting all the required columns from predicon model database\n",
    "    Returns:\n",
    "        pandas df: Modified dataframe\n",
    "    \"\"\"\n",
    "    df['LoanId'] = df['LoanId'].astype(str).map(lambda x : x.split('.')[0])\n",
    "    df['TimeAdded'] = pd.to_datetime(df['TimeAdded'].map(lambda x : x.date()))\n",
    "    return df"
   ]
  },
  {
   "cell_type": "markdown",
   "metadata": {},
   "source": [
    "### Fetching bankreports and modifying them, then fetching bankapp data"
   ]
  },
  {
   "cell_type": "code",
   "execution_count": null,
   "metadata": {},
   "outputs": [],
   "source": [
    "df_bankreports = fetch_required_bank_reports(\"'2020-01-07'\", \"'2020-02-07'\")"
   ]
  },
  {
   "cell_type": "code",
   "execution_count": null,
   "metadata": {},
   "outputs": [],
   "source": [
    "df_bankapp = fetch_required_bank_app(\"'2020-01-07'\", \"'2020-02-07'\")"
   ]
  },
  {
   "cell_type": "code",
   "execution_count": null,
   "metadata": {},
   "outputs": [],
   "source": [
    "df_bankreports = modify_statement(df_bankreports)"
   ]
  },
  {
   "cell_type": "markdown",
   "metadata": {},
   "source": [
    "### Merging the bankapp data with and bankreports"
   ]
  },
  {
   "cell_type": "code",
   "execution_count": null,
   "metadata": {},
   "outputs": [],
   "source": [
    "df = pd.merge(df_bankapp, df_bankreports, on = 'LoanId', how = 'inner')"
   ]
  },
  {
   "cell_type": "code",
   "execution_count": null,
   "metadata": {},
   "outputs": [],
   "source": [
    "df.iloc[:1000, :].to_csv('credit_statements_1000.csv', index = False)"
   ]
  }
 ],
 "metadata": {
  "kernelspec": {
   "display_name": "predicon_uw_model",
   "language": "python",
   "name": "predicon_uw_model"
  },
  "language_info": {
   "codemirror_mode": {
    "name": "ipython",
    "version": 3
   },
   "file_extension": ".py",
   "mimetype": "text/x-python",
   "name": "python",
   "nbconvert_exporter": "python",
   "pygments_lexer": "ipython3",
   "version": "3.7.7"
  }
 },
 "nbformat": 4,
 "nbformat_minor": 2
}
